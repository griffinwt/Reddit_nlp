{
 "cells": [
  {
   "cell_type": "markdown",
   "metadata": {},
   "source": [
    "## 03 Modeling  \n",
    "\n",
    "(introduction here)"
   ]
  },
  {
   "cell_type": "markdown",
   "metadata": {},
   "source": [
    "### Skip Ahead:  \n",
    "\n",
    "[Model 1](#Model-1)  \n",
    "[Model 2](#Model-2)  \n",
    "[Model 3](#Model-3)  \n",
    "[Model 4](#Model-4)  \n",
    "[Model 5](#Model-5)  \n",
    "[Significant Words](#Significant-Words)  \n",
    "[Model 6](#Model-6)  \n",
    "[Coefficient Considerations](#Coefficient-Considerations)"
   ]
  },
  {
   "cell_type": "code",
   "execution_count": 1,
   "metadata": {},
   "outputs": [],
   "source": [
    "#imports\n",
    "#common code:\n",
    "from scipy.stats import ttest_ind\n",
    "import pandas as pd\n",
    "import numpy as np\n",
    "from scipy import stats\n",
    "import seaborn as sns\n",
    "import matplotlib.pyplot as plt\n",
    "import re\n",
    "#week 3\n",
    "from sklearn.linear_model import LinearRegression\n",
    "from sklearn import metrics\n",
    "import statsmodels.api as sm\n",
    "from sklearn.model_selection import train_test_split, cross_val_score\n",
    "from sklearn.preprocessing import StandardScaler, PolynomialFeatures\n",
    "#week 4\n",
    "from sklearn.linear_model import Ridge\n",
    "from sklearn.linear_model import RidgeCV\n",
    "from sklearn.linear_model import Lasso, LassoCV\n",
    "from sklearn.linear_model import LogisticRegression\n",
    "from sklearn.model_selection import train_test_split, GridSearchCV\n",
    "from sklearn.preprocessing import StandardScaler\n",
    "from sklearn.neighbors import KNeighborsClassifier\n",
    "from sklearn.pipeline import Pipeline\n",
    "from sklearn.metrics import confusion_matrix, plot_confusion_matrix\n",
    "#week 5\n",
    "import requests\n",
    "from bs4 import BeautifulSoup\n",
    "import time\n",
    "from sklearn.feature_extraction.text import CountVectorizer, TfidfVectorizer\n",
    "from sklearn.naive_bayes import MultinomialNB\n"
   ]
  },
  {
   "cell_type": "code",
   "execution_count": 2,
   "metadata": {},
   "outputs": [],
   "source": [
    "df = pd.read_csv('./sub_data/clean_subs.csv')"
   ]
  },
  {
   "cell_type": "code",
   "execution_count": 3,
   "metadata": {},
   "outputs": [
    {
     "data": {
      "text/html": [
       "<div>\n",
       "<style scoped>\n",
       "    .dataframe tbody tr th:only-of-type {\n",
       "        vertical-align: middle;\n",
       "    }\n",
       "\n",
       "    .dataframe tbody tr th {\n",
       "        vertical-align: top;\n",
       "    }\n",
       "\n",
       "    .dataframe thead th {\n",
       "        text-align: right;\n",
       "    }\n",
       "</style>\n",
       "<table border=\"1\" class=\"dataframe\">\n",
       "  <thead>\n",
       "    <tr style=\"text-align: right;\">\n",
       "      <th></th>\n",
       "      <th>subreddit</th>\n",
       "      <th>id</th>\n",
       "      <th>author</th>\n",
       "      <th>num_comments</th>\n",
       "      <th>selftext</th>\n",
       "      <th>title</th>\n",
       "      <th>upvote_ratio</th>\n",
       "      <th>url</th>\n",
       "      <th>all_text</th>\n",
       "    </tr>\n",
       "  </thead>\n",
       "  <tbody>\n",
       "    <tr>\n",
       "      <th>0</th>\n",
       "      <td>0</td>\n",
       "      <td>jc3ty3</td>\n",
       "      <td>jaaytf_</td>\n",
       "      <td>2</td>\n",
       "      <td>hey so my xbox one is turning on and instantly...</td>\n",
       "      <td>xbox one problems:)</td>\n",
       "      <td>1.0</td>\n",
       "      <td>https://www.reddit.com/r/xbox/comments/jc3ty3/...</td>\n",
       "      <td>xbox one problems:) hey so my xbox one is turn...</td>\n",
       "    </tr>\n",
       "    <tr>\n",
       "      <th>1</th>\n",
       "      <td>0</td>\n",
       "      <td>jc3tg4</td>\n",
       "      <td>Matty_Rts</td>\n",
       "      <td>0</td>\n",
       "      <td>For context, I purchased game pass on Xbox One...</td>\n",
       "      <td>My Preorder download for Beyond Light Disappea...</td>\n",
       "      <td>1.0</td>\n",
       "      <td>https://www.reddit.com/r/xbox/comments/jc3tg4/...</td>\n",
       "      <td>My Preorder download for Beyond Light Disappea...</td>\n",
       "    </tr>\n",
       "    <tr>\n",
       "      <th>2</th>\n",
       "      <td>0</td>\n",
       "      <td>jc39t3</td>\n",
       "      <td>Rorydo44</td>\n",
       "      <td>2</td>\n",
       "      <td>I had $50 worth of gift cards in my account an...</td>\n",
       "      <td>Missing gift cards</td>\n",
       "      <td>1.0</td>\n",
       "      <td>https://www.reddit.com/r/xbox/comments/jc39t3/...</td>\n",
       "      <td>Missing gift cards I had $50 worth of gift car...</td>\n",
       "    </tr>\n",
       "    <tr>\n",
       "      <th>3</th>\n",
       "      <td>0</td>\n",
       "      <td>jc37vv</td>\n",
       "      <td>NonsenseText</td>\n",
       "      <td>0</td>\n",
       "      <td>Hi everyone! \\n\\nI would like to learn more ab...</td>\n",
       "      <td>Advice for Xbox online security?</td>\n",
       "      <td>1.0</td>\n",
       "      <td>https://www.reddit.com/r/xbox/comments/jc37vv/...</td>\n",
       "      <td>Advice for Xbox online security? Hi everyone! ...</td>\n",
       "    </tr>\n",
       "    <tr>\n",
       "      <th>4</th>\n",
       "      <td>0</td>\n",
       "      <td>jc36eg</td>\n",
       "      <td>Mondo-Butter-21</td>\n",
       "      <td>4</td>\n",
       "      <td>Srsly tho, how tf did Doom Eternal get onto th...</td>\n",
       "      <td>Anyone else think it’s fucking hilarious that ...</td>\n",
       "      <td>1.0</td>\n",
       "      <td>https://www.reddit.com/r/xbox/comments/jc36eg/...</td>\n",
       "      <td>Anyone else think it’s fucking hilarious that ...</td>\n",
       "    </tr>\n",
       "  </tbody>\n",
       "</table>\n",
       "</div>"
      ],
      "text/plain": [
       "   subreddit      id           author  num_comments  \\\n",
       "0          0  jc3ty3          jaaytf_             2   \n",
       "1          0  jc3tg4        Matty_Rts             0   \n",
       "2          0  jc39t3         Rorydo44             2   \n",
       "3          0  jc37vv     NonsenseText             0   \n",
       "4          0  jc36eg  Mondo-Butter-21             4   \n",
       "\n",
       "                                            selftext  \\\n",
       "0  hey so my xbox one is turning on and instantly...   \n",
       "1  For context, I purchased game pass on Xbox One...   \n",
       "2  I had $50 worth of gift cards in my account an...   \n",
       "3  Hi everyone! \\n\\nI would like to learn more ab...   \n",
       "4  Srsly tho, how tf did Doom Eternal get onto th...   \n",
       "\n",
       "                                               title  upvote_ratio  \\\n",
       "0                                xbox one problems:)           1.0   \n",
       "1  My Preorder download for Beyond Light Disappea...           1.0   \n",
       "2                                 Missing gift cards           1.0   \n",
       "3                   Advice for Xbox online security?           1.0   \n",
       "4  Anyone else think it’s fucking hilarious that ...           1.0   \n",
       "\n",
       "                                                 url  \\\n",
       "0  https://www.reddit.com/r/xbox/comments/jc3ty3/...   \n",
       "1  https://www.reddit.com/r/xbox/comments/jc3tg4/...   \n",
       "2  https://www.reddit.com/r/xbox/comments/jc39t3/...   \n",
       "3  https://www.reddit.com/r/xbox/comments/jc37vv/...   \n",
       "4  https://www.reddit.com/r/xbox/comments/jc36eg/...   \n",
       "\n",
       "                                            all_text  \n",
       "0  xbox one problems:) hey so my xbox one is turn...  \n",
       "1  My Preorder download for Beyond Light Disappea...  \n",
       "2  Missing gift cards I had $50 worth of gift car...  \n",
       "3  Advice for Xbox online security? Hi everyone! ...  \n",
       "4  Anyone else think it’s fucking hilarious that ...  "
      ]
     },
     "execution_count": 3,
     "metadata": {},
     "output_type": "execute_result"
    }
   ],
   "source": [
    "df.head() #preview"
   ]
  },
  {
   "cell_type": "code",
   "execution_count": 4,
   "metadata": {},
   "outputs": [],
   "source": [
    "#referring to lesson 5.05 lecture notes"
   ]
  },
  {
   "cell_type": "code",
   "execution_count": 5,
   "metadata": {},
   "outputs": [],
   "source": [
    "X = df['all_text']\n",
    "y = df['subreddit']"
   ]
  },
  {
   "cell_type": "code",
   "execution_count": 6,
   "metadata": {},
   "outputs": [
    {
     "data": {
      "text/plain": [
       "1    0.50237\n",
       "0    0.49763\n",
       "Name: subreddit, dtype: float64"
      ]
     },
     "execution_count": 6,
     "metadata": {},
     "output_type": "execute_result"
    }
   ],
   "source": [
    "y.value_counts(normalize=True)"
   ]
  },
  {
   "cell_type": "markdown",
   "metadata": {},
   "source": [
    "It looks like my distribution between the subreddits after cleaning is very close to 50/50, which is good! As a reminder, 1 is for Playstation and 0 is for Xbox."
   ]
  },
  {
   "cell_type": "code",
   "execution_count": 7,
   "metadata": {},
   "outputs": [],
   "source": [
    "#split data\n",
    "X_train, X_test, y_train, y_test = train_test_split(X,y, random_state=17)"
   ]
  },
  {
   "cell_type": "code",
   "execution_count": 8,
   "metadata": {},
   "outputs": [
    {
     "data": {
      "text/plain": [
       "1    0.500102\n",
       "0    0.499898\n",
       "Name: subreddit, dtype: float64"
      ]
     },
     "execution_count": 8,
     "metadata": {},
     "output_type": "execute_result"
    }
   ],
   "source": [
    "y_train.value_counts(normalize=True)"
   ]
  },
  {
   "cell_type": "code",
   "execution_count": 9,
   "metadata": {},
   "outputs": [
    {
     "data": {
      "text/plain": [
       "1    0.509172\n",
       "0    0.490828\n",
       "Name: subreddit, dtype: float64"
      ]
     },
     "execution_count": 9,
     "metadata": {},
     "output_type": "execute_result"
    }
   ],
   "source": [
    "y_test.value_counts(normalize=True)"
   ]
  },
  {
   "cell_type": "markdown",
   "metadata": {},
   "source": [
    "Okay - it looks like my train and test data distribution reflects my true y distribution very well. Excellent. "
   ]
  },
  {
   "cell_type": "code",
   "execution_count": null,
   "metadata": {},
   "outputs": [],
   "source": []
  },
  {
   "cell_type": "code",
   "execution_count": null,
   "metadata": {},
   "outputs": [],
   "source": []
  },
  {
   "cell_type": "markdown",
   "metadata": {},
   "source": [
    "I'm going to start by CountVectorizing the data and then a Naive Bayes model. The easiest way to accomplish both will be performing them concurrently using a pipeline. I will probably want to try the Term Frequency-Inverse Document Frequency (TF-IDF) Vectorizer as well so I'm going to build a pipeline making function that can handle either."
   ]
  },
  {
   "cell_type": "markdown",
   "metadata": {},
   "source": [
    "### Model 1"
   ]
  },
  {
   "cell_type": "code",
   "execution_count": 10,
   "metadata": {},
   "outputs": [],
   "source": [
    "def pipemaker(scaler, classifier):\n",
    "    if scaler == 'cvec':\n",
    "        item1 = ('cvec', CountVectorizer())\n",
    "    elif scaler == 'tvec':\n",
    "        item1 = ('tvec', TfidfVectorizer())\n",
    "    else:\n",
    "        return 'Error. Please enter \"cvec\" or \"tvec\"'\n",
    "    if classifier == 'nb':\n",
    "        item2 = ('nb', MultinomialNB())\n",
    "    else:\n",
    "        return 'Error. Please enter \"nb\"'\n",
    "    return Pipeline([item1, item2])"
   ]
  },
  {
   "cell_type": "code",
   "execution_count": 11,
   "metadata": {},
   "outputs": [
    {
     "name": "stdout",
     "output_type": "stream",
     "text": [
      "Pipeline(steps=[('cvec', CountVectorizer()), ('nb', MultinomialNB())])\n"
     ]
    }
   ],
   "source": [
    "pipe = pipemaker('cvec', 'nb') #test\n",
    "print(pipe)"
   ]
  },
  {
   "cell_type": "markdown",
   "metadata": {},
   "source": [
    "Rather than just picking one set of paramaters and proceeding, I'm going to pause here and write a reusable function to set paramaters so that as I tweak my model, it will be easy to update the parameters and run the model again."
   ]
  },
  {
   "cell_type": "code",
   "execution_count": 12,
   "metadata": {},
   "outputs": [],
   "source": [
    "def set_params(scaler, max_feat_list, min_df_list, max_df_list, ngram_list):\n",
    "    if scaler != 'cvec' and scaler != 'tvec':\n",
    "        return 'Please enter either cvec or tvec as the first item.'\n",
    "    pipe_params = {f'{scaler}__max_features': max_feat_list,\n",
    "              f'{scaler}__min_df': min_df_list,\n",
    "              f'{scaler}__max_df': max_df_list,\n",
    "              f'{scaler}__ngram_range': ngram_list}\n",
    "    return pipe_params"
   ]
  },
  {
   "cell_type": "code",
   "execution_count": 13,
   "metadata": {},
   "outputs": [
    {
     "data": {
      "text/plain": [
       "{'cvec__max_features': [200, 300, 400],\n",
       " 'cvec__min_df': [2, 3],\n",
       " 'cvec__max_df': [0.9, 0.95],\n",
       " 'cvec__ngram_range': [(1, 1), (1, 2)]}"
      ]
     },
     "execution_count": 13,
     "metadata": {},
     "output_type": "execute_result"
    }
   ],
   "source": [
    "set_params('cvec', [200,300,400], [2,3], [.9, .95], [(1,1), (1,2)]) #test"
   ]
  },
  {
   "cell_type": "markdown",
   "metadata": {},
   "source": [
    "There we go - now I can enter a scaler and 4 lists and get back a parameters dictionary. I'm going to put both of these functions into a python file so I can call them in regularly without clogging up my notebook. I can also add other things the the python file as I go along if it proves helpful."
   ]
  },
  {
   "cell_type": "code",
   "execution_count": 14,
   "metadata": {},
   "outputs": [],
   "source": [
    "import p3_utils as utils #import my python file"
   ]
  },
  {
   "cell_type": "code",
   "execution_count": 15,
   "metadata": {},
   "outputs": [],
   "source": [
    "#https://scikit-learn.org/stable/modules/generated/sklearn.feature_extraction.text.CountVectorizer.html\n",
    "#https://scikit-learn.org/stable/modules/generated/sklearn.feature_extraction.text.TfidfVectorizer.html"
   ]
  },
  {
   "cell_type": "code",
   "execution_count": 16,
   "metadata": {},
   "outputs": [],
   "source": [
    "maxfeats = [10_000, 20_000] #try different volume of features\n",
    "mindf = [3, 5] #minimum word frequency to be included in the model\n",
    "maxdf = [.9, .95] #cutoff for words more frequent than percentage (float) threshhold\n",
    "ngrams = [(1,1),(1,2)] #range of combinations of words to try (minimum, maximum)\n",
    "scaler = 'cvec'\n",
    "classifier = 'nb'\n",
    "\n",
    "#pipe = utils.pipemaker(scaler, classifier)\n",
    "#params = utils.set_params(scaler, maxfeats, mindf, maxdf, ngrams)\n",
    "\n",
    "#gs = GridSearchCV(pipe, params, #load hyperparameters\n",
    "                  #n_jobs=4,        #use 4 cores to process faster\n",
    "                  #cv=5, verbose=1) #using 5 folds and lower verbose to limit messages returned"
   ]
  },
  {
   "cell_type": "code",
   "execution_count": 17,
   "metadata": {},
   "outputs": [],
   "source": [
    "#gs.fit(X_train, y_train)"
   ]
  },
  {
   "cell_type": "markdown",
   "metadata": {},
   "source": [
    "This would be a good place to add another function to my .py file - one that gives me the best parameters, scores training and test data, and creates a confusion matrix for me."
   ]
  },
  {
   "cell_type": "code",
   "execution_count": 18,
   "metadata": {},
   "outputs": [],
   "source": [
    "def score_model(model, X_train, y_train, X_test, y_test):\n",
    "    print(f'The best parameters are: {model.best_params_}')\n",
    "    print(f'The best training score was: {model.best_score_}')\n",
    "    print(f'The test score is: {model.score(X_test, y_test)}')\n",
    "    preds = model.predict(X_test)\n",
    "    tn, fp, fn, tp = confusion_matrix(y_test, preds).ravel()\n",
    "    print('_'*20)\n",
    "    print('Confusion Matrix for Test Set:')\n",
    "    plot_confusion_matrix(model, X_test, y_test, cmap='Blues', values_format='d');\n",
    "    plt.show()\n",
    "    print(f'The Accurracy score is {metrics.accuracy_score(y_test, preds)}')\n",
    "    print(f'The Sensitivity score is {metrics.recall_score(y_test, preds)}')\n",
    "    print(f'The Precision score is {metrics.precision_score(y_test, preds)}')\n",
    "    print('_'*20)\n",
    "    print('Receiver Operating Characteristic (ROC) curve:')\n",
    "    metrics.plot_roc_curve(model, X_test, y_test);\n",
    "    plt.show()\n",
    "    return 'Model scored!'"
   ]
  },
  {
   "cell_type": "code",
   "execution_count": 19,
   "metadata": {},
   "outputs": [],
   "source": [
    "#score_model(gs, X_train, y_train, X_test, y_test) #test"
   ]
  },
  {
   "cell_type": "markdown",
   "metadata": {},
   "source": [
    "Looks good! I'll add that function to my utility file as well.  \n",
    "\n",
    "Let's see how the first grid search scored:"
   ]
  },
  {
   "cell_type": "code",
   "execution_count": 20,
   "metadata": {},
   "outputs": [],
   "source": [
    "#utils.score_model(gs, X_train, y_train, X_test, y_test)"
   ]
  },
  {
   "cell_type": "markdown",
   "metadata": {},
   "source": [
    "#### Here is the printout that score_model() provided (except for the graphs):\n",
    "\n",
    "The best parameters are: {'cvec__max_df': 0.9, 'cvec__max_features': 20000, 'cvec__min_df': 5, 'cvec__ngram_range': (1, 2)}  \n",
    "The best training score was: 0.9050761571304051  \n",
    "The test score is: 0.9062372604973502  \n",
    "____________________\n",
    "Confusion Matrix for Test Set: (not shown here)  \n",
    "\n",
    "The Accurracy score is 0.9062372604973502  \n",
    "The Sensitivity score is 0.9211369095276221  \n",
    "The Precision score is 0.8974258970358814  \n",
    "____________________\n",
    "Receiver Operating Characteristic (ROC) curve: (not shown here)  \n",
    "\n",
    "'Model scored!'  "
   ]
  },
  {
   "cell_type": "markdown",
   "metadata": {},
   "source": [
    "This says that my best model used words that appeared in 90% or less of my text, 20,000 features, and words that appeared 5 separate times or more. It also factored in single words and words that appear in pairs. The model scored 90.5% accuracy on the training data and 90.6% accuracy on the test data so no apparent bias or variance issues! The Sensitivity score is a little better than the Precision score, suggesting that my model is a little better at avoiding false negatives than avoiding false positives.  \n",
    "\n",
    "### Model 2\n",
    "\n",
    "I'm going to adjust some of the parameters:  \n",
    "- features - my highest parameter (20k) was the best last time, let's try higher  \n",
    "- mindf - my highest parameter (5) was the best last time, let's try higher  \n",
    "- maxdf - the lower end of my options (.9) was the best last time, lets try lower  \n",
    "- ngrams - the higher ngram counts (1,2) was optimal, let's try other, higher combinations\n",
    "- same scaler (cvec) and classifier (nb)"
   ]
  },
  {
   "cell_type": "code",
   "execution_count": 21,
   "metadata": {},
   "outputs": [],
   "source": [
    "maxfeats = [20_000, 30_000, 40_000] #try different volume of features\n",
    "mindf = [5, 6, 7] #minimum word frequency to be included in the model\n",
    "maxdf = [.8, .85, .9] #cutoff for words more frequent than percentage (float) threshhold\n",
    "ngrams = [(1,2), (2,3), (2,4)] #range of combinations of words to try (minimum, maximum)\n",
    "scaler = 'cvec'\n",
    "classifier = 'nb'\n",
    "\n",
    "#pipe = utils.pipemaker(scaler, classifier)\n",
    "#params = utils.set_params(scaler, maxfeats, mindf, maxdf, ngrams)\n",
    "\n",
    "#gs = GridSearchCV(pipe, params, #load hyperparameters\n",
    "                  #n_jobs=4,        #use 4 cores to process faster\n",
    "                  #cv=5, verbose=1) #using 5 folds and lower verbose to limit messages returned\n",
    "\n",
    "#gs.fit(X_train, y_train)\n",
    "\n",
    "#utils.score_model(gs, X_train, y_train, X_test, y_test)"
   ]
  },
  {
   "cell_type": "markdown",
   "metadata": {},
   "source": [
    "#### score_model() printout:\n",
    "\n",
    "The best parameters are: {'cvec__max_df': 0.8, 'cvec__max_features': 20000, 'cvec__min_df': 5, 'cvec__ngram_range': (1, 2)}  \n",
    "The best training score was: 0.9050761571304051  \n",
    "The test score is: 0.9062372604973502  \n",
    "____________________\n",
    "Confusion Matrix for Test Set: (not shown)  \n",
    "\n",
    "The Accurracy score is 0.9062372604973502  \n",
    "The Sensitivity score is 0.9211369095276221  \n",
    "The Precision score is 0.8974258970358814  \n",
    "____________________\n",
    "Receiver Operating Characteristic (ROC) curve: (not shown)  \n",
    "\n",
    "'Model scored!'"
   ]
  },
  {
   "cell_type": "markdown",
   "metadata": {},
   "source": [
    "Some interesting implications of this second model. The best parameters included frequencies of 80% or lower, which was the lowest possible. I'm starting to think I'm dealing with a LOT of stop words which is why the grid search continues to prefer lower frequency words. My model did not prefer a higher minimum frequency than 5 even though 6 and 7 were also tried. The ngram range also stayed the same despite some higher options being available. Most bizarrely, my scores are pretty much the same all the way through as model one, suggesting none of the changes I attempted had any real impact on model accuracy."
   ]
  },
  {
   "cell_type": "markdown",
   "metadata": {},
   "source": [
    "### Model 3  \n",
    "\n",
    "I'm going to try removing some stop words. I have to pause here for a moment and update my set_params function in the .py file to include that hyperparameter..."
   ]
  },
  {
   "cell_type": "code",
   "execution_count": 22,
   "metadata": {},
   "outputs": [],
   "source": [
    "def set_params(scaler, max_feat_list, min_df_list, max_df_list, sw_list, ngram_list):\n",
    "    if scaler != 'cvec' and scaler != 'tvec':\n",
    "        return 'Please enter either cvec or tvec as the first item.'\n",
    "    pipe_params = {f'{scaler}__max_features': max_feat_list,\n",
    "              f'{scaler}__min_df': min_df_list,\n",
    "              f'{scaler}__max_df': max_df_list,\n",
    "              f'{scaler}__stop_words': sw_list, #adding stop word list\n",
    "              f'{scaler}__ngram_range': ngram_list}\n",
    "    return pipe_params"
   ]
  },
  {
   "cell_type": "markdown",
   "metadata": {},
   "source": [
    "That should do it!"
   ]
  },
  {
   "cell_type": "code",
   "execution_count": 23,
   "metadata": {},
   "outputs": [],
   "source": [
    "#https://www.geeksforgeeks.org/removing-stop-words-nltk-python/\n",
    "#https://stackabuse.com/removing-stop-words-from-strings-in-python/\n",
    "import nltk\n",
    "from nltk.corpus import stopwords"
   ]
  },
  {
   "cell_type": "code",
   "execution_count": 24,
   "metadata": {},
   "outputs": [],
   "source": [
    "#print(stopwords.words('english'))  #preview stop word list"
   ]
  },
  {
   "cell_type": "code",
   "execution_count": 25,
   "metadata": {},
   "outputs": [],
   "source": [
    "maxfeats = [15_000, 20_000, 30_000] #try different volume of features\n",
    "mindf = [3, 5] #minimum word frequency to be included in the model\n",
    "maxdf = [.8, .9] #cutoff for words more frequent than percentage (float) threshhold\n",
    "ngrams = [(1,2), (1,3)] #range of combinations of words to try (minimum, maximum)\n",
    "swords = [None, stopwords.words('english')] #try None and a standard stop word list\n",
    "scaler = 'cvec'\n",
    "classifier = 'nb'\n",
    "\n",
    "pipe = utils.pipemaker(scaler, classifier)\n",
    "#params = utils.set_params(scaler, maxfeats, mindf, maxdf, swords, ngrams)\n",
    "\n",
    "#gs = GridSearchCV(pipe, params, #load hyperparameters\n",
    "                  #n_jobs=4,        #use 4 cores to process faster\n",
    "                  #cv=5, verbose=1) #using 5 folds and lower verbose to limit messages returned\n",
    "\n",
    "#gs.fit(X_train, y_train)\n",
    "\n",
    "#utils.score_model(gs, X_train, y_train, X_test, y_test)"
   ]
  },
  {
   "cell_type": "markdown",
   "metadata": {},
   "source": [
    "#### score_model() output:\n",
    "\n",
    "The best parameters are: {'cvec__max_df': 0.8, 'cvec__max_features': 15000, 'cvec__min_df': 5, 'cvec__ngram_range': (1, 2), 'cvec__stop_words': {list of stop words}  \n",
    "The test score is: 0.9076640847941296  \n",
    "____________________\n",
    "Confusion Matrix for Test Set: (not shown)\n",
    "\n",
    "The Accurracy score is 0.9076640847941296  \n",
    "The Sensitivity score is 0.9283426741393115  \n",
    "The Precision score is 0.8943308908600077  \n",
    "____________________\n",
    "Receiver Operating Characteristic (ROC) curve: (not shown)  \n",
    "\n",
    "'Model scored!'\n",
    "​"
   ]
  },
  {
   "cell_type": "markdown",
   "metadata": {},
   "source": [
    "A few takewaways from model 3; the best parameters still included words under 80% frequencey, even with stop words removed. However, the max features hyperparameter of 15k was preferred to 20k which scored best in the two prior models. Minimum frequency was still best at 5, the ngram range was still (1,2), and as we might expect, using the stop word list was preferred to leaving them out. Notwithstanding all of that, my test accuracy score barely improved (about .001). I'm going to switch into the TF-IDF method and see if that makes a difference."
   ]
  },
  {
   "cell_type": "markdown",
   "metadata": {},
   "source": [
    "### Model 4  \n",
    "\n",
    "This will be my first model using the TF-IDF vectorizer which will score word importance as a ratio. I'll just keep all the other parameters the same for comparison purposes, but I am going to save the stopwords.words('english') list as a variable. I'm also going to up my processing speed by adding a 5th core."
   ]
  },
  {
   "cell_type": "code",
   "execution_count": 26,
   "metadata": {},
   "outputs": [],
   "source": [
    "nltk_slist = stopwords.words('english')\n",
    "maxfeats = [15_000, 20_000, 30_000] #try different volume of features\n",
    "mindf = [3, 5] #minimum word frequency to be included in the model\n",
    "maxdf = [.8, .9] #cutoff for words more frequent than percentage (float) threshhold\n",
    "ngrams = [(1,2), (1,3)] #range of combinations of words to try (minimum, maximum)\n",
    "swords = [None, nltk_slist] #try None and a standard stop word list\n",
    "scaler = 'tvec' #CHANGING SCALER <<<<<<<<<<<<<<<<<<<<<<<<<<<<<<<<<<<<<<<<<<<<<<<<<<<<<<<<<<\n",
    "classifier = 'nb'\n",
    "\n",
    "pipe = utils.pipemaker(scaler, classifier)\n",
    "#params = utils.set_params(scaler, maxfeats, mindf, maxdf, swords, ngrams)\n",
    "\n",
    "#gs = GridSearchCV(pipe, params, #load hyperparameters\n",
    "                  #n_jobs=5,        #UPPING TO 5 CORES <<<<<<<<<<<<<<<<<<<<<<<<<<<<<<<<<<<<<<<<<<<<<<<<<\n",
    "                  #cv=5, verbose=1) #using 5 folds and lower verbose to limit messages returned\n",
    "\n",
    "#gs.fit(X_train, y_train)\n",
    "\n",
    "#utils.score_model(gs, X_train, y_train, X_test, y_test)"
   ]
  },
  {
   "cell_type": "markdown",
   "metadata": {},
   "source": [
    "#### score_model() output:  \n",
    "\n",
    "The best parameters are: {'tvec__max_df': 0.8, 'tvec__max_features': 15000, 'tvec__min_df': 5, 'tvec__ngram_range': (1, 2), 'tvec__stop_words': stop word list}  \n",
    "The best training score was: 0.8999122595621148  \n",
    "The test score is: 0.8982878108438647  \n",
    "____________________\n",
    "Confusion Matrix for Test Set: (not shown)\n",
    "\n",
    "The Accurracy score is 0.8982878108438647  \n",
    "The Sensitivity score is 0.9099279423538831  \n",
    "The Precision score is 0.8924224577934825  \n",
    "____________________\n",
    "Receiver Operating Characteristic (ROC) curve: (not shown)  \n",
    "\n",
    "'Model scored!'"
   ]
  },
  {
   "cell_type": "markdown",
   "metadata": {},
   "source": [
    "Interesting. It looks like the best tvec model opted for all the same features than my previous cvec model did, but resulted in lower scores across the board."
   ]
  },
  {
   "cell_type": "markdown",
   "metadata": {},
   "source": [
    "### Model 5  \n",
    "\n",
    "I'm going to revert to the more accurate cvec scaler for my next model. As touched upon previously, the best model seems to always pick the lowest max data frequency percentage when given a range. I'm going to try some even lower ranges and see if a)the lowest range is selected again and b)this improves accuracy in any substantial way. Also, since I added stop words in Model 3, the grid search has selected 15,000 features as ideal as opposed to 20k or 30k. I'm going to try some lower feature options and see if that makes a difference. Finally, I'm going to add some different minimum frequency options - \"5\" has been the most popular so I'll offer 4 and 6 as alternatives.  \n",
    "\n",
    "I'm also going to stop testing \"None\" for stop words. Clearly they're helping, there's no reason to keep trying models without a stop word list going forward."
   ]
  },
  {
   "cell_type": "code",
   "execution_count": 27,
   "metadata": {},
   "outputs": [],
   "source": [
    "nltk_slist = stopwords.words('english')\n",
    "maxfeats = [10_000, 12_000, 15_000, 20_000] #try different volume of features\n",
    "mindf = [4, 5, 6] #minimum word frequency to be included in the model\n",
    "maxdf = [.5, .6, .7, .8] #cutoff for words more frequent than percentage (float) threshhold\n",
    "ngrams = [(1,2), (1,3)] #range of combinations of words to try (minimum, maximum)\n",
    "swords = [nltk_slist] #try None and a standard stop word list\n",
    "scaler = 'cvec' #back to cvec\n",
    "classifier = 'nb'\n",
    "\n",
    "pipe = utils.pipemaker(scaler, classifier)\n",
    "#params = utils.set_params(scaler, maxfeats, mindf, maxdf, swords, ngrams)\n",
    "\n",
    "#gs = GridSearchCV(pipe, params, #load hyperparameters\n",
    "                  #n_jobs=5,        #using 5 cores to process\n",
    "                  #cv=5, verbose=1) #using 5 folds and lower verbose to limit messages returned\n",
    "\n",
    "#gs.fit(X_train, y_train)\n",
    "\n",
    "#utils.score_model(gs, X_train, y_train, X_test, y_test)"
   ]
  },
  {
   "cell_type": "markdown",
   "metadata": {},
   "source": [
    "#### score_model() output:  \n",
    "\n",
    "The best parameters are: {'cvec__max_df': 0.5, 'cvec__max_features': 20000, 'cvec__min_df': 4, 'cvec__ngram_range': (1, 2), 'cvec__stop_words': stop word list}  \n",
    "The best training score was: 0.907522386392176  \n",
    "The test score is: 0.9080717488789237  \n",
    "____________________\n",
    "Confusion Matrix for Test Set: (not shown)  \n",
    "\n",
    "The Accurracy score is 0.9080717488789237  \n",
    "The Sensitivity score is 0.9267413931144916  \n",
    "The Precision score is 0.8962446767324816  \n",
    "____________________\n",
    "Receiver Operating Characteristic (ROC) curve: (not shown)  \n",
    "\n",
    "'Model scored!'"
   ]
  },
  {
   "cell_type": "markdown",
   "metadata": {},
   "source": [
    "Some takeaways here: again, the lowest frequency was selected (0.5); max features went back up to 20k rather than 15k. Minimum data frequency adjusted to 4 instead of 5 when given the opportunity. The ideal ngram range stayed the same at (1,2). Accuracy did not improve significantly over my most accurate prior model (Model 3)."
   ]
  },
  {
   "cell_type": "markdown",
   "metadata": {},
   "source": [
    "### Significant Words  \n",
    "\n",
    "I'm going to pause modeling at this point to see which words my model (Model 5) finds to be most commonly occurring for each subreddit."
   ]
  },
  {
   "cell_type": "code",
   "execution_count": 28,
   "metadata": {},
   "outputs": [],
   "source": [
    "#https://stackoverflow.com/questions/62096337/how-do-you-find-which-words-a-trained-naive-bayes-classifier-uses-to-make-decisi\n",
    "#https://stackoverflow.com/questions/24375911/how-to-print-estimated-coefficients-after-a-gridsearchcv-fit-a-model-sgdregr\n",
    "#https://stackoverflow.com/questions/43856280/return-coefficients-from-pipeline-object-in-sklearn"
   ]
  },
  {
   "cell_type": "markdown",
   "metadata": {},
   "source": [
    "NOTE: Code below commented out because making the graph would require running the grid search. Image was saved and appears in markdown (below)"
   ]
  },
  {
   "cell_type": "code",
   "execution_count": 29,
   "metadata": {},
   "outputs": [],
   "source": [
    "#scale_f = gs.best_estimator_.named_steps['cvec']\n",
    "#class_f = gs.best_estimator_.named_steps['nb']\n",
    "#referred to lesson 5.05\n",
    "#XT_df = pd.DataFrame(scale_f.fit_transform(X_train).todense(), columns = scale_f.get_feature_names())\n",
    "#plt.figure(figsize=(12,5))\n",
    "#plt.title('Most Frequent Words in X_train Data Set After Stop Words Removed', size=25)\n",
    "#plt.xlabel('Number of Uses (out of 14,717 posts in training set)', size=20)\n",
    "\n",
    "#XT_df.sum().sort_values(ascending=False).head(10).plot(kind='barh')\n",
    "#plt.savefig('./images/m5_word_frequency', dpi=200);"
   ]
  },
  {
   "cell_type": "markdown",
   "metadata": {},
   "source": [
    "![Model 5 - Most Frequent Words](./images/m5_word_frequency.png)\n",
    "\n",
    "Some keys about this distribution:  \n",
    "- 'xbox' is the most frequent word, appearing in nearly 12,000 posts. This is especially impressive since the sample is a little over 14,000 posts, of which about half are from the playstation subreddit. So while we might expect the xbox to be referenced regularly in the 7,000 xbox subreddit samples, it seems that close to 5,000 playstaion posts also reference it.  \n",
    "-  'ps4' appears in less than half of the posts overall, so xbox subredditors seem to not be as regular with referencing their rival as playstation subredditors are\n",
    "- aside from the system references, the other words could probably be considered stop words for a gaming subreddit (know, like, account, play, get, one, games, game). I'm going to try a new stopword list that includes those 8 and see how we do."
   ]
  },
  {
   "cell_type": "markdown",
   "metadata": {},
   "source": [
    "### Model 6"
   ]
  },
  {
   "cell_type": "code",
   "execution_count": 30,
   "metadata": {},
   "outputs": [],
   "source": [
    "nltk_slist = stopwords.words('english')\n",
    "nltk_slist.append(['know', 'like', 'account', 'play', 'get', 'one', 'games', 'game']) #<<<<< adding stop words\n",
    "maxfeats = [12_000, 15_000, 20_000] #try different volume of features\n",
    "mindf = [4, 5] #minimum word frequency to be included in the model\n",
    "maxdf = [.5, .6, .7, .8] #cutoff for words more frequent than percentage (float) threshhold\n",
    "ngrams = [(1,2), (1,3)] #range of combinations of words to try (minimum, maximum)\n",
    "swords = [stopwords.words('english'), nltk_slist] #<<<<<<<<<<<<< trying standard and edited stop word lists\n",
    "scaler = 'cvec' #back to cvec\n",
    "classifier = 'nb'\n",
    "\n",
    "pipe = utils.pipemaker(scaler, classifier)\n",
    "#params = utils.set_params(scaler, maxfeats, mindf, maxdf, swords, ngrams)\n",
    "\n",
    "#gs = GridSearchCV(pipe, params, #load hyperparameters\n",
    "                  #n_jobs=5,        #using 5 cores to process\n",
    "                  #cv=5, verbose=1) #using 5 folds and lower verbose to limit messages returned\n",
    "\n",
    "#gs.fit(X_train, y_train)\n",
    "\n",
    "#utils.score_model(gs, X_train, y_train, X_test, y_test)"
   ]
  },
  {
   "cell_type": "markdown",
   "metadata": {},
   "source": [
    "#### score_model() output:  \n",
    "\n",
    "The best parameters are: {'cvec__max_df': 0.5, 'cvec__max_features': 20000, 'cvec__min_df': 4, 'cvec__ngram_range': (1, 2), 'cvec__stop_words': (nltk list)  \n",
    "The best training score was: 0.907522386392176  \n",
    "The test score is: 0.9080717488789237  \n",
    "____________________\n",
    "Confusion Matrix for Test Set: (not shown)  \n",
    "\n",
    "The Accurracy score is 0.9080717488789237  \n",
    "The Sensitivity score is 0.9267413931144916  \n",
    "The Precision score is 0.8962446767324816  \n",
    "____________________\n",
    "Receiver Operating Characteristic (ROC) curve: (not shown)  \n",
    "\n",
    "'Model scored!'"
   ]
  },
  {
   "cell_type": "markdown",
   "metadata": {},
   "source": [
    "The same maxdf, max features, mindf, and ngram range were all selected as ideal. More interestingly, my \"edited\" stop words list was *NOT* selected for the best model. So removing those common words was not helpful. Since this model chose all the same parameters that my last model did (Model 6), it has the same accuracy scores. Perhaps this should not be surprising, given that max df is 50%. Any words that appear in more than 50% of the posts aren't being included anyways, and that hyperparameter is probably overshadowing any stop word adjustments I make."
   ]
  },
  {
   "cell_type": "markdown",
   "metadata": {},
   "source": [
    "### Coefficient Considerations  \n",
    "\n",
    "I'm going to try to pull out the largest coefficients from this last model.  \n",
    "\n",
    "Again - the code will be commented out because running it would require running the grid search. My results will be put into markdown."
   ]
  },
  {
   "cell_type": "code",
   "execution_count": 31,
   "metadata": {},
   "outputs": [],
   "source": [
    "#scale_f = gs.best_estimator_.named_steps['cvec']\n",
    "#class_f = gs.best_estimator_.named_steps['nb']\n",
    "\n",
    "#coef_df = pd.DataFrame(class_f.coef_, columns = scale_f.get_feature_names())"
   ]
  },
  {
   "cell_type": "code",
   "execution_count": 32,
   "metadata": {},
   "outputs": [],
   "source": [
    "#coef_df.sum().sort_values()"
   ]
  },
  {
   "cell_type": "markdown",
   "metadata": {},
   "source": [
    "#### Top 25 Coefficients:\n",
    "\n",
    "|  ngram(1,2)     |     coef |\n",
    "|:----------------|---------:|\n",
    "| made xbox       | -12.8359 |\n",
    "| better pc       | -12.8359 |\n",
    "| gp ultimate     | -12.8359 |\n",
    "| problem posting | -12.8359 |\n",
    "| grammar         | -12.8359 |\n",
    "| beta xbox       | -12.8359 |\n",
    "| beta support    | -12.8359 |\n",
    "| beta pc         | -12.8359 |\n",
    "| beta app        | -12.8359 |\n",
    "| best xbox       | -12.8359 |\n",
    "| problem headset | -12.8359 |\n",
    "| green screen    | -12.8359 |\n",
    "| use series      | -12.8359 |\n",
    "| use gamepass    | -12.8359 |\n",
    "| use use         | -12.8359 |\n",
    "| group post      | -12.8359 |\n",
    "| use xcloud      | -12.8359 |\n",
    "| used 360        | -12.8359 |\n",
    "| dating          | -12.8359 |\n",
    "| price series    | -12.8359 |\n",
    "| guys one        | -12.8359 |\n",
    "| gwg             | -12.8359 |\n",
    "| prestige        | -12.8359 |\n",
    "| hall            | -12.8359 |\n",
    "| hall fame       | -12.8359 |"
   ]
  },
  {
   "cell_type": "markdown",
   "metadata": {},
   "source": [
    "The range of coefficients appears to run from around -4 to -12, and there are no positive coefficients. The list above shows the top 25 although they all seem to be of the same magnitude. This is odd. I'm going to see if I can isolate the best set of parameters from my grid search in the next model, and then I want to load those into a new naive bayes model (outside of a pipeline) so that it's easier to evaluate the coefficients."
   ]
  },
  {
   "cell_type": "markdown",
   "metadata": {},
   "source": [
    "### Model 7  \n",
    "\n",
    "#### Enter the Lemmatizer\n",
    "\n",
    "An important aspect that I have yet to attempt in my modeling is the lemmatizer option. This would reduce words to their root (i.e. \"game\" and \"games\" both reduce to \"game\") and might help make my model more accurate. I will lemmatize X_train and X_test and then run them through the model to see what the affect might be."
   ]
  },
  {
   "cell_type": "code",
   "execution_count": 66,
   "metadata": {},
   "outputs": [],
   "source": [
    "#from lesson 5.03 \n",
    "#https://stackoverflow.com/questions/40902430/lemmatization-inside-array-using-nltk-python\n",
    "from nltk.stem import WordNetLemmatizer\n",
    "from nltk.tokenize import RegexpTokenizer\n",
    "lemmatizer = WordNetLemmatizer()\n",
    "\n",
    "tokenizer = RegexpTokenizer(r'\\w+') #create tokenizer to remove punctuation"
   ]
  },
  {
   "cell_type": "code",
   "execution_count": 67,
   "metadata": {},
   "outputs": [],
   "source": [
    "X_train_tokens = [tokenizer.tokenize(x) for x in X_train]\n",
    "X_test_tokens = [tokenizer.tokenize(x) for x in X_test]"
   ]
  },
  {
   "cell_type": "code",
   "execution_count": 75,
   "metadata": {},
   "outputs": [],
   "source": [
    "X_train_lem = []\n",
    "for item in X_train_tokens:\n",
    "    X_lem = []\n",
    "    for word in item:\n",
    "        X_lem.append(lemmatizer.lemmatize(word))\n",
    "    X_train_lem.append(' '.join(X_lem))"
   ]
  },
  {
   "cell_type": "code",
   "execution_count": 77,
   "metadata": {},
   "outputs": [],
   "source": [
    "X_test_lem = []\n",
    "for item in X_test_tokens:\n",
    "    X_lem = []\n",
    "    for word in item:\n",
    "        X_lem.append(lemmatizer.lemmatize(word))\n",
    "    X_test_lem.append(' '.join(X_lem))"
   ]
  },
  {
   "cell_type": "code",
   "execution_count": 80,
   "metadata": {},
   "outputs": [
    {
     "name": "stdout",
     "output_type": "stream",
     "text": [
      "Fitting 5 folds for each of 24 candidates, totalling 120 fits\n"
     ]
    },
    {
     "name": "stderr",
     "output_type": "stream",
     "text": [
      "[Parallel(n_jobs=6)]: Using backend LokyBackend with 6 concurrent workers.\n",
      "[Parallel(n_jobs=6)]: Done  38 tasks      | elapsed:   17.2s\n",
      "[Parallel(n_jobs=6)]: Done 120 out of 120 | elapsed:   47.1s finished\n"
     ]
    },
    {
     "name": "stdout",
     "output_type": "stream",
     "text": [
      "The best parameters are: {'cvec__max_df': 0.5, 'cvec__max_features': 15000, 'cvec__min_df': 5, 'cvec__ngram_range': (1, 2), 'cvec__stop_words': ['i', 'me', 'my', 'myself', 'we', 'our', 'ours', 'ourselves', 'you', \"you're\", \"you've\", \"you'll\", \"you'd\", 'your', 'yours', 'yourself', 'yourselves', 'he', 'him', 'his', 'himself', 'she', \"she's\", 'her', 'hers', 'herself', 'it', \"it's\", 'its', 'itself', 'they', 'them', 'their', 'theirs', 'themselves', 'what', 'which', 'who', 'whom', 'this', 'that', \"that'll\", 'these', 'those', 'am', 'is', 'are', 'was', 'were', 'be', 'been', 'being', 'have', 'has', 'had', 'having', 'do', 'does', 'did', 'doing', 'a', 'an', 'the', 'and', 'but', 'if', 'or', 'because', 'as', 'until', 'while', 'of', 'at', 'by', 'for', 'with', 'about', 'against', 'between', 'into', 'through', 'during', 'before', 'after', 'above', 'below', 'to', 'from', 'up', 'down', 'in', 'out', 'on', 'off', 'over', 'under', 'again', 'further', 'then', 'once', 'here', 'there', 'when', 'where', 'why', 'how', 'all', 'any', 'both', 'each', 'few', 'more', 'most', 'other', 'some', 'such', 'no', 'nor', 'not', 'only', 'own', 'same', 'so', 'than', 'too', 'very', 's', 't', 'can', 'will', 'just', 'don', \"don't\", 'should', \"should've\", 'now', 'd', 'll', 'm', 'o', 're', 've', 'y', 'ain', 'aren', \"aren't\", 'couldn', \"couldn't\", 'didn', \"didn't\", 'doesn', \"doesn't\", 'hadn', \"hadn't\", 'hasn', \"hasn't\", 'haven', \"haven't\", 'isn', \"isn't\", 'ma', 'mightn', \"mightn't\", 'mustn', \"mustn't\", 'needn', \"needn't\", 'shan', \"shan't\", 'shouldn', \"shouldn't\", 'wasn', \"wasn't\", 'weren', \"weren't\", 'won', \"won't\", 'wouldn', \"wouldn't\"]}\n",
      "The best training score was: 0.9069791158829352\n",
      "The test score is: 0.9060334284549532\n",
      "____________________\n",
      "Confusion Matrix for Test Set:\n"
     ]
    },
    {
     "data": {
      "image/png": "[encoded data removed]",
      "text/plain": [
       "<Figure size 432x288 with 2 Axes>"
      ]
     },
     "metadata": {
      "needs_background": "light"
     },
     "output_type": "display_data"
    },
    {
     "name": "stdout",
     "output_type": "stream",
     "text": [
      "The Accurracy score is 0.9060334284549532\n",
      "The Sensitivity score is 0.9271417133706965\n",
      "The Precision score is 0.892485549132948\n",
      "____________________\n",
      "Receiver Operating Characteristic (ROC) curve:\n"
     ]
    },
    {
     "data": {
      "image/png": "[encoded data removed]",
      "text/plain": [
       "<Figure size 432x288 with 1 Axes>"
      ]
     },
     "metadata": {
      "needs_background": "light"
     },
     "output_type": "display_data"
    },
    {
     "data": {
      "text/plain": [
       "'Model scored!'"
      ]
     },
     "execution_count": 80,
     "metadata": {},
     "output_type": "execute_result"
    }
   ],
   "source": [
    "#nltk_slist = stopwords.words('english') <<<<<<<<<<<<<<<< NOT USING THIS LIST, MAKES NO DIFFERENCE\n",
    "#nltk_slist.append(['know', 'like', 'account', 'play', 'get', 'one', 'games', 'game'])\n",
    "maxfeats = [15_000, 20_000, 30_000] #try different volume of features\n",
    "mindf = [4, 5] #minimum word frequency to be included in the model\n",
    "maxdf = [.2, .4, .5, .7] #cutoff for words more frequent than percentage (float) threshhold << testing .1-.5\n",
    "ngrams = [(1,2)] #range of combinations of words to try (minimum, maximum) <<<<<<<< only (1,2)\n",
    "swords = [stopwords.words('english')] #<<<<<<<<<<<<< only standard stop words\n",
    "scaler = 'cvec' #continuing with cvec\n",
    "classifier = 'nb'\n",
    "\n",
    "pipe = utils.pipemaker(scaler, classifier)\n",
    "#params = utils.set_params(scaler, maxfeats, mindf, maxdf, swords, ngrams)\n",
    "\n",
    "#gs = GridSearchCV(pipe, params, #load hyperparameters\n",
    "                 # n_jobs=6,        #<<<<<<<<<<<<<<< adding a 6th core to process\n",
    "                  #cv=5, verbose=1) #using 5 folds and lower verbose to limit messages returned\n",
    "\n",
    "#gs.fit(X_train_lem, y_train)\n",
    "\n",
    "#utils.score_model(gs, X_train_lem, y_train, X_test_lem, y_test)"
   ]
  },
  {
   "cell_type": "markdown",
   "metadata": {},
   "source": [
    "#### score_model() output:  \n",
    "\n",
    "The best parameters are: {'cvec__max_df': 0.5, 'cvec__max_features': 15000, 'cvec__min_df': 5, 'cvec__ngram_range': (1, 2), 'cvec__stop_words': (stop word list)}  \n",
    "The best training score was: 0.9069791158829352  \n",
    "The test score is: 0.9060334284549532  \n",
    "____________________\n",
    "Confusion Matrix for Test Set: (not shown here)  \n",
    "\n",
    "The Accurracy score is 0.9060334284549532  \n",
    "The Sensitivity score is 0.9271417133706965  \n",
    "The Precision score is 0.892485549132948  \n",
    "____________________\n",
    "Receiver Operating Characteristic (ROC) curve: (not shown here)  \n",
    "\n",
    "'Model scored!'"
   ]
  },
  {
   "cell_type": "markdown",
   "metadata": {},
   "source": [
    "It looks like accuracy scores are slightly worse that prior models so the lemmatizer did not improve my model."
   ]
  },
  {
   "cell_type": "markdown",
   "metadata": {},
   "source": [
    "### Model 8  \n",
    "\n",
    "I'm going to implement the Porter Stemmer to see if that helps at all. My code to make the lemmatizer was a little bit clunky so for this attempt I'm going to try to make my own class and then insert it into the tokenizer hyperparameter for my Count Vectorizer."
   ]
  },
  {
   "cell_type": "code",
   "execution_count": 90,
   "metadata": {},
   "outputs": [],
   "source": [
    "#https://stackoverflow.com/questions/47423854/sklearn-adding-lemmatizer-to-countvectorizer\n",
    "from nltk import word_tokenize\n",
    "from nltk.stem.porter import PorterStemmer\n",
    "p_stemmer = PorterStemmer()\n",
    "\n",
    "class PS_Tokenizer(object):\n",
    "    def __init__(self):\n",
    "        self.wnl = PorterStemmer()\n",
    "    def __call__(self, articles):\n",
    "        return [self.wnl.stem(x) for x in word_tokenize(articles)]"
   ]
  },
  {
   "cell_type": "code",
   "execution_count": 124,
   "metadata": {},
   "outputs": [
    {
     "ename": "IndentationError",
     "evalue": "unexpected indent (<ipython-input-124-f59a96bdbe42>, line 21)",
     "output_type": "error",
     "traceback": [
      "\u001b[1;36m  File \u001b[1;32m\"<ipython-input-124-f59a96bdbe42>\"\u001b[1;36m, line \u001b[1;32m21\u001b[0m\n\u001b[1;33m    n_jobs=6,\u001b[0m\n\u001b[1;37m    ^\u001b[0m\n\u001b[1;31mIndentationError\u001b[0m\u001b[1;31m:\u001b[0m unexpected indent\n"
     ]
    }
   ],
   "source": [
    "maxfeats = [20_000] #try different volume of features\n",
    "mindf = [4] #minimum word frequency to be included in the model\n",
    "maxdf = [.4, .5,] #cutoff for words more frequent than percentage (float) threshhold << testing .1-.5\n",
    "ngrams = [(1,2)] #range of combinations of words to try (minimum, maximum) <<<<<<<< only (1,2)\n",
    "swords = [stopwords.words('english')] #<<<<<<<<<<<<< only standard stop words\n",
    "scaler = 'cvec' #continuing with cvec\n",
    "classifier = 'nb'\n",
    "\n",
    "pipe = utils.pipemaker(scaler, classifier)\n",
    "\n",
    "#Doing custom params list because my python file function is not built to accept the tokenizer hyperparameter\n",
    "\n",
    "params = {'cvec__max_features': maxfeats,\n",
    "          'cvec__min_df': mindf,\n",
    "          'cvec__max_df': maxdf,\n",
    "          'cvec__stop_words':swords,\n",
    "          'cvec__tokenizer':[PS_Tokenizer()],\n",
    "          'cvec__ngram_range': [(1, 2)]}\n",
    "\n",
    "#gs = GridSearchCV(pipe, params, #load hyperparameters\n",
    "                  #n_jobs=6,        \n",
    "                  #cv=5, verbose=1) #using 5 folds and lower verbose to limit messages returned\n",
    "\n",
    "#gs.fit(X_train, y_train)\n",
    "\n",
    "#utils.score_model(gs, X_train, y_train, X_test, y_test)"
   ]
  },
  {
   "cell_type": "markdown",
   "metadata": {},
   "source": [
    "#### score_model() output:  \n",
    "The best parameters are: {'cvec__max_df': 0.5, 'cvec__max_features': 20000, 'cvec__min_df': 4, 'cvec__ngram_range': (1, 2), 'cvec__stop_words': (stop word list), 'cvec__tokenizer': <__main__.PS_Tokenizer object at 0x0000022312297E80>}  \n",
    "The best training score was: 0.9058911898535952  \n",
    "The test score is: 0.9046066041581736  \n",
    "____________________\n",
    "Confusion Matrix for Test Set: (not shown here)  \n",
    "\n",
    "The Accurracy score is 0.9046066041581736  \n",
    "The Sensitivity score is 0.9295436349079264  \n",
    "The Precision score is 0.8882938026013772  \n",
    "____________________\n",
    "Receiver Operating Characteristic (ROC) curve: (not shown here)  \n",
    "\n",
    "'Model scored!'"
   ]
  },
  {
   "cell_type": "markdown",
   "metadata": {},
   "source": [
    "I'm pleased that I was able to create my new PS_Tokenizer class in order to run this model, however the accuracy score in output was not an improvement."
   ]
  },
  {
   "cell_type": "markdown",
   "metadata": {},
   "source": [
    "### Model 9  \n",
    "At this point I'm confident that I've isolated the best Naive Bayes parameters. I'm going to run that model outside of my pipeline functions so that I can more easily examine the coefficients and other aspects of it.  \n",
    "\n",
    "As a recap- these seem to consistently be the hyperparameters that my grid searches recommend:  \n",
    "- maxdf = .4\n",
    "- maxfeatures = 20_000\n",
    "- mindf = 4\n",
    "- ngram range = (1,2)\n",
    "- stopwords = base nltk stop word list\n",
    "- scaler = cvec"
   ]
  },
  {
   "cell_type": "code",
   "execution_count": 103,
   "metadata": {},
   "outputs": [
    {
     "name": "stdout",
     "output_type": "stream",
     "text": [
      "The best training score was: 0.9414282802201536\n",
      "The test score is: 0.9080717488789237\n"
     ]
    }
   ],
   "source": [
    "cvec = CountVectorizer(max_features=20_000,\n",
    "                       min_df=4, \n",
    "                       max_df = .4,\n",
    "                       ngram_range=(1,2),\n",
    "                       stop_words=stopwords.words('english'))\n",
    "X_train_c = cvec.fit_transform(X_train)\n",
    "X_test_c = cvec.transform(X_test)\n",
    "nb = MultinomialNB()\n",
    "nb.fit(X_train_c, y_train)\n",
    "\n",
    "print(f'The best training score was: {nb.score(X_train_c, y_train)}')\n",
    "print(f'The test score is: {nb.score(X_test_c, y_test)}')"
   ]
  },
  {
   "cell_type": "markdown",
   "metadata": {},
   "source": [
    "Okay! Slight overfit but in general a solid 94% accuracy on the training data and about 91% accuracy on the test set."
   ]
  },
  {
   "cell_type": "code",
   "execution_count": null,
   "metadata": {},
   "outputs": [],
   "source": [
    "#https://matplotlib.org/3.1.0/tutorials/colors/colormaps.html"
   ]
  },
  {
   "cell_type": "code",
   "execution_count": 117,
   "metadata": {},
   "outputs": [
    {
     "data": {
      "image/png": "[encoded data removed]",
      "text/plain": [
       "<Figure size 432x288 with 2 Axes>"
      ]
     },
     "metadata": {
      "needs_background": "light"
     },
     "output_type": "display_data"
    },
    {
     "name": "stdout",
     "output_type": "stream",
     "text": [
      "The Accurracy score is 0.9080717488789237\n",
      "The Sensitivity score is 0.9267413931144916\n",
      "The Precision score is 0.8962446767324816\n"
     ]
    }
   ],
   "source": [
    "preds = nb.predict(X_test_c)\n",
    "tn, fp, fn, tp = confusion_matrix(y_test, preds).ravel()\n",
    "\n",
    "plot_confusion_matrix(nb, X_test_c, y_test, cmap='gist_earth', values_format='d');\n",
    "plt.show()\n",
    "print(f'The Accurracy score is {metrics.accuracy_score(y_test, preds)}')\n",
    "print(f'The Sensitivity score is {metrics.recall_score(y_test, preds)}')\n",
    "print(f'The Precision score is {metrics.precision_score(y_test, preds)}')"
   ]
  },
  {
   "cell_type": "markdown",
   "metadata": {},
   "source": [
    "As with the earlier models we see that Sensitivity is optimized in this model compared to Precision. This means the model is slightly better at avoiding False Negatives than avoiding False Positives. To restate that in context of our data, it's slightly more likely that a post classified as \"not-Playstation\", i.e. Xbox, is correct than it is that something we classified as \"Playstation\" is truly Playstation."
   ]
  },
  {
   "cell_type": "code",
   "execution_count": 138,
   "metadata": {},
   "outputs": [
    {
     "data": {
      "text/html": [
       "<div>\n",
       "<style scoped>\n",
       "    .dataframe tbody tr th:only-of-type {\n",
       "        vertical-align: middle;\n",
       "    }\n",
       "\n",
       "    .dataframe tbody tr th {\n",
       "        vertical-align: top;\n",
       "    }\n",
       "\n",
       "    .dataframe thead th {\n",
       "        text-align: right;\n",
       "    }\n",
       "</style>\n",
       "<table border=\"1\" class=\"dataframe\">\n",
       "  <thead>\n",
       "    <tr style=\"text-align: right;\">\n",
       "      <th></th>\n",
       "      <th>0</th>\n",
       "    </tr>\n",
       "  </thead>\n",
       "  <tbody>\n",
       "    <tr>\n",
       "      <th>made xbox</th>\n",
       "      <td>-12.835950</td>\n",
       "    </tr>\n",
       "    <tr>\n",
       "      <th>better pc</th>\n",
       "      <td>-12.835950</td>\n",
       "    </tr>\n",
       "    <tr>\n",
       "      <th>gp ultimate</th>\n",
       "      <td>-12.835950</td>\n",
       "    </tr>\n",
       "    <tr>\n",
       "      <th>problem posting</th>\n",
       "      <td>-12.835950</td>\n",
       "    </tr>\n",
       "    <tr>\n",
       "      <th>grammar</th>\n",
       "      <td>-12.835950</td>\n",
       "    </tr>\n",
       "    <tr>\n",
       "      <th>...</th>\n",
       "      <td>...</td>\n",
       "    </tr>\n",
       "    <tr>\n",
       "      <th>playstation</th>\n",
       "      <td>-4.912964</td>\n",
       "    </tr>\n",
       "    <tr>\n",
       "      <th>game</th>\n",
       "      <td>-4.818642</td>\n",
       "    </tr>\n",
       "    <tr>\n",
       "      <th>ps5</th>\n",
       "      <td>-4.761612</td>\n",
       "    </tr>\n",
       "    <tr>\n",
       "      <th>games</th>\n",
       "      <td>-4.685771</td>\n",
       "    </tr>\n",
       "    <tr>\n",
       "      <th>ps4</th>\n",
       "      <td>-4.380845</td>\n",
       "    </tr>\n",
       "  </tbody>\n",
       "</table>\n",
       "<p>20000 rows × 1 columns</p>\n",
       "</div>"
      ],
      "text/plain": [
       "                         0\n",
       "made xbox       -12.835950\n",
       "better pc       -12.835950\n",
       "gp ultimate     -12.835950\n",
       "problem posting -12.835950\n",
       "grammar         -12.835950\n",
       "...                    ...\n",
       "playstation      -4.912964\n",
       "game             -4.818642\n",
       "ps5              -4.761612\n",
       "games            -4.685771\n",
       "ps4              -4.380845\n",
       "\n",
       "[20000 rows x 1 columns]"
      ]
     },
     "execution_count": 138,
     "metadata": {},
     "output_type": "execute_result"
    }
   ],
   "source": [
    "coef_df = pd.DataFrame(nb.coef_, columns = cvec.get_feature_names())\n",
    "coef_df.T.sort_values(by=0)"
   ]
  },
  {
   "cell_type": "markdown",
   "metadata": {},
   "source": [
    "Simply put, it appears all of my 20_000 coefficients were negative, meaning the inverse relationships to our target 1 (Playstation) were stronger than any positive options."
   ]
  },
  {
   "cell_type": "code",
   "execution_count": 162,
   "metadata": {},
   "outputs": [
    {
     "data": {
      "text/plain": [
       "-11.449655    2418\n",
       "-11.226512    2379\n",
       "-11.737338    2166\n",
       "-11.044190    1856\n",
       "-12.142803    1432\n",
       "-12.835950    1413\n",
       "-10.890040    1290\n",
       "-10.756508     925\n",
       "-10.638725     704\n",
       "-10.533365     554\n",
       "Name: 0, dtype: int64"
      ]
     },
     "execution_count": 162,
     "metadata": {},
     "output_type": "execute_result"
    }
   ],
   "source": [
    "coef_df.T[0].value_counts().head(10)"
   ]
  },
  {
   "cell_type": "markdown",
   "metadata": {},
   "source": [
    "These are the 10 most frequently recurring coefficients - some appear over 2_000 times! Clearly a lot of these words appeared not only the same proportion of times but also nearly exclusively in the Xbox (0) subreddit."
   ]
  },
  {
   "cell_type": "code",
   "execution_count": 165,
   "metadata": {},
   "outputs": [
    {
     "data": {
      "text/html": [
       "<div>\n",
       "<style scoped>\n",
       "    .dataframe tbody tr th:only-of-type {\n",
       "        vertical-align: middle;\n",
       "    }\n",
       "\n",
       "    .dataframe tbody tr th {\n",
       "        vertical-align: top;\n",
       "    }\n",
       "\n",
       "    .dataframe thead th {\n",
       "        text-align: right;\n",
       "    }\n",
       "</style>\n",
       "<table border=\"1\" class=\"dataframe\">\n",
       "  <thead>\n",
       "    <tr style=\"text-align: right;\">\n",
       "      <th></th>\n",
       "      <th>0</th>\n",
       "    </tr>\n",
       "  </thead>\n",
       "  <tbody>\n",
       "    <tr>\n",
       "      <th>made xbox</th>\n",
       "      <td>-12.83595</td>\n",
       "    </tr>\n",
       "    <tr>\n",
       "      <th>better pc</th>\n",
       "      <td>-12.83595</td>\n",
       "    </tr>\n",
       "    <tr>\n",
       "      <th>gp ultimate</th>\n",
       "      <td>-12.83595</td>\n",
       "    </tr>\n",
       "    <tr>\n",
       "      <th>problem posting</th>\n",
       "      <td>-12.83595</td>\n",
       "    </tr>\n",
       "    <tr>\n",
       "      <th>grammar</th>\n",
       "      <td>-12.83595</td>\n",
       "    </tr>\n",
       "    <tr>\n",
       "      <th>beta xbox</th>\n",
       "      <td>-12.83595</td>\n",
       "    </tr>\n",
       "    <tr>\n",
       "      <th>beta support</th>\n",
       "      <td>-12.83595</td>\n",
       "    </tr>\n",
       "    <tr>\n",
       "      <th>beta pc</th>\n",
       "      <td>-12.83595</td>\n",
       "    </tr>\n",
       "    <tr>\n",
       "      <th>beta app</th>\n",
       "      <td>-12.83595</td>\n",
       "    </tr>\n",
       "    <tr>\n",
       "      <th>best xbox</th>\n",
       "      <td>-12.83595</td>\n",
       "    </tr>\n",
       "  </tbody>\n",
       "</table>\n",
       "</div>"
      ],
      "text/plain": [
       "                        0\n",
       "made xbox       -12.83595\n",
       "better pc       -12.83595\n",
       "gp ultimate     -12.83595\n",
       "problem posting -12.83595\n",
       "grammar         -12.83595\n",
       "beta xbox       -12.83595\n",
       "beta support    -12.83595\n",
       "beta pc         -12.83595\n",
       "beta app        -12.83595\n",
       "best xbox       -12.83595"
      ]
     },
     "execution_count": 165,
     "metadata": {},
     "output_type": "execute_result"
    }
   ],
   "source": [
    "coef_df.T.sort_values(by=0).head(10)"
   ]
  },
  {
   "cell_type": "markdown",
   "metadata": {},
   "source": [
    "There are 1432 coefficients tied for strongest coefficient!"
   ]
  },
  {
   "cell_type": "markdown",
   "metadata": {},
   "source": [
    "### Model 10  \n",
    "#### Random Forest  \n",
    "(NOTES)"
   ]
  }
 ],
 "metadata": {
  "kernelspec": {
   "display_name": "Python 3",
   "language": "python",
   "name": "python3"
  },
  "language_info": {
   "codemirror_mode": {
    "name": "ipython",
    "version": 3
   },
   "file_extension": ".py",
   "mimetype": "text/x-python",
   "name": "python",
   "nbconvert_exporter": "python",
   "pygments_lexer": "ipython3",
   "version": "3.8.3"
  }
 },
 "nbformat": 4,
 "nbformat_minor": 4
}
