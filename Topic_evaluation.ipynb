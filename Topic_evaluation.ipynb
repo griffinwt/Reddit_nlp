{
 "cells": [
  {
   "cell_type": "code",
   "execution_count": 1,
   "metadata": {},
   "outputs": [],
   "source": [
    "import requests\n",
    "import pandas as pd\n",
    "import numpy as np\n",
    "#https://stackoverflow.com/questions/25351968/how-to-display-full-non-truncated-dataframe-information-in-html-when-convertin\n",
    "pd.set_option('display.max_colwidth', None)\n",
    "#https://stackoverflow.com/questions/19124601/pretty-print-an-entire-pandas-series-dataframe\n",
    "pd.set_option('display.max_rows', None)"
   ]
  },
  {
   "cell_type": "code",
   "execution_count": 2,
   "metadata": {},
   "outputs": [],
   "source": [
    "url = 'https://api.pushshift.io/reddit/search/submission'"
   ]
  },
  {
   "cell_type": "markdown",
   "metadata": {},
   "source": [
    "## r/RoastMe"
   ]
  },
  {
   "cell_type": "markdown",
   "metadata": {},
   "source": [
    "### Posts"
   ]
  },
  {
   "cell_type": "code",
   "execution_count": 3,
   "metadata": {},
   "outputs": [],
   "source": [
    "params = {\n",
    "    'subreddit' : 'RoastMe',\n",
    "    'size' : 100\n",
    "}"
   ]
  },
  {
   "cell_type": "code",
   "execution_count": 4,
   "metadata": {},
   "outputs": [],
   "source": [
    "res = requests.get(url, params)"
   ]
  },
  {
   "cell_type": "code",
   "execution_count": 5,
   "metadata": {},
   "outputs": [
    {
     "data": {
      "text/plain": [
       "200"
      ]
     },
     "execution_count": 5,
     "metadata": {},
     "output_type": "execute_result"
    }
   ],
   "source": [
    "res.status_code #means \"good\""
   ]
  },
  {
   "cell_type": "code",
   "execution_count": 6,
   "metadata": {},
   "outputs": [],
   "source": [
    "data = res.json()"
   ]
  },
  {
   "cell_type": "code",
   "execution_count": 7,
   "metadata": {},
   "outputs": [],
   "source": [
    "posts = data['data']"
   ]
  },
  {
   "cell_type": "code",
   "execution_count": 8,
   "metadata": {},
   "outputs": [
    {
     "data": {
      "text/plain": [
       "100"
      ]
     },
     "execution_count": 8,
     "metadata": {},
     "output_type": "execute_result"
    }
   ],
   "source": [
    "len(posts) "
   ]
  },
  {
   "cell_type": "code",
   "execution_count": 9,
   "metadata": {},
   "outputs": [],
   "source": [
    "df = pd.DataFrame(posts)"
   ]
  },
  {
   "cell_type": "code",
   "execution_count": 10,
   "metadata": {},
   "outputs": [
    {
     "data": {
      "text/plain": [
       "Index(['all_awardings', 'allow_live_comments', 'author',\n",
       "       'author_flair_css_class', 'author_flair_richtext', 'author_flair_text',\n",
       "       'author_flair_type', 'author_fullname', 'author_patreon_flair',\n",
       "       'author_premium', 'awarders', 'can_mod_post', 'contest_mode',\n",
       "       'created_utc', 'domain', 'full_link', 'gildings', 'id',\n",
       "       'is_crosspostable', 'is_meta', 'is_original_content',\n",
       "       'is_reddit_media_domain', 'is_robot_indexable', 'is_self', 'is_video',\n",
       "       'link_flair_background_color', 'link_flair_richtext',\n",
       "       'link_flair_text_color', 'link_flair_type', 'locked', 'media_only',\n",
       "       'no_follow', 'num_comments', 'num_crossposts', 'over_18',\n",
       "       'parent_whitelist_status', 'permalink', 'pinned', 'post_hint',\n",
       "       'preview', 'pwls', 'removed_by_category', 'retrieved_on', 'score',\n",
       "       'selftext', 'send_replies', 'spoiler', 'stickied', 'subreddit',\n",
       "       'subreddit_id', 'subreddit_subscribers', 'subreddit_type', 'thumbnail',\n",
       "       'thumbnail_height', 'thumbnail_width', 'title', 'total_awards_received',\n",
       "       'treatment_tags', 'upvote_ratio', 'url', 'url_overridden_by_dest',\n",
       "       'whitelist_status', 'wls', 'author_flair_background_color',\n",
       "       'author_flair_text_color', 'author_cakeday', 'is_gallery'],\n",
       "      dtype='object')"
      ]
     },
     "execution_count": 10,
     "metadata": {},
     "output_type": "execute_result"
    }
   ],
   "source": [
    "df.columns"
   ]
  },
  {
   "cell_type": "code",
   "execution_count": 11,
   "metadata": {},
   "outputs": [],
   "source": [
    "#df[['']]"
   ]
  },
  {
   "cell_type": "code",
   "execution_count": 12,
   "metadata": {},
   "outputs": [
    {
     "data": {
      "text/html": [
       "<div>\n",
       "<style scoped>\n",
       "    .dataframe tbody tr th:only-of-type {\n",
       "        vertical-align: middle;\n",
       "    }\n",
       "\n",
       "    .dataframe tbody tr th {\n",
       "        vertical-align: top;\n",
       "    }\n",
       "\n",
       "    .dataframe thead th {\n",
       "        text-align: right;\n",
       "    }\n",
       "</style>\n",
       "<table border=\"1\" class=\"dataframe\">\n",
       "  <thead>\n",
       "    <tr style=\"text-align: right;\">\n",
       "      <th></th>\n",
       "      <th>id</th>\n",
       "      <th>selftext</th>\n",
       "      <th>title</th>\n",
       "      <th>author</th>\n",
       "    </tr>\n",
       "  </thead>\n",
       "  <tbody>\n",
       "    <tr>\n",
       "      <th>0</th>\n",
       "      <td>jbcdbb</td>\n",
       "      <td></td>\n",
       "      <td>Today is my birthday, I'm already Venezuelan, nothing can destroy me anymore</td>\n",
       "      <td>elfotithor</td>\n",
       "    </tr>\n",
       "    <tr>\n",
       "      <th>1</th>\n",
       "      <td>jbc7yw</td>\n",
       "      <td></td>\n",
       "      <td>I’m bored, roast me 😐</td>\n",
       "      <td>NatySmile</td>\n",
       "    </tr>\n",
       "    <tr>\n",
       "      <th>2</th>\n",
       "      <td>jbc6lw</td>\n",
       "      <td></td>\n",
       "      <td>I am but a book, judge me by the lovely cover you see here.</td>\n",
       "      <td>TheBillsAreGood</td>\n",
       "    </tr>\n",
       "    <tr>\n",
       "      <th>3</th>\n",
       "      <td>jbc54m</td>\n",
       "      <td></td>\n",
       "      <td>Roast me 🤓</td>\n",
       "      <td>Jayda19</td>\n",
       "    </tr>\n",
       "    <tr>\n",
       "      <th>4</th>\n",
       "      <td>jbc4ak</td>\n",
       "      <td></td>\n",
       "      <td>16, male, play guitar, make 8 bucks an hour, never dated ,roast me</td>\n",
       "      <td>_the_jacko_</td>\n",
       "    </tr>\n",
       "  </tbody>\n",
       "</table>\n",
       "</div>"
      ],
      "text/plain": [
       "       id selftext  \\\n",
       "0  jbcdbb            \n",
       "1  jbc7yw            \n",
       "2  jbc6lw            \n",
       "3  jbc54m            \n",
       "4  jbc4ak            \n",
       "\n",
       "                                                                          title  \\\n",
       "0  Today is my birthday, I'm already Venezuelan, nothing can destroy me anymore   \n",
       "1                                                         I’m bored, roast me 😐   \n",
       "2                   I am but a book, judge me by the lovely cover you see here.   \n",
       "3                                                                    Roast me 🤓   \n",
       "4            16, male, play guitar, make 8 bucks an hour, never dated ,roast me   \n",
       "\n",
       "            author  \n",
       "0       elfotithor  \n",
       "1        NatySmile  \n",
       "2  TheBillsAreGood  \n",
       "3          Jayda19  \n",
       "4      _the_jacko_  "
      ]
     },
     "execution_count": 12,
     "metadata": {},
     "output_type": "execute_result"
    }
   ],
   "source": [
    "df[['id', 'selftext', 'title', 'author']].head()"
   ]
  },
  {
   "cell_type": "markdown",
   "metadata": {},
   "source": [
    "### Comments"
   ]
  },
  {
   "cell_type": "code",
   "execution_count": 13,
   "metadata": {},
   "outputs": [
    {
     "data": {
      "text/plain": [
       "200"
      ]
     },
     "execution_count": 13,
     "metadata": {},
     "output_type": "execute_result"
    }
   ],
   "source": [
    "url = 'https://api.pushshift.io/reddit/search/comment'\n",
    "params = {\n",
    "    'subreddit' : 'RoastMe',\n",
    "    'size' : 100,\n",
    "    'nest_level' : 1\n",
    "}\n",
    "res = requests.get(url, params)\n",
    "res.status_code #means \"good\"\n",
    "#got help w/nest_level code from James S."
   ]
  },
  {
   "cell_type": "code",
   "execution_count": 14,
   "metadata": {},
   "outputs": [
    {
     "data": {
      "text/plain": [
       "100"
      ]
     },
     "execution_count": 14,
     "metadata": {},
     "output_type": "execute_result"
    }
   ],
   "source": [
    "data = res.json()\n",
    "posts = data['data']\n",
    "len(posts) "
   ]
  },
  {
   "cell_type": "code",
   "execution_count": 15,
   "metadata": {},
   "outputs": [],
   "source": [
    "df = pd.DataFrame(posts)"
   ]
  },
  {
   "cell_type": "code",
   "execution_count": 16,
   "metadata": {},
   "outputs": [
    {
     "data": {
      "text/html": [
       "<div>\n",
       "<style scoped>\n",
       "    .dataframe tbody tr th:only-of-type {\n",
       "        vertical-align: middle;\n",
       "    }\n",
       "\n",
       "    .dataframe tbody tr th {\n",
       "        vertical-align: top;\n",
       "    }\n",
       "\n",
       "    .dataframe thead th {\n",
       "        text-align: right;\n",
       "    }\n",
       "</style>\n",
       "<table border=\"1\" class=\"dataframe\">\n",
       "  <thead>\n",
       "    <tr style=\"text-align: right;\">\n",
       "      <th></th>\n",
       "      <th>all_awardings</th>\n",
       "      <th>associated_award</th>\n",
       "      <th>author</th>\n",
       "      <th>author_flair_background_color</th>\n",
       "      <th>author_flair_css_class</th>\n",
       "      <th>author_flair_richtext</th>\n",
       "      <th>author_flair_template_id</th>\n",
       "      <th>author_flair_text</th>\n",
       "      <th>author_flair_text_color</th>\n",
       "      <th>author_flair_type</th>\n",
       "      <th>...</th>\n",
       "      <th>retrieved_on</th>\n",
       "      <th>score</th>\n",
       "      <th>send_replies</th>\n",
       "      <th>stickied</th>\n",
       "      <th>subreddit</th>\n",
       "      <th>subreddit_id</th>\n",
       "      <th>top_awarded_type</th>\n",
       "      <th>total_awards_received</th>\n",
       "      <th>treatment_tags</th>\n",
       "      <th>author_cakeday</th>\n",
       "    </tr>\n",
       "  </thead>\n",
       "  <tbody>\n",
       "    <tr>\n",
       "      <th>0</th>\n",
       "      <td>[]</td>\n",
       "      <td>None</td>\n",
       "      <td>Saving_Grace_OwO</td>\n",
       "      <td>None</td>\n",
       "      <td>None</td>\n",
       "      <td>[]</td>\n",
       "      <td>None</td>\n",
       "      <td>None</td>\n",
       "      <td>None</td>\n",
       "      <td>text</td>\n",
       "      <td>...</td>\n",
       "      <td>1602718965</td>\n",
       "      <td>1</td>\n",
       "      <td>True</td>\n",
       "      <td>False</td>\n",
       "      <td>RoastMe</td>\n",
       "      <td>t5_37xo2</td>\n",
       "      <td>None</td>\n",
       "      <td>0</td>\n",
       "      <td>[]</td>\n",
       "      <td>NaN</td>\n",
       "    </tr>\n",
       "    <tr>\n",
       "      <th>1</th>\n",
       "      <td>[]</td>\n",
       "      <td>None</td>\n",
       "      <td>Jedi_4_Hire96</td>\n",
       "      <td>None</td>\n",
       "      <td>None</td>\n",
       "      <td>[]</td>\n",
       "      <td>None</td>\n",
       "      <td>None</td>\n",
       "      <td>None</td>\n",
       "      <td>text</td>\n",
       "      <td>...</td>\n",
       "      <td>1602718955</td>\n",
       "      <td>1</td>\n",
       "      <td>True</td>\n",
       "      <td>False</td>\n",
       "      <td>RoastMe</td>\n",
       "      <td>t5_37xo2</td>\n",
       "      <td>None</td>\n",
       "      <td>0</td>\n",
       "      <td>[]</td>\n",
       "      <td>NaN</td>\n",
       "    </tr>\n",
       "    <tr>\n",
       "      <th>2</th>\n",
       "      <td>[]</td>\n",
       "      <td>None</td>\n",
       "      <td>Maggot_Corps</td>\n",
       "      <td>None</td>\n",
       "      <td>None</td>\n",
       "      <td>[]</td>\n",
       "      <td>None</td>\n",
       "      <td>None</td>\n",
       "      <td>None</td>\n",
       "      <td>text</td>\n",
       "      <td>...</td>\n",
       "      <td>1602718927</td>\n",
       "      <td>1</td>\n",
       "      <td>True</td>\n",
       "      <td>False</td>\n",
       "      <td>RoastMe</td>\n",
       "      <td>t5_37xo2</td>\n",
       "      <td>None</td>\n",
       "      <td>0</td>\n",
       "      <td>[]</td>\n",
       "      <td>NaN</td>\n",
       "    </tr>\n",
       "    <tr>\n",
       "      <th>3</th>\n",
       "      <td>[]</td>\n",
       "      <td>None</td>\n",
       "      <td>Suicidal_tumxur</td>\n",
       "      <td>None</td>\n",
       "      <td>None</td>\n",
       "      <td>[]</td>\n",
       "      <td>None</td>\n",
       "      <td>None</td>\n",
       "      <td>None</td>\n",
       "      <td>text</td>\n",
       "      <td>...</td>\n",
       "      <td>1602718907</td>\n",
       "      <td>1</td>\n",
       "      <td>True</td>\n",
       "      <td>False</td>\n",
       "      <td>RoastMe</td>\n",
       "      <td>t5_37xo2</td>\n",
       "      <td>None</td>\n",
       "      <td>0</td>\n",
       "      <td>[]</td>\n",
       "      <td>NaN</td>\n",
       "    </tr>\n",
       "    <tr>\n",
       "      <th>4</th>\n",
       "      <td>[]</td>\n",
       "      <td>None</td>\n",
       "      <td>diggum1996</td>\n",
       "      <td>None</td>\n",
       "      <td>None</td>\n",
       "      <td>[]</td>\n",
       "      <td>None</td>\n",
       "      <td>None</td>\n",
       "      <td>None</td>\n",
       "      <td>text</td>\n",
       "      <td>...</td>\n",
       "      <td>1602718885</td>\n",
       "      <td>1</td>\n",
       "      <td>True</td>\n",
       "      <td>False</td>\n",
       "      <td>RoastMe</td>\n",
       "      <td>t5_37xo2</td>\n",
       "      <td>None</td>\n",
       "      <td>0</td>\n",
       "      <td>[]</td>\n",
       "      <td>NaN</td>\n",
       "    </tr>\n",
       "  </tbody>\n",
       "</table>\n",
       "<p>5 rows × 36 columns</p>\n",
       "</div>"
      ],
      "text/plain": [
       "  all_awardings associated_award            author  \\\n",
       "0            []             None  Saving_Grace_OwO   \n",
       "1            []             None     Jedi_4_Hire96   \n",
       "2            []             None      Maggot_Corps   \n",
       "3            []             None   Suicidal_tumxur   \n",
       "4            []             None        diggum1996   \n",
       "\n",
       "  author_flair_background_color author_flair_css_class author_flair_richtext  \\\n",
       "0                          None                   None                    []   \n",
       "1                          None                   None                    []   \n",
       "2                          None                   None                    []   \n",
       "3                          None                   None                    []   \n",
       "4                          None                   None                    []   \n",
       "\n",
       "  author_flair_template_id author_flair_text author_flair_text_color  \\\n",
       "0                     None              None                    None   \n",
       "1                     None              None                    None   \n",
       "2                     None              None                    None   \n",
       "3                     None              None                    None   \n",
       "4                     None              None                    None   \n",
       "\n",
       "  author_flair_type  ... retrieved_on score send_replies stickied subreddit  \\\n",
       "0              text  ...   1602718965     1         True    False   RoastMe   \n",
       "1              text  ...   1602718955     1         True    False   RoastMe   \n",
       "2              text  ...   1602718927     1         True    False   RoastMe   \n",
       "3              text  ...   1602718907     1         True    False   RoastMe   \n",
       "4              text  ...   1602718885     1         True    False   RoastMe   \n",
       "\n",
       "  subreddit_id top_awarded_type  total_awards_received treatment_tags  \\\n",
       "0     t5_37xo2             None                      0             []   \n",
       "1     t5_37xo2             None                      0             []   \n",
       "2     t5_37xo2             None                      0             []   \n",
       "3     t5_37xo2             None                      0             []   \n",
       "4     t5_37xo2             None                      0             []   \n",
       "\n",
       "  author_cakeday  \n",
       "0            NaN  \n",
       "1            NaN  \n",
       "2            NaN  \n",
       "3            NaN  \n",
       "4            NaN  \n",
       "\n",
       "[5 rows x 36 columns]"
      ]
     },
     "execution_count": 16,
     "metadata": {},
     "output_type": "execute_result"
    }
   ],
   "source": [
    "df.head()"
   ]
  },
  {
   "cell_type": "code",
   "execution_count": 17,
   "metadata": {},
   "outputs": [],
   "source": [
    "#df.columns"
   ]
  },
  {
   "cell_type": "code",
   "execution_count": null,
   "metadata": {},
   "outputs": [],
   "source": [
    "df['link_id'].value_counts()"
   ]
  },
  {
   "cell_type": "code",
   "execution_count": 19,
   "metadata": {},
   "outputs": [
    {
     "data": {
      "text/html": [
       "<div>\n",
       "<style scoped>\n",
       "    .dataframe tbody tr th:only-of-type {\n",
       "        vertical-align: middle;\n",
       "    }\n",
       "\n",
       "    .dataframe tbody tr th {\n",
       "        vertical-align: top;\n",
       "    }\n",
       "\n",
       "    .dataframe thead th {\n",
       "        text-align: right;\n",
       "    }\n",
       "</style>\n",
       "<table border=\"1\" class=\"dataframe\">\n",
       "  <thead>\n",
       "    <tr style=\"text-align: right;\">\n",
       "      <th></th>\n",
       "      <th>link_id</th>\n",
       "      <th>author</th>\n",
       "      <th>body</th>\n",
       "    </tr>\n",
       "  </thead>\n",
       "  <tbody>\n",
       "    <tr>\n",
       "      <th>0</th>\n",
       "      <td>t3_jb1n85</td>\n",
       "      <td>Saving_Grace_OwO</td>\n",
       "      <td>Your moustache looks more like a maybestache</td>\n",
       "    </tr>\n",
       "    <tr>\n",
       "      <th>1</th>\n",
       "      <td>t3_jb2874</td>\n",
       "      <td>Jedi_4_Hire96</td>\n",
       "      <td>Your suppose to be roasting OP not me!</td>\n",
       "    </tr>\n",
       "    <tr>\n",
       "      <th>2</th>\n",
       "      <td>t3_jax1q2</td>\n",
       "      <td>Maggot_Corps</td>\n",
       "      <td>Roasts aside, I would honestly love to have you as a counselor, you look so chill and relaxed, kinda like Mr Small from Gumball</td>\n",
       "    </tr>\n",
       "    <tr>\n",
       "      <th>3</th>\n",
       "      <td>t3_jb2874</td>\n",
       "      <td>Suicidal_tumxur</td>\n",
       "      <td>The try guys should hire this man. He’d feel right at home</td>\n",
       "    </tr>\n",
       "    <tr>\n",
       "      <th>4</th>\n",
       "      <td>t3_jaz0ds</td>\n",
       "      <td>diggum1996</td>\n",
       "      <td>Which side of the Boyscout's lawsuit are you on?</td>\n",
       "    </tr>\n",
       "    <tr>\n",
       "      <th>5</th>\n",
       "      <td>t3_jb5crz</td>\n",
       "      <td>allMightyMostHigh</td>\n",
       "      <td>Came here just for this comment lol</td>\n",
       "    </tr>\n",
       "    <tr>\n",
       "      <th>6</th>\n",
       "      <td>t3_jb65of</td>\n",
       "      <td>49Gold</td>\n",
       "      <td>You look like a maid and a pool boy.</td>\n",
       "    </tr>\n",
       "    <tr>\n",
       "      <th>7</th>\n",
       "      <td>t3_jb5crz</td>\n",
       "      <td>Quirky-Pollution8455</td>\n",
       "      <td>He looks like his wig is getting snatched</td>\n",
       "    </tr>\n",
       "    <tr>\n",
       "      <th>8</th>\n",
       "      <td>t3_jax1q2</td>\n",
       "      <td>CarrieAyn1</td>\n",
       "      <td>Hmmm I sense Burning Man meets Jesus.</td>\n",
       "    </tr>\n",
       "    <tr>\n",
       "      <th>9</th>\n",
       "      <td>t3_jax1q2</td>\n",
       "      <td>[deleted]</td>\n",
       "      <td>[removed]</td>\n",
       "    </tr>\n",
       "  </tbody>\n",
       "</table>\n",
       "</div>"
      ],
      "text/plain": [
       "     link_id                author  \\\n",
       "0  t3_jb1n85      Saving_Grace_OwO   \n",
       "1  t3_jb2874         Jedi_4_Hire96   \n",
       "2  t3_jax1q2          Maggot_Corps   \n",
       "3  t3_jb2874       Suicidal_tumxur   \n",
       "4  t3_jaz0ds            diggum1996   \n",
       "5  t3_jb5crz     allMightyMostHigh   \n",
       "6  t3_jb65of                49Gold   \n",
       "7  t3_jb5crz  Quirky-Pollution8455   \n",
       "8  t3_jax1q2            CarrieAyn1   \n",
       "9  t3_jax1q2             [deleted]   \n",
       "\n",
       "                                                                                                                              body  \n",
       "0                                                                                     Your moustache looks more like a maybestache  \n",
       "1                                                                                           Your suppose to be roasting OP not me!  \n",
       "2  Roasts aside, I would honestly love to have you as a counselor, you look so chill and relaxed, kinda like Mr Small from Gumball  \n",
       "3                                                                       The try guys should hire this man. He’d feel right at home  \n",
       "4                                                                                 Which side of the Boyscout's lawsuit are you on?  \n",
       "5                                                                                              Came here just for this comment lol  \n",
       "6                                                                                             You look like a maid and a pool boy.  \n",
       "7                                                                                        He looks like his wig is getting snatched  \n",
       "8                                                                                            Hmmm I sense Burning Man meets Jesus.  \n",
       "9                                                                                                                        [removed]  "
      ]
     },
     "execution_count": 19,
     "metadata": {},
     "output_type": "execute_result"
    }
   ],
   "source": [
    "df[['link_id', 'author', 'body']].head(10)"
   ]
  },
  {
   "cell_type": "markdown",
   "metadata": {},
   "source": [
    "## r/FreeCompliments"
   ]
  },
  {
   "cell_type": "markdown",
   "metadata": {},
   "source": [
    "### Posts"
   ]
  },
  {
   "cell_type": "code",
   "execution_count": 20,
   "metadata": {},
   "outputs": [
    {
     "data": {
      "text/plain": [
       "200"
      ]
     },
     "execution_count": 20,
     "metadata": {},
     "output_type": "execute_result"
    }
   ],
   "source": [
    "url = 'https://api.pushshift.io/reddit/search/submission'\n",
    "params = {\n",
    "    'subreddit' : 'FreeCompliments',\n",
    "    'size' : 100\n",
    "}\n",
    "res = requests.get(url, params)\n",
    "res.status_code #means \"good\""
   ]
  },
  {
   "cell_type": "code",
   "execution_count": 21,
   "metadata": {},
   "outputs": [
    {
     "data": {
      "text/plain": [
       "100"
      ]
     },
     "execution_count": 21,
     "metadata": {},
     "output_type": "execute_result"
    }
   ],
   "source": [
    "data = res.json()\n",
    "posts = data['data']\n",
    "len(posts) "
   ]
  },
  {
   "cell_type": "code",
   "execution_count": 22,
   "metadata": {},
   "outputs": [],
   "source": [
    "df = pd.DataFrame(posts)"
   ]
  },
  {
   "cell_type": "code",
   "execution_count": 23,
   "metadata": {},
   "outputs": [],
   "source": [
    "#df.columns"
   ]
  },
  {
   "cell_type": "code",
   "execution_count": 24,
   "metadata": {},
   "outputs": [
    {
     "data": {
      "text/html": [
       "<div>\n",
       "<style scoped>\n",
       "    .dataframe tbody tr th:only-of-type {\n",
       "        vertical-align: middle;\n",
       "    }\n",
       "\n",
       "    .dataframe tbody tr th {\n",
       "        vertical-align: top;\n",
       "    }\n",
       "\n",
       "    .dataframe thead th {\n",
       "        text-align: right;\n",
       "    }\n",
       "</style>\n",
       "<table border=\"1\" class=\"dataframe\">\n",
       "  <thead>\n",
       "    <tr style=\"text-align: right;\">\n",
       "      <th></th>\n",
       "      <th>id</th>\n",
       "      <th>selftext</th>\n",
       "      <th>title</th>\n",
       "      <th>author</th>\n",
       "    </tr>\n",
       "  </thead>\n",
       "  <tbody>\n",
       "    <tr>\n",
       "      <th>0</th>\n",
       "      <td>jbc3ye</td>\n",
       "      <td></td>\n",
       "      <td>First time posting here. Been working out for years and feel like I see minimal results.</td>\n",
       "      <td>Dtroyt92</td>\n",
       "    </tr>\n",
       "    <tr>\n",
       "      <th>1</th>\n",
       "      <td>jbc1y7</td>\n",
       "      <td></td>\n",
       "      <td>Could use some cheering up</td>\n",
       "      <td>Worldly-Sir</td>\n",
       "    </tr>\n",
       "    <tr>\n",
       "      <th>2</th>\n",
       "      <td>jbb3yv</td>\n",
       "      <td></td>\n",
       "      <td>New here</td>\n",
       "      <td>Skeyess</td>\n",
       "    </tr>\n",
       "    <tr>\n",
       "      <th>3</th>\n",
       "      <td>jbazam</td>\n",
       "      <td></td>\n",
       "      <td>Lazy Wednesday</td>\n",
       "      <td>jodaqui</td>\n",
       "    </tr>\n",
       "    <tr>\n",
       "      <th>4</th>\n",
       "      <td>jbaxj9</td>\n",
       "      <td></td>\n",
       "      <td>Be the best version of yourself 😉❤️💋</td>\n",
       "      <td>chelseabbgirl</td>\n",
       "    </tr>\n",
       "  </tbody>\n",
       "</table>\n",
       "</div>"
      ],
      "text/plain": [
       "       id selftext  \\\n",
       "0  jbc3ye            \n",
       "1  jbc1y7            \n",
       "2  jbb3yv            \n",
       "3  jbazam            \n",
       "4  jbaxj9            \n",
       "\n",
       "                                                                                      title  \\\n",
       "0  First time posting here. Been working out for years and feel like I see minimal results.   \n",
       "1                                                                Could use some cheering up   \n",
       "2                                                                                  New here   \n",
       "3                                                                            Lazy Wednesday   \n",
       "4                                                      Be the best version of yourself 😉❤️💋   \n",
       "\n",
       "          author  \n",
       "0       Dtroyt92  \n",
       "1    Worldly-Sir  \n",
       "2        Skeyess  \n",
       "3        jodaqui  \n",
       "4  chelseabbgirl  "
      ]
     },
     "execution_count": 24,
     "metadata": {},
     "output_type": "execute_result"
    }
   ],
   "source": [
    "df[['id', 'selftext', 'title', 'author']].head()"
   ]
  },
  {
   "cell_type": "markdown",
   "metadata": {},
   "source": [
    "### Comments"
   ]
  },
  {
   "cell_type": "code",
   "execution_count": 25,
   "metadata": {},
   "outputs": [
    {
     "data": {
      "text/plain": [
       "200"
      ]
     },
     "execution_count": 25,
     "metadata": {},
     "output_type": "execute_result"
    }
   ],
   "source": [
    "url = 'https://api.pushshift.io/reddit/search/comment'\n",
    "params = {\n",
    "    'subreddit' : 'FreeCompliments',\n",
    "    'size' : 100,\n",
    "    'nest_level' : 1\n",
    "}\n",
    "res = requests.get(url, params)\n",
    "res.status_code #means \"good\""
   ]
  },
  {
   "cell_type": "code",
   "execution_count": 26,
   "metadata": {},
   "outputs": [],
   "source": [
    "data = res.json()\n",
    "posts = data['data']\n",
    "df = pd.DataFrame(posts)"
   ]
  },
  {
   "cell_type": "code",
   "execution_count": 27,
   "metadata": {},
   "outputs": [
    {
     "data": {
      "text/html": [
       "<div>\n",
       "<style scoped>\n",
       "    .dataframe tbody tr th:only-of-type {\n",
       "        vertical-align: middle;\n",
       "    }\n",
       "\n",
       "    .dataframe tbody tr th {\n",
       "        vertical-align: top;\n",
       "    }\n",
       "\n",
       "    .dataframe thead th {\n",
       "        text-align: right;\n",
       "    }\n",
       "</style>\n",
       "<table border=\"1\" class=\"dataframe\">\n",
       "  <thead>\n",
       "    <tr style=\"text-align: right;\">\n",
       "      <th></th>\n",
       "      <th>link_id</th>\n",
       "      <th>author</th>\n",
       "      <th>body</th>\n",
       "    </tr>\n",
       "  </thead>\n",
       "  <tbody>\n",
       "    <tr>\n",
       "      <th>0</th>\n",
       "      <td>t3_j9nx7a</td>\n",
       "      <td>H4ppyemmie</td>\n",
       "      <td>I think you have a cute smile with the shorter facial hair. Both are good, but I like the shorter trimmed :)</td>\n",
       "    </tr>\n",
       "    <tr>\n",
       "      <th>1</th>\n",
       "      <td>t3_jb3g9u</td>\n",
       "      <td>Valhallaviner</td>\n",
       "      <td>Thank you ☺️</td>\n",
       "    </tr>\n",
       "    <tr>\n",
       "      <th>2</th>\n",
       "      <td>t3_jbavau</td>\n",
       "      <td>Honeybabe-</td>\n",
       "      <td>You are literally so INSANELY gorgeous 😍 and you look like you’re really super nice</td>\n",
       "    </tr>\n",
       "    <tr>\n",
       "      <th>3</th>\n",
       "      <td>t3_jb3g9u</td>\n",
       "      <td>Valhallaviner</td>\n",
       "      <td>Ones beard upkeep is essential, thanks bud! :’D</td>\n",
       "    </tr>\n",
       "    <tr>\n",
       "      <th>4</th>\n",
       "      <td>t3_jaw5nv</td>\n",
       "      <td>jodaqui</td>\n",
       "      <td>Oh wow thats so so beautiful! 😍😍😍</td>\n",
       "    </tr>\n",
       "    <tr>\n",
       "      <th>5</th>\n",
       "      <td>t3_jau4ks</td>\n",
       "      <td>HerMajestysButthole</td>\n",
       "      <td>Looks great! It's just missing that infectious smile. 😊</td>\n",
       "    </tr>\n",
       "    <tr>\n",
       "      <th>6</th>\n",
       "      <td>t3_jb3g9u</td>\n",
       "      <td>Valhallaviner</td>\n",
       "      <td>Thank you ☺️</td>\n",
       "    </tr>\n",
       "    <tr>\n",
       "      <th>7</th>\n",
       "      <td>t3_jazadt</td>\n",
       "      <td>BeePannell</td>\n",
       "      <td>You're beautiful</td>\n",
       "    </tr>\n",
       "    <tr>\n",
       "      <th>8</th>\n",
       "      <td>t3_jazadt</td>\n",
       "      <td>BeePannell</td>\n",
       "      <td>Wonder why not Dsmn</td>\n",
       "    </tr>\n",
       "    <tr>\n",
       "      <th>9</th>\n",
       "      <td>t3_jaw5nv</td>\n",
       "      <td>unfamilliarbeing</td>\n",
       "      <td>[full tattoo! super awkward pic but ya ](https://imgur.com/a/eYdO0mT) 😅</td>\n",
       "    </tr>\n",
       "  </tbody>\n",
       "</table>\n",
       "</div>"
      ],
      "text/plain": [
       "     link_id               author  \\\n",
       "0  t3_j9nx7a           H4ppyemmie   \n",
       "1  t3_jb3g9u        Valhallaviner   \n",
       "2  t3_jbavau           Honeybabe-   \n",
       "3  t3_jb3g9u        Valhallaviner   \n",
       "4  t3_jaw5nv              jodaqui   \n",
       "5  t3_jau4ks  HerMajestysButthole   \n",
       "6  t3_jb3g9u        Valhallaviner   \n",
       "7  t3_jazadt           BeePannell   \n",
       "8  t3_jazadt           BeePannell   \n",
       "9  t3_jaw5nv     unfamilliarbeing   \n",
       "\n",
       "                                                                                                           body  \n",
       "0  I think you have a cute smile with the shorter facial hair. Both are good, but I like the shorter trimmed :)  \n",
       "1                                                                                                  Thank you ☺️  \n",
       "2                           You are literally so INSANELY gorgeous 😍 and you look like you’re really super nice  \n",
       "3                                                               Ones beard upkeep is essential, thanks bud! :’D  \n",
       "4                                                                             Oh wow thats so so beautiful! 😍😍😍  \n",
       "5                                                       Looks great! It's just missing that infectious smile. 😊  \n",
       "6                                                                                                  Thank you ☺️  \n",
       "7                                                                                              You're beautiful  \n",
       "8                                                                                           Wonder why not Dsmn  \n",
       "9                                       [full tattoo! super awkward pic but ya ](https://imgur.com/a/eYdO0mT) 😅  "
      ]
     },
     "execution_count": 27,
     "metadata": {},
     "output_type": "execute_result"
    }
   ],
   "source": [
    "df[['link_id', 'author', 'body']].head(10)"
   ]
  },
  {
   "cell_type": "markdown",
   "metadata": {},
   "source": [
    "## r/Depression"
   ]
  },
  {
   "cell_type": "markdown",
   "metadata": {},
   "source": [
    "### Posts"
   ]
  },
  {
   "cell_type": "code",
   "execution_count": 28,
   "metadata": {},
   "outputs": [
    {
     "data": {
      "text/plain": [
       "200"
      ]
     },
     "execution_count": 28,
     "metadata": {},
     "output_type": "execute_result"
    }
   ],
   "source": [
    "url = 'https://api.pushshift.io/reddit/search/submission'\n",
    "params = {\n",
    "    'subreddit' : 'Depression',\n",
    "    'size' : 100\n",
    "}\n",
    "res = requests.get(url, params)\n",
    "res.status_code #means \"good\""
   ]
  },
  {
   "cell_type": "code",
   "execution_count": 29,
   "metadata": {},
   "outputs": [
    {
     "data": {
      "text/plain": [
       "100"
      ]
     },
     "execution_count": 29,
     "metadata": {},
     "output_type": "execute_result"
    }
   ],
   "source": [
    "data = res.json()\n",
    "posts = data['data']\n",
    "len(posts) "
   ]
  },
  {
   "cell_type": "code",
   "execution_count": 30,
   "metadata": {},
   "outputs": [],
   "source": [
    "df = pd.DataFrame(posts)"
   ]
  },
  {
   "cell_type": "code",
   "execution_count": 31,
   "metadata": {},
   "outputs": [
    {
     "data": {
      "text/html": [
       "<div>\n",
       "<style scoped>\n",
       "    .dataframe tbody tr th:only-of-type {\n",
       "        vertical-align: middle;\n",
       "    }\n",
       "\n",
       "    .dataframe tbody tr th {\n",
       "        vertical-align: top;\n",
       "    }\n",
       "\n",
       "    .dataframe thead th {\n",
       "        text-align: right;\n",
       "    }\n",
       "</style>\n",
       "<table border=\"1\" class=\"dataframe\">\n",
       "  <thead>\n",
       "    <tr style=\"text-align: right;\">\n",
       "      <th></th>\n",
       "      <th>id</th>\n",
       "      <th>selftext</th>\n",
       "      <th>title</th>\n",
       "      <th>author</th>\n",
       "    </tr>\n",
       "  </thead>\n",
       "  <tbody>\n",
       "    <tr>\n",
       "      <th>0</th>\n",
       "      <td>jbcdb6</td>\n",
       "      <td>My therapist recommended Rogers to help with my extreme depression and anxiety. As well as suicidal ideations. I really can't afford anything, but I need help.</td>\n",
       "      <td>Does Rogers Behavioral Health have scholarships for people who can't afford the treatment?</td>\n",
       "      <td>opalitegoblin</td>\n",
       "    </tr>\n",
       "    <tr>\n",
       "      <th>1</th>\n",
       "      <td>jbccxz</td>\n",
       "      <td>[removed]</td>\n",
       "      <td>Exercise</td>\n",
       "      <td>opeckitt</td>\n",
       "    </tr>\n",
       "    <tr>\n",
       "      <th>2</th>\n",
       "      <td>jbcceg</td>\n",
       "      <td>I've realised this. i'm too indecisive and dont even know my own feelings, like sometimes i can't tell if I'm attracted to someone or not, my opinions on everything and feelings changed everyday. Im also afraid of intimacy, i hate touching people, i dont know how to show people i'm into them, i don't know how to tell people im into them, i also cant tell if someones into me (apart from a girl who tried to give me a handjob in maccies once). You know when you're horny and you're thinking about having sex and stuff, but the reality is i dont think i can do that, i couldnt even touch someone never mind put my dick in them. And the thing is ive kinda come to terms with this and i really wish i could just focus on my career and getting the car i want and doing the vlunteering i want to do, and move out of my parents house and get wolfdog (im on a 2 year waiting list for one :D). \\n\\nThere's other things i want in life, but im finding it very difficult achieving them, because this is on my mind a lot. Like i cant watch porn anymore, i cant watch people have sex when i never will, i hate being horny because i hate thinking about this. \\n\\nIts something ive thought a lot about for literally the last 8-10 years (im 22), some of my friends were having sex at 14, even the weird kid that got bullied did when he was 17, and the last person to lose it, one of my friends, who was 21.\\n\\nI just wish i could stop thinking about it forever, ive cried enough about it already, but the fact is in my imagination, in my head, when im horny i want sex. But in reality i couldn't do it</td>\n",
       "      <td>I'm Never Going To Have A Relationship</td>\n",
       "      <td>IAmEbolaSilva</td>\n",
       "    </tr>\n",
       "    <tr>\n",
       "      <th>3</th>\n",
       "      <td>jbcanf</td>\n",
       "      <td>In my life I've always been the strong one for my family. The one people look to for support or help. I'd always do anything I could whether it's for my siblings, my fiance, or my son. From the outside you'd never be able to tell how much I'm struggling because I'm always trying to make sure nobody feels the way i do.\\n\\nI have plenty of reasons to be happy. I'm set to marry my childhood best friend, we have a wonderful 5yo son, and I have a good career that treats me well.\\n\\nBut I'm just so tired.\\n\\nTired of feeling like a bad partner.  Tired of feeling like a bad father. I just don't know what to do. I just can't deal with this anxiety anymore.\\n\\nI don't want to be tired anymore and sometimes, if I'm honest, I don't want to be here anymore.</td>\n",
       "      <td>Tired of it all</td>\n",
       "      <td>robbrown2393</td>\n",
       "    </tr>\n",
       "    <tr>\n",
       "      <th>4</th>\n",
       "      <td>jbcal7</td>\n",
       "      <td>worthless fucking bullshit. i dont care if now i \"seem happy\" guess who still feels like shit and is getting worse and worse? me, that's who. fuck therapy and fuck my therapist. the other day i said to her \"there isn't really a point to this. we are all going to die and that's it.\" and she said some bullshit about \"heaven\" or something equally fucking stupid. i reminded her that i am, in fact, an atheist, and her response is \"well we have different beliefs\" and never addressed what i said again. so on top of my depression (that she is doing nothing to help with) and anxiety (that she is doing nothing to help with), now i have an existential crisis that she made worse. FUCK YOU AND FUCK THERAPY AND FUCK DEPRESSION AND MY STUPID MIND AND LEAVE ME THE FUCK ALONE</td>\n",
       "      <td>i hate therapy</td>\n",
       "      <td>novaspacexdragon</td>\n",
       "    </tr>\n",
       "  </tbody>\n",
       "</table>\n",
       "</div>"
      ],
      "text/plain": [
       "       id  \\\n",
       "0  jbcdb6   \n",
       "1  jbccxz   \n",
       "2  jbcceg   \n",
       "3  jbcanf   \n",
       "4  jbcal7   \n",
       "\n",
       "                                                                                                                                                                                                                                                                                                                                                                                                                                                                                                                                                                                                                                                                                                                                                                                                                                                                                                                                                                                                                                                                                                                                                                                                                                                                                                                                                                                                                                                                                                                                                                                                                                             selftext  \\\n",
       "0                                                                                                                                                                                                                                                                                                                                                                                                                                                                                                                                                                                                                                                                                                                                                                                                                                                                                                                                                                                                                                                                                                                                                                                                                                                                                                                                                                                                                                                                                     My therapist recommended Rogers to help with my extreme depression and anxiety. As well as suicidal ideations. I really can't afford anything, but I need help.   \n",
       "1                                                                                                                                                                                                                                                                                                                                                                                                                                                                                                                                                                                                                                                                                                                                                                                                                                                                                                                                                                                                                                                                                                                                                                                                                                                                                                                                                                                                                                                                                                                                                                                                                                           [removed]   \n",
       "2  I've realised this. i'm too indecisive and dont even know my own feelings, like sometimes i can't tell if I'm attracted to someone or not, my opinions on everything and feelings changed everyday. Im also afraid of intimacy, i hate touching people, i dont know how to show people i'm into them, i don't know how to tell people im into them, i also cant tell if someones into me (apart from a girl who tried to give me a handjob in maccies once). You know when you're horny and you're thinking about having sex and stuff, but the reality is i dont think i can do that, i couldnt even touch someone never mind put my dick in them. And the thing is ive kinda come to terms with this and i really wish i could just focus on my career and getting the car i want and doing the vlunteering i want to do, and move out of my parents house and get wolfdog (im on a 2 year waiting list for one :D). \\n\\nThere's other things i want in life, but im finding it very difficult achieving them, because this is on my mind a lot. Like i cant watch porn anymore, i cant watch people have sex when i never will, i hate being horny because i hate thinking about this. \\n\\nIts something ive thought a lot about for literally the last 8-10 years (im 22), some of my friends were having sex at 14, even the weird kid that got bullied did when he was 17, and the last person to lose it, one of my friends, who was 21.\\n\\nI just wish i could stop thinking about it forever, ive cried enough about it already, but the fact is in my imagination, in my head, when im horny i want sex. But in reality i couldn't do it   \n",
       "3                                                                                                                                                                                                                                                                                                                                                                                                                                                                                                                                                                                                                                                                                                                                                                                                                                                                 In my life I've always been the strong one for my family. The one people look to for support or help. I'd always do anything I could whether it's for my siblings, my fiance, or my son. From the outside you'd never be able to tell how much I'm struggling because I'm always trying to make sure nobody feels the way i do.\\n\\nI have plenty of reasons to be happy. I'm set to marry my childhood best friend, we have a wonderful 5yo son, and I have a good career that treats me well.\\n\\nBut I'm just so tired.\\n\\nTired of feeling like a bad partner.  Tired of feeling like a bad father. I just don't know what to do. I just can't deal with this anxiety anymore.\\n\\nI don't want to be tired anymore and sometimes, if I'm honest, I don't want to be here anymore.   \n",
       "4                                                                                                                                                                                                                                                                                                                                                                                                                                                                                                                                                                                                                                                                                                                                                                                                                                                   worthless fucking bullshit. i dont care if now i \"seem happy\" guess who still feels like shit and is getting worse and worse? me, that's who. fuck therapy and fuck my therapist. the other day i said to her \"there isn't really a point to this. we are all going to die and that's it.\" and she said some bullshit about \"heaven\" or something equally fucking stupid. i reminded her that i am, in fact, an atheist, and her response is \"well we have different beliefs\" and never addressed what i said again. so on top of my depression (that she is doing nothing to help with) and anxiety (that she is doing nothing to help with), now i have an existential crisis that she made worse. FUCK YOU AND FUCK THERAPY AND FUCK DEPRESSION AND MY STUPID MIND AND LEAVE ME THE FUCK ALONE   \n",
       "\n",
       "                                                                                        title  \\\n",
       "0  Does Rogers Behavioral Health have scholarships for people who can't afford the treatment?   \n",
       "1                                                                                    Exercise   \n",
       "2                                                      I'm Never Going To Have A Relationship   \n",
       "3                                                                             Tired of it all   \n",
       "4                                                                              i hate therapy   \n",
       "\n",
       "             author  \n",
       "0     opalitegoblin  \n",
       "1          opeckitt  \n",
       "2     IAmEbolaSilva  \n",
       "3      robbrown2393  \n",
       "4  novaspacexdragon  "
      ]
     },
     "execution_count": 31,
     "metadata": {},
     "output_type": "execute_result"
    }
   ],
   "source": [
    "df[['id', 'selftext', 'title', 'author']].head()"
   ]
  },
  {
   "cell_type": "markdown",
   "metadata": {},
   "source": []
  },
  {
   "cell_type": "code",
   "execution_count": 32,
   "metadata": {},
   "outputs": [
    {
     "data": {
      "text/plain": [
       "Index(['all_awardings', 'allow_live_comments', 'author',\n",
       "       'author_flair_css_class', 'author_flair_richtext', 'author_flair_text',\n",
       "       'author_flair_type', 'author_fullname', 'author_patreon_flair',\n",
       "       'author_premium', 'awarders', 'can_mod_post', 'contest_mode',\n",
       "       'created_utc', 'domain', 'full_link', 'gildings', 'id',\n",
       "       'is_crosspostable', 'is_meta', 'is_original_content',\n",
       "       'is_reddit_media_domain', 'is_robot_indexable', 'is_self', 'is_video',\n",
       "       'link_flair_background_color', 'link_flair_richtext',\n",
       "       'link_flair_text_color', 'link_flair_type', 'locked', 'media_only',\n",
       "       'no_follow', 'num_comments', 'num_crossposts', 'over_18',\n",
       "       'parent_whitelist_status', 'permalink', 'pinned', 'pwls',\n",
       "       'retrieved_on', 'score', 'selftext', 'send_replies', 'spoiler',\n",
       "       'stickied', 'subreddit', 'subreddit_id', 'subreddit_subscribers',\n",
       "       'subreddit_type', 'suggested_sort', 'thumbnail', 'title',\n",
       "       'total_awards_received', 'treatment_tags', 'upvote_ratio', 'url',\n",
       "       'whitelist_status', 'wls', 'removed_by_category',\n",
       "       'author_flair_background_color', 'author_flair_text_color'],\n",
       "      dtype='object')"
      ]
     },
     "execution_count": 32,
     "metadata": {},
     "output_type": "execute_result"
    }
   ],
   "source": [
    "df.columns"
   ]
  },
  {
   "cell_type": "markdown",
   "metadata": {},
   "source": [
    "### Comments"
   ]
  },
  {
   "cell_type": "code",
   "execution_count": 33,
   "metadata": {},
   "outputs": [
    {
     "data": {
      "text/plain": [
       "200"
      ]
     },
     "execution_count": 33,
     "metadata": {},
     "output_type": "execute_result"
    }
   ],
   "source": [
    "url = 'https://api.pushshift.io/reddit/search/comment'\n",
    "params = {\n",
    "    'subreddit' : 'Depression',\n",
    "    'size' : 100,\n",
    "    'nest_level' : 1\n",
    "}\n",
    "res = requests.get(url, params)\n",
    "res.status_code #means \"good\""
   ]
  },
  {
   "cell_type": "code",
   "execution_count": 34,
   "metadata": {},
   "outputs": [],
   "source": [
    "data = res.json()\n",
    "posts = data['data']\n",
    "df = pd.DataFrame(posts)"
   ]
  },
  {
   "cell_type": "code",
   "execution_count": 35,
   "metadata": {},
   "outputs": [
    {
     "data": {
      "text/html": [
       "<div>\n",
       "<style scoped>\n",
       "    .dataframe tbody tr th:only-of-type {\n",
       "        vertical-align: middle;\n",
       "    }\n",
       "\n",
       "    .dataframe tbody tr th {\n",
       "        vertical-align: top;\n",
       "    }\n",
       "\n",
       "    .dataframe thead th {\n",
       "        text-align: right;\n",
       "    }\n",
       "</style>\n",
       "<table border=\"1\" class=\"dataframe\">\n",
       "  <thead>\n",
       "    <tr style=\"text-align: right;\">\n",
       "      <th></th>\n",
       "      <th>link_id</th>\n",
       "      <th>author</th>\n",
       "      <th>body</th>\n",
       "    </tr>\n",
       "  </thead>\n",
       "  <tbody>\n",
       "    <tr>\n",
       "      <th>0</th>\n",
       "      <td>t3_jb0mom</td>\n",
       "      <td>usergeneratedcomment</td>\n",
       "      <td>Even if you're asleep for a long time, quality of sleep is what matters most. 6 hours of quality sleep is more effective than 15 hours of poor quality sleep.</td>\n",
       "    </tr>\n",
       "    <tr>\n",
       "      <th>1</th>\n",
       "      <td>t3_jbaprb</td>\n",
       "      <td>AmaninTheriver2819</td>\n",
       "      <td>I had to go through your posts to figure out how to hurt you.</td>\n",
       "    </tr>\n",
       "    <tr>\n",
       "      <th>2</th>\n",
       "      <td>t3_jaqs1i</td>\n",
       "      <td>AJlucky007</td>\n",
       "      <td>Thanks man I appreciate it</td>\n",
       "    </tr>\n",
       "    <tr>\n",
       "      <th>3</th>\n",
       "      <td>t3_jb3xs8</td>\n",
       "      <td>fdsjaiopfdsjaoip</td>\n",
       "      <td>being \"good looking\" has many downsides to it. what if somebody only liked the way you looked and didnt care about your personality?</td>\n",
       "    </tr>\n",
       "    <tr>\n",
       "      <th>4</th>\n",
       "      <td>t3_jbao0b</td>\n",
       "      <td>[deleted]</td>\n",
       "      <td>[removed]</td>\n",
       "    </tr>\n",
       "    <tr>\n",
       "      <th>5</th>\n",
       "      <td>t3_jb9pxi</td>\n",
       "      <td>peprollgod</td>\n",
       "      <td>I also experience SAD, along with my depression, but in a weird, different way than yours.  For me, the longer hours of darkness are a comfort, similar to a weighted blanket.</td>\n",
       "    </tr>\n",
       "    <tr>\n",
       "      <th>6</th>\n",
       "      <td>t3_jbaz83</td>\n",
       "      <td>Ghulam_Jewel</td>\n",
       "      <td>Happiness will come and go. No one is truly happy forever. It is the part and parcel of life. Sometimes you will have many happy years other times that happiness will be lost and be replaced by grief and sadness.</td>\n",
       "    </tr>\n",
       "    <tr>\n",
       "      <th>7</th>\n",
       "      <td>t3_jb0u5u</td>\n",
       "      <td>mamesue</td>\n",
       "      <td>My mom, my dog, and my boyfriend. I don’t want to fuck any of them up with that.</td>\n",
       "    </tr>\n",
       "    <tr>\n",
       "      <th>8</th>\n",
       "      <td>t3_jbaprb</td>\n",
       "      <td>your-average-teen</td>\n",
       "      <td>U stalker</td>\n",
       "    </tr>\n",
       "    <tr>\n",
       "      <th>9</th>\n",
       "      <td>t3_jbagja</td>\n",
       "      <td>thisguyandrew00</td>\n",
       "      <td>That’s some pretty good advice, I’ll definitely try eating on a schedule. \\n\\nThanks</td>\n",
       "    </tr>\n",
       "  </tbody>\n",
       "</table>\n",
       "</div>"
      ],
      "text/plain": [
       "     link_id                author  \\\n",
       "0  t3_jb0mom  usergeneratedcomment   \n",
       "1  t3_jbaprb    AmaninTheriver2819   \n",
       "2  t3_jaqs1i            AJlucky007   \n",
       "3  t3_jb3xs8      fdsjaiopfdsjaoip   \n",
       "4  t3_jbao0b             [deleted]   \n",
       "5  t3_jb9pxi            peprollgod   \n",
       "6  t3_jbaz83          Ghulam_Jewel   \n",
       "7  t3_jb0u5u               mamesue   \n",
       "8  t3_jbaprb     your-average-teen   \n",
       "9  t3_jbagja       thisguyandrew00   \n",
       "\n",
       "                                                                                                                                                                                                                   body  \n",
       "0                                                         Even if you're asleep for a long time, quality of sleep is what matters most. 6 hours of quality sleep is more effective than 15 hours of poor quality sleep.  \n",
       "1                                                                                                                                                         I had to go through your posts to figure out how to hurt you.  \n",
       "2                                                                                                                                                                                            Thanks man I appreciate it  \n",
       "3                                                                                  being \"good looking\" has many downsides to it. what if somebody only liked the way you looked and didnt care about your personality?  \n",
       "4                                                                                                                                                                                                             [removed]  \n",
       "5                                        I also experience SAD, along with my depression, but in a weird, different way than yours.  For me, the longer hours of darkness are a comfort, similar to a weighted blanket.  \n",
       "6  Happiness will come and go. No one is truly happy forever. It is the part and parcel of life. Sometimes you will have many happy years other times that happiness will be lost and be replaced by grief and sadness.  \n",
       "7                                                                                                                                      My mom, my dog, and my boyfriend. I don’t want to fuck any of them up with that.  \n",
       "8                                                                                                                                                                                                             U stalker  \n",
       "9                                                                                                                                  That’s some pretty good advice, I’ll definitely try eating on a schedule. \\n\\nThanks  "
      ]
     },
     "execution_count": 35,
     "metadata": {},
     "output_type": "execute_result"
    }
   ],
   "source": [
    "df[['link_id', 'author', 'body']].head(10)"
   ]
  },
  {
   "cell_type": "markdown",
   "metadata": {},
   "source": [
    "## r/Xbox"
   ]
  },
  {
   "cell_type": "markdown",
   "metadata": {},
   "source": [
    "### Posts"
   ]
  },
  {
   "cell_type": "code",
   "execution_count": null,
   "metadata": {},
   "outputs": [],
   "source": [
    "url = 'https://api.pushshift.io/reddit/search/submission'\n",
    "params = {\n",
    "    'subreddit' : 'Xbox',\n",
    "    'size' : 100\n",
    "}\n",
    "res = requests.get(url, params)\n",
    "res.status_code"
   ]
  },
  {
   "cell_type": "code",
   "execution_count": 37,
   "metadata": {},
   "outputs": [
    {
     "data": {
      "text/plain": [
       "100"
      ]
     },
     "execution_count": 37,
     "metadata": {},
     "output_type": "execute_result"
    }
   ],
   "source": [
    "data = res.json()\n",
    "posts = data['data']\n",
    "len(posts) "
   ]
  },
  {
   "cell_type": "code",
   "execution_count": 38,
   "metadata": {},
   "outputs": [],
   "source": [
    "df = pd.DataFrame(posts)"
   ]
  },
  {
   "cell_type": "code",
   "execution_count": 39,
   "metadata": {},
   "outputs": [
    {
     "data": {
      "text/html": [
       "<div>\n",
       "<style scoped>\n",
       "    .dataframe tbody tr th:only-of-type {\n",
       "        vertical-align: middle;\n",
       "    }\n",
       "\n",
       "    .dataframe tbody tr th {\n",
       "        vertical-align: top;\n",
       "    }\n",
       "\n",
       "    .dataframe thead th {\n",
       "        text-align: right;\n",
       "    }\n",
       "</style>\n",
       "<table border=\"1\" class=\"dataframe\">\n",
       "  <thead>\n",
       "    <tr style=\"text-align: right;\">\n",
       "      <th></th>\n",
       "      <th>id</th>\n",
       "      <th>selftext</th>\n",
       "      <th>title</th>\n",
       "      <th>author</th>\n",
       "    </tr>\n",
       "  </thead>\n",
       "  <tbody>\n",
       "    <tr>\n",
       "      <th>0</th>\n",
       "      <td>jbca3p</td>\n",
       "      <td>Got a new Xbox 1 controller for my Xbox one S (same as my last controller) and for some reason it just won’t pair. Sometimes it will but the second I actually use it, it unpairs. Any way to fix this?</td>\n",
       "      <td>My controller isn’t working?</td>\n",
       "      <td>Embarrassed-Pie4877</td>\n",
       "    </tr>\n",
       "    <tr>\n",
       "      <th>1</th>\n",
       "      <td>jbc1uo</td>\n",
       "      <td>I have toshiba 55lf621c19 4k 60hz and it has a game mode for video but along with this it has motion processing as well which is off in game mode. So anyone can suggest any good settings for XSX to get best performance or should I stick with game mode?</td>\n",
       "      <td>Question related to T.V</td>\n",
       "      <td>Sitb28</td>\n",
       "    </tr>\n",
       "    <tr>\n",
       "      <th>2</th>\n",
       "      <td>jbbyzo</td>\n",
       "      <td>I cant add my xbox account to my xbox it just downloads the disappears</td>\n",
       "      <td>Fix</td>\n",
       "      <td>seremere</td>\n",
       "    </tr>\n",
       "    <tr>\n",
       "      <th>3</th>\n",
       "      <td>jbbsnt</td>\n",
       "      <td>[removed]</td>\n",
       "      <td>Help</td>\n",
       "      <td>DvD__</td>\n",
       "    </tr>\n",
       "    <tr>\n",
       "      <th>4</th>\n",
       "      <td>jbbrao</td>\n",
       "      <td>does anyone know anything about the Xbox series S version of marvel avengers, the upgrade yet?</td>\n",
       "      <td>Marvel avengers xbox series s</td>\n",
       "      <td>hellogeorgemcfly</td>\n",
       "    </tr>\n",
       "  </tbody>\n",
       "</table>\n",
       "</div>"
      ],
      "text/plain": [
       "       id  \\\n",
       "0  jbca3p   \n",
       "1  jbc1uo   \n",
       "2  jbbyzo   \n",
       "3  jbbsnt   \n",
       "4  jbbrao   \n",
       "\n",
       "                                                                                                                                                                                                                                                       selftext  \\\n",
       "0                                                       Got a new Xbox 1 controller for my Xbox one S (same as my last controller) and for some reason it just won’t pair. Sometimes it will but the second I actually use it, it unpairs. Any way to fix this?   \n",
       "1  I have toshiba 55lf621c19 4k 60hz and it has a game mode for video but along with this it has motion processing as well which is off in game mode. So anyone can suggest any good settings for XSX to get best performance or should I stick with game mode?   \n",
       "2                                                                                                                                                                                        I cant add my xbox account to my xbox it just downloads the disappears   \n",
       "3                                                                                                                                                                                                                                                     [removed]   \n",
       "4                                                                                                                                                                does anyone know anything about the Xbox series S version of marvel avengers, the upgrade yet?   \n",
       "\n",
       "                           title               author  \n",
       "0   My controller isn’t working?  Embarrassed-Pie4877  \n",
       "1        Question related to T.V               Sitb28  \n",
       "2                            Fix             seremere  \n",
       "3                           Help                DvD__  \n",
       "4  Marvel avengers xbox series s     hellogeorgemcfly  "
      ]
     },
     "execution_count": 39,
     "metadata": {},
     "output_type": "execute_result"
    }
   ],
   "source": [
    "df[['id', 'selftext', 'title', 'author']].head()"
   ]
  },
  {
   "cell_type": "code",
   "execution_count": null,
   "metadata": {},
   "outputs": [],
   "source": []
  },
  {
   "cell_type": "markdown",
   "metadata": {},
   "source": [
    "### Comments"
   ]
  },
  {
   "cell_type": "code",
   "execution_count": 40,
   "metadata": {},
   "outputs": [
    {
     "data": {
      "text/plain": [
       "200"
      ]
     },
     "execution_count": 40,
     "metadata": {},
     "output_type": "execute_result"
    }
   ],
   "source": [
    "url = 'https://api.pushshift.io/reddit/search/comment'\n",
    "params = {\n",
    "    'subreddit' : 'Xbox',\n",
    "    'size' : 100,\n",
    "    'nest_level' : 1\n",
    "}\n",
    "res = requests.get(url, params)\n",
    "res.status_code #means \"good\""
   ]
  },
  {
   "cell_type": "code",
   "execution_count": 41,
   "metadata": {},
   "outputs": [],
   "source": [
    "data = res.json()\n",
    "posts = data['data']\n",
    "df = pd.DataFrame(posts)"
   ]
  },
  {
   "cell_type": "code",
   "execution_count": 42,
   "metadata": {},
   "outputs": [
    {
     "data": {
      "text/html": [
       "<div>\n",
       "<style scoped>\n",
       "    .dataframe tbody tr th:only-of-type {\n",
       "        vertical-align: middle;\n",
       "    }\n",
       "\n",
       "    .dataframe tbody tr th {\n",
       "        vertical-align: top;\n",
       "    }\n",
       "\n",
       "    .dataframe thead th {\n",
       "        text-align: right;\n",
       "    }\n",
       "</style>\n",
       "<table border=\"1\" class=\"dataframe\">\n",
       "  <thead>\n",
       "    <tr style=\"text-align: right;\">\n",
       "      <th></th>\n",
       "      <th>link_id</th>\n",
       "      <th>author</th>\n",
       "      <th>body</th>\n",
       "    </tr>\n",
       "  </thead>\n",
       "  <tbody>\n",
       "    <tr>\n",
       "      <th>0</th>\n",
       "      <td>t3_jaxcw5</td>\n",
       "      <td>xInfiniteZer0x</td>\n",
       "      <td>Can't go wrong with xbox,but at this point(unless you want physical discs) Series S is the best value option.👍</td>\n",
       "    </tr>\n",
       "    <tr>\n",
       "      <th>1</th>\n",
       "      <td>t3_jba362</td>\n",
       "      <td>stephedog3</td>\n",
       "      <td>Nothing shows up when I click on it but I think I found it out</td>\n",
       "    </tr>\n",
       "    <tr>\n",
       "      <th>2</th>\n",
       "      <td>t3_jba362</td>\n",
       "      <td>UnHoly_One</td>\n",
       "      <td>Are you sure they are actually gone?\\n\\nI notice it says \"Xbox one X enhanced games\" at the top.\\n\\nDo you have it filtered in such a way that it is only showing you that one game?</td>\n",
       "    </tr>\n",
       "    <tr>\n",
       "      <th>3</th>\n",
       "      <td>t3_jbauem</td>\n",
       "      <td>Veehxia</td>\n",
       "      <td>Thank you, I'll try it tomorrow and hope it works, so I can backup some saves when the XSX arrives.\\n\\nAfter the first login I can disable the authenticator right ?</td>\n",
       "    </tr>\n",
       "    <tr>\n",
       "      <th>4</th>\n",
       "      <td>t3_jamgje</td>\n",
       "      <td>NuttyToucan</td>\n",
       "      <td>It looks like that has HDMI 1.4, so I think it should support 120hz over HDMI.</td>\n",
       "    </tr>\n",
       "    <tr>\n",
       "      <th>5</th>\n",
       "      <td>t3_jayo59</td>\n",
       "      <td>prospeezy</td>\n",
       "      <td>I’m emotional and soo happy</td>\n",
       "    </tr>\n",
       "    <tr>\n",
       "      <th>6</th>\n",
       "      <td>t3_jbauem</td>\n",
       "      <td>arhra</td>\n",
       "      <td>You need to set up an app password for your 360:\\n\\nhttps://support.xbox.com/en-US/help/xbox-360/security/set-up-app-password\\n\\nThe support article talks about using it to bypass two-factor auth, but it's the same process to work around a too-long password.</td>\n",
       "    </tr>\n",
       "    <tr>\n",
       "      <th>7</th>\n",
       "      <td>t3_jbaoxu</td>\n",
       "      <td>GoGoGadgetReddit</td>\n",
       "      <td>Your post has been removed. Self-promotion and sales posts are not allowed here. Please read the rules in the sidebar.</td>\n",
       "    </tr>\n",
       "    <tr>\n",
       "      <th>8</th>\n",
       "      <td>t3_jbaji9</td>\n",
       "      <td>Carlor_Stonefist</td>\n",
       "      <td>I’m having the same problem, I think it’s just on Xbox’s end</td>\n",
       "    </tr>\n",
       "    <tr>\n",
       "      <th>9</th>\n",
       "      <td>t3_jba362</td>\n",
       "      <td>Wjcruiser2003</td>\n",
       "      <td>When you delete a game you progress with be saved to the cloud, I'm not sure how all your games were deleted but you may want to check with family members pr people that also play on your Xbox.</td>\n",
       "    </tr>\n",
       "  </tbody>\n",
       "</table>\n",
       "</div>"
      ],
      "text/plain": [
       "     link_id            author  \\\n",
       "0  t3_jaxcw5    xInfiniteZer0x   \n",
       "1  t3_jba362        stephedog3   \n",
       "2  t3_jba362        UnHoly_One   \n",
       "3  t3_jbauem           Veehxia   \n",
       "4  t3_jamgje       NuttyToucan   \n",
       "5  t3_jayo59         prospeezy   \n",
       "6  t3_jbauem             arhra   \n",
       "7  t3_jbaoxu  GoGoGadgetReddit   \n",
       "8  t3_jbaji9  Carlor_Stonefist   \n",
       "9  t3_jba362     Wjcruiser2003   \n",
       "\n",
       "                                                                                                                                                                                                                                                                 body  \n",
       "0                                                                                                                                                      Can't go wrong with xbox,but at this point(unless you want physical discs) Series S is the best value option.👍  \n",
       "1                                                                                                                                                                                                      Nothing shows up when I click on it but I think I found it out  \n",
       "2                                                                                Are you sure they are actually gone?\\n\\nI notice it says \"Xbox one X enhanced games\" at the top.\\n\\nDo you have it filtered in such a way that it is only showing you that one game?  \n",
       "3                                                                                                Thank you, I'll try it tomorrow and hope it works, so I can backup some saves when the XSX arrives.\\n\\nAfter the first login I can disable the authenticator right ?  \n",
       "4                                                                                                                                                                                      It looks like that has HDMI 1.4, so I think it should support 120hz over HDMI.  \n",
       "5                                                                                                                                                                                                                                         I’m emotional and soo happy  \n",
       "6  You need to set up an app password for your 360:\\n\\nhttps://support.xbox.com/en-US/help/xbox-360/security/set-up-app-password\\n\\nThe support article talks about using it to bypass two-factor auth, but it's the same process to work around a too-long password.  \n",
       "7                                                                                                                                              Your post has been removed. Self-promotion and sales posts are not allowed here. Please read the rules in the sidebar.  \n",
       "8                                                                                                                                                                                                        I’m having the same problem, I think it’s just on Xbox’s end  \n",
       "9                                                                   When you delete a game you progress with be saved to the cloud, I'm not sure how all your games were deleted but you may want to check with family members pr people that also play on your Xbox.  "
      ]
     },
     "execution_count": 42,
     "metadata": {},
     "output_type": "execute_result"
    }
   ],
   "source": [
    "df[['link_id', 'author', 'body']].head(10)"
   ]
  },
  {
   "cell_type": "markdown",
   "metadata": {},
   "source": [
    "### r/Playstation"
   ]
  },
  {
   "cell_type": "markdown",
   "metadata": {},
   "source": [
    "### Posts"
   ]
  },
  {
   "cell_type": "code",
   "execution_count": 43,
   "metadata": {},
   "outputs": [
    {
     "data": {
      "text/plain": [
       "200"
      ]
     },
     "execution_count": 43,
     "metadata": {},
     "output_type": "execute_result"
    }
   ],
   "source": [
    "url = 'https://api.pushshift.io/reddit/search/submission'\n",
    "params = {\n",
    "    'subreddit' : 'Playstation',\n",
    "    'size' : 100\n",
    "}\n",
    "res = requests.get(url, params)\n",
    "res.status_code"
   ]
  },
  {
   "cell_type": "code",
   "execution_count": 44,
   "metadata": {},
   "outputs": [],
   "source": [
    "data = res.json()\n",
    "posts = data['data']\n",
    "df = pd.DataFrame(posts)"
   ]
  },
  {
   "cell_type": "code",
   "execution_count": 45,
   "metadata": {},
   "outputs": [
    {
     "data": {
      "text/html": [
       "<div>\n",
       "<style scoped>\n",
       "    .dataframe tbody tr th:only-of-type {\n",
       "        vertical-align: middle;\n",
       "    }\n",
       "\n",
       "    .dataframe tbody tr th {\n",
       "        vertical-align: top;\n",
       "    }\n",
       "\n",
       "    .dataframe thead th {\n",
       "        text-align: right;\n",
       "    }\n",
       "</style>\n",
       "<table border=\"1\" class=\"dataframe\">\n",
       "  <thead>\n",
       "    <tr style=\"text-align: right;\">\n",
       "      <th></th>\n",
       "      <th>id</th>\n",
       "      <th>selftext</th>\n",
       "      <th>title</th>\n",
       "      <th>author</th>\n",
       "    </tr>\n",
       "  </thead>\n",
       "  <tbody>\n",
       "    <tr>\n",
       "      <th>0</th>\n",
       "      <td>jbcdhj</td>\n",
       "      <td>Used to create a party then it would say \"play together\". I can no longer find this option. \\nCan someone let me know how to go about inviting your party to play?\\n\\nAnd yes this update is pure garbage.</td>\n",
       "      <td>How do I invite someone to play online now (CODWW2)? After stupid update.</td>\n",
       "      <td>Bend_The_Bracket</td>\n",
       "    </tr>\n",
       "    <tr>\n",
       "      <th>1</th>\n",
       "      <td>jbcbyb</td>\n",
       "      <td></td>\n",
       "      <td>Check out this Tekové Potí 3.0 - FIFA20 match on Battlefy!</td>\n",
       "      <td>PsychologicalKey7784</td>\n",
       "    </tr>\n",
       "    <tr>\n",
       "      <th>2</th>\n",
       "      <td>jbcaj9</td>\n",
       "      <td>My account was hacked 1-2 weeks ago and I received help then with a password reset and an update on the email address. Within one week of being hacked it happened again. The 2nd time it got resolved the same way the first time went except this time I decided to try to figure why I kept getting hacked. So I went on to ask the playstation representative if their was anything we could do besides following all the safety guidelines (which I had previously done the first time I got hacked) to help me from getting hacked again. THE ONLY RESPONSE the playstation associate could give me was “their is no suspicious activity on the account” being frustrated as to why I couldn’t get help I asked if I can speak with  someone else. I was then laughed at and told no. This is when my frustration peaked to the point of tears and I said thank you and goodbye. The following day an application was being updated on my ps4. When it was finished updating I was about to go on, but then my account got signed out of. So when I went to go log back in, I received a message saying my account has been locked for 14 days due to misconduct. AGAIN I am frustrated. AGAIN I went on to contact playstation for assistance. And AGAIN I am told there is nothing they can do to help. I am on playstation with friends almost everyday playing online. I have never been more upset with a company to how they are handling customer service. And this is coming from someone who has to deal with customers everyday. I have always been one to say how playstation is so much better than xbox. But now I have lost complete faith in playstation. Is there anyone out there that can give me an idea of what to do next? Because PlayStation is refusing to help me.</td>\n",
       "      <td>NEED MAJOR HELP</td>\n",
       "      <td>shyysteeze100</td>\n",
       "    </tr>\n",
       "    <tr>\n",
       "      <th>3</th>\n",
       "      <td>jbc9hd</td>\n",
       "      <td></td>\n",
       "      <td>How everyone reacted to the new PS4 8.00 update. Seriously this update is a disaster</td>\n",
       "      <td>BIG-Z-2001</td>\n",
       "    </tr>\n",
       "    <tr>\n",
       "      <th>4</th>\n",
       "      <td>jbc7yu</td>\n",
       "      <td>I wanted to update the ps4 and somehow I got stuck here pressing the PS button on the Dualshock isn't doing anything at all it just blinks and turns off the error code i keep getting is (SU-30746-0)</td>\n",
       "      <td>Im stuck on the System Software Update screen</td>\n",
       "      <td>sodarockcandy</td>\n",
       "    </tr>\n",
       "  </tbody>\n",
       "</table>\n",
       "</div>"
      ],
      "text/plain": [
       "       id  \\\n",
       "0  jbcdhj   \n",
       "1  jbcbyb   \n",
       "2  jbcaj9   \n",
       "3  jbc9hd   \n",
       "4  jbc7yu   \n",
       "\n",
       "                                                                                                                                                                                                                                                                                                                                                                                                                                                                                                                                                                                                                                                                                                                                                                                                                                                                                                                                                                                                                                                                                                                                                                                                                                                                                                                                                                                                                                                                                                                                                                                                                                                                                                                                                                                            selftext  \\\n",
       "0                                                                                                                                                                                                                                                                                                                                                                                                                                                                                                                                                                                                                                                                                                                                                                                                                                                                                                                                                                                                                                                                                                                                                                                                                                                                                                                                                                                                                                                                                                                                                                                         Used to create a party then it would say \"play together\". I can no longer find this option. \\nCan someone let me know how to go about inviting your party to play?\\n\\nAnd yes this update is pure garbage.   \n",
       "1                                                                                                                                                                                                                                                                                                                                                                                                                                                                                                                                                                                                                                                                                                                                                                                                                                                                                                                                                                                                                                                                                                                                                                                                                                                                                                                                                                                                                                                                                                                                                                                                                                                                                                                                                                                                      \n",
       "2  My account was hacked 1-2 weeks ago and I received help then with a password reset and an update on the email address. Within one week of being hacked it happened again. The 2nd time it got resolved the same way the first time went except this time I decided to try to figure why I kept getting hacked. So I went on to ask the playstation representative if their was anything we could do besides following all the safety guidelines (which I had previously done the first time I got hacked) to help me from getting hacked again. THE ONLY RESPONSE the playstation associate could give me was “their is no suspicious activity on the account” being frustrated as to why I couldn’t get help I asked if I can speak with  someone else. I was then laughed at and told no. This is when my frustration peaked to the point of tears and I said thank you and goodbye. The following day an application was being updated on my ps4. When it was finished updating I was about to go on, but then my account got signed out of. So when I went to go log back in, I received a message saying my account has been locked for 14 days due to misconduct. AGAIN I am frustrated. AGAIN I went on to contact playstation for assistance. And AGAIN I am told there is nothing they can do to help. I am on playstation with friends almost everyday playing online. I have never been more upset with a company to how they are handling customer service. And this is coming from someone who has to deal with customers everyday. I have always been one to say how playstation is so much better than xbox. But now I have lost complete faith in playstation. Is there anyone out there that can give me an idea of what to do next? Because PlayStation is refusing to help me.   \n",
       "3                                                                                                                                                                                                                                                                                                                                                                                                                                                                                                                                                                                                                                                                                                                                                                                                                                                                                                                                                                                                                                                                                                                                                                                                                                                                                                                                                                                                                                                                                                                                                                                                                                                                                                                                                                                                      \n",
       "4                                                                                                                                                                                                                                                                                                                                                                                                                                                                                                                                                                                                                                                                                                                                                                                                                                                                                                                                                                                                                                                                                                                                                                                                                                                                                                                                                                                                                                                                                                                                                                                             I wanted to update the ps4 and somehow I got stuck here pressing the PS button on the Dualshock isn't doing anything at all it just blinks and turns off the error code i keep getting is (SU-30746-0)   \n",
       "\n",
       "                                                                                  title  \\\n",
       "0             How do I invite someone to play online now (CODWW2)? After stupid update.   \n",
       "1                            Check out this Tekové Potí 3.0 - FIFA20 match on Battlefy!   \n",
       "2                                                                       NEED MAJOR HELP   \n",
       "3  How everyone reacted to the new PS4 8.00 update. Seriously this update is a disaster   \n",
       "4                                         Im stuck on the System Software Update screen   \n",
       "\n",
       "                 author  \n",
       "0      Bend_The_Bracket  \n",
       "1  PsychologicalKey7784  \n",
       "2         shyysteeze100  \n",
       "3            BIG-Z-2001  \n",
       "4         sodarockcandy  "
      ]
     },
     "execution_count": 45,
     "metadata": {},
     "output_type": "execute_result"
    }
   ],
   "source": [
    "df[['id', 'selftext', 'title', 'author']].head()"
   ]
  },
  {
   "cell_type": "markdown",
   "metadata": {},
   "source": [
    "### Comments"
   ]
  },
  {
   "cell_type": "code",
   "execution_count": 46,
   "metadata": {},
   "outputs": [
    {
     "data": {
      "text/plain": [
       "200"
      ]
     },
     "execution_count": 46,
     "metadata": {},
     "output_type": "execute_result"
    }
   ],
   "source": [
    "url = 'https://api.pushshift.io/reddit/search/comment'\n",
    "params = {\n",
    "    'subreddit' : 'Playstation',\n",
    "    'size' : 100,\n",
    "    'nest_level' : 1\n",
    "}\n",
    "res = requests.get(url, params)\n",
    "res.status_code"
   ]
  },
  {
   "cell_type": "code",
   "execution_count": 47,
   "metadata": {},
   "outputs": [],
   "source": [
    "data = res.json()\n",
    "posts = data['data']\n",
    "df = pd.DataFrame(posts)"
   ]
  },
  {
   "cell_type": "code",
   "execution_count": 48,
   "metadata": {},
   "outputs": [
    {
     "data": {
      "text/html": [
       "<div>\n",
       "<style scoped>\n",
       "    .dataframe tbody tr th:only-of-type {\n",
       "        vertical-align: middle;\n",
       "    }\n",
       "\n",
       "    .dataframe tbody tr th {\n",
       "        vertical-align: top;\n",
       "    }\n",
       "\n",
       "    .dataframe thead th {\n",
       "        text-align: right;\n",
       "    }\n",
       "</style>\n",
       "<table border=\"1\" class=\"dataframe\">\n",
       "  <thead>\n",
       "    <tr style=\"text-align: right;\">\n",
       "      <th></th>\n",
       "      <th>link_id</th>\n",
       "      <th>author</th>\n",
       "      <th>body</th>\n",
       "    </tr>\n",
       "  </thead>\n",
       "  <tbody>\n",
       "    <tr>\n",
       "      <th>0</th>\n",
       "      <td>t3_jbb4h1</td>\n",
       "      <td>SadPhotojournalist11</td>\n",
       "      <td>Idk tell your friends who recorded</td>\n",
       "    </tr>\n",
       "    <tr>\n",
       "      <th>1</th>\n",
       "      <td>t3_jb3i2o</td>\n",
       "      <td>YummyFungusSlurp</td>\n",
       "      <td>EXACTLY! This is so stupid. If they legit did this just so the recording feature still captures, I'll be so annoyed. Imagine getting reported for something you said by someone you muted!</td>\n",
       "    </tr>\n",
       "    <tr>\n",
       "      <th>2</th>\n",
       "      <td>t3_jba7ti</td>\n",
       "      <td>burskicrest</td>\n",
       "      <td>social ones, I’m just gna play games. Luckily (?) my friends aren’t really gamers anyway. Maybe no ps plus, not sure yet. This might even be the final straw which will make me just go for a PC. I was just going to simplify my life and get a PS5 and get a PC a little down the line, but idk now. I’ll probably just encounter the same bs on another platform though...\\n\\n&amp;amp; to think that people are okay with going fully digital when some bullshit encounter could rid you of all your games...unbelievable</td>\n",
       "    </tr>\n",
       "    <tr>\n",
       "      <th>3</th>\n",
       "      <td>t3_jb8sw1</td>\n",
       "      <td>Xx_MesaPlayer_xX</td>\n",
       "      <td>\"What have you done\" I think everyone is asking sony that</td>\n",
       "    </tr>\n",
       "    <tr>\n",
       "      <th>4</th>\n",
       "      <td>t3_jbb4h1</td>\n",
       "      <td>[deleted]</td>\n",
       "      <td>[deleted]</td>\n",
       "    </tr>\n",
       "    <tr>\n",
       "      <th>5</th>\n",
       "      <td>t3_jb0d4m</td>\n",
       "      <td>CrimsonIncubus</td>\n",
       "      <td>Okay I'm mainly play on xbox (because thats were my friends are) I logged into my PS4 today curious about this update. What did they do to screw up there party system?</td>\n",
       "    </tr>\n",
       "    <tr>\n",
       "      <th>6</th>\n",
       "      <td>t3_jb91po</td>\n",
       "      <td>Xx_MesaPlayer_xX</td>\n",
       "      <td>This is like the FBI agent in your phone.  It's sort of true but not really.  While there isn't really some guy watching what you do 24/7 (usually), but what you do is recorded and can be used to prove your innocence or guilt.ony if there is a report.</td>\n",
       "    </tr>\n",
       "    <tr>\n",
       "      <th>7</th>\n",
       "      <td>t3_jba7ti</td>\n",
       "      <td>-N0obmaster69</td>\n",
       "      <td>Nsa and the cia* internet provider will give it to the authority’s to investigate and the cia and nsa do it near instant. Watch snowden</td>\n",
       "    </tr>\n",
       "    <tr>\n",
       "      <th>8</th>\n",
       "      <td>t3_jb9yk4</td>\n",
       "      <td>CashmereShiv</td>\n",
       "      <td>In that case you might want to look into binning every 'smart' device you wn</td>\n",
       "    </tr>\n",
       "    <tr>\n",
       "      <th>9</th>\n",
       "      <td>t3_jb3i2o</td>\n",
       "      <td>John_Hillbilly</td>\n",
       "      <td>Yeah, sometimes I’ll be in a party with some random guy and a friend. And now I can’t even tell my friend that the other guy is a borderline downy without him hearing me.</td>\n",
       "    </tr>\n",
       "  </tbody>\n",
       "</table>\n",
       "</div>"
      ],
      "text/plain": [
       "     link_id                author  \\\n",
       "0  t3_jbb4h1  SadPhotojournalist11   \n",
       "1  t3_jb3i2o      YummyFungusSlurp   \n",
       "2  t3_jba7ti           burskicrest   \n",
       "3  t3_jb8sw1      Xx_MesaPlayer_xX   \n",
       "4  t3_jbb4h1             [deleted]   \n",
       "5  t3_jb0d4m        CrimsonIncubus   \n",
       "6  t3_jb91po      Xx_MesaPlayer_xX   \n",
       "7  t3_jba7ti         -N0obmaster69   \n",
       "8  t3_jb9yk4          CashmereShiv   \n",
       "9  t3_jb3i2o        John_Hillbilly   \n",
       "\n",
       "                                                                                                                                                                                                                                                                                                                                                                                                                                                                                                                        body  \n",
       "0                                                                                                                                                                                                                                                                                                                                                                                                                                                                                         Idk tell your friends who recorded  \n",
       "1                                                                                                                                                                                                                                                                                                                                 EXACTLY! This is so stupid. If they legit did this just so the recording feature still captures, I'll be so annoyed. Imagine getting reported for something you said by someone you muted!  \n",
       "2  social ones, I’m just gna play games. Luckily (?) my friends aren’t really gamers anyway. Maybe no ps plus, not sure yet. This might even be the final straw which will make me just go for a PC. I was just going to simplify my life and get a PS5 and get a PC a little down the line, but idk now. I’ll probably just encounter the same bs on another platform though...\\n\\n&amp; to think that people are okay with going fully digital when some bullshit encounter could rid you of all your games...unbelievable  \n",
       "3                                                                                                                                                                                                                                                                                                                                                                                                                                                                  \"What have you done\" I think everyone is asking sony that  \n",
       "4                                                                                                                                                                                                                                                                                                                                                                                                                                                                                                                  [deleted]  \n",
       "5                                                                                                                                                                                                                                                                                                                                                    Okay I'm mainly play on xbox (because thats were my friends are) I logged into my PS4 today curious about this update. What did they do to screw up there party system?  \n",
       "6                                                                                                                                                                                                                                                                This is like the FBI agent in your phone.  It's sort of true but not really.  While there isn't really some guy watching what you do 24/7 (usually), but what you do is recorded and can be used to prove your innocence or guilt.ony if there is a report.  \n",
       "7                                                                                                                                                                                                                                                                                                                                                                                    Nsa and the cia* internet provider will give it to the authority’s to investigate and the cia and nsa do it near instant. Watch snowden  \n",
       "8                                                                                                                                                                                                                                                                                                                                                                                                                                               In that case you might want to look into binning every 'smart' device you wn  \n",
       "9                                                                                                                                                                                                                                                                                                                                                 Yeah, sometimes I’ll be in a party with some random guy and a friend. And now I can’t even tell my friend that the other guy is a borderline downy without him hearing me.  "
      ]
     },
     "execution_count": 48,
     "metadata": {},
     "output_type": "execute_result"
    }
   ],
   "source": [
    "df[['link_id', 'author', 'body']].head(10)"
   ]
  }
 ],
 "metadata": {
  "kernelspec": {
   "display_name": "Python 3",
   "language": "python",
   "name": "python3"
  },
  "language_info": {
   "codemirror_mode": {
    "name": "ipython",
    "version": 3
   },
   "file_extension": ".py",
   "mimetype": "text/x-python",
   "name": "python",
   "nbconvert_exporter": "python",
   "pygments_lexer": "ipython3",
   "version": "3.8.3"
  }
 },
 "nbformat": 4,
 "nbformat_minor": 4
}
