{
 "cells": [
  {
   "cell_type": "markdown",
   "metadata": {},
   "source": [
    "## 02 EDA  \n",
    "(introduction here)"
   ]
  },
  {
   "cell_type": "markdown",
   "metadata": {},
   "source": [
    "#### Skip Ahead:  \n",
    "[Read and Concatenate](#Read-and-Concatenate)  \n",
    "[header2]  \n",
    "[header3]"
   ]
  },
  {
   "cell_type": "code",
   "execution_count": 7,
   "metadata": {},
   "outputs": [],
   "source": [
    "#imports\n",
    "from scipy.stats import ttest_ind\n",
    "import pandas as pd\n",
    "import numpy as np\n",
    "from scipy import stats\n",
    "import seaborn as sns\n",
    "import matplotlib.pyplot as plt\n",
    "import re\n",
    "#week 3\n",
    "from sklearn.linear_model import LinearRegression\n",
    "from sklearn import metrics\n",
    "import statsmodels.api as sm\n",
    "from sklearn.model_selection import train_test_split, cross_val_score\n",
    "from sklearn.preprocessing import StandardScaler, PolynomialFeatures\n",
    "#week 4\n",
    "from sklearn.linear_model import Ridge\n",
    "from sklearn.linear_model import RidgeCV\n",
    "from sklearn.linear_model import Lasso, LassoCV\n",
    "from sklearn.linear_model import LogisticRegression\n",
    "from sklearn.model_selection import train_test_split, GridSearchCV\n",
    "from sklearn.preprocessing import StandardScaler\n",
    "from sklearn.neighbors import KNeighborsClassifier\n",
    "from sklearn.pipeline import Pipeline\n",
    "#week 5\n",
    "import requests\n",
    "from bs4 import BeautifulSoup"
   ]
  },
  {
   "cell_type": "markdown",
   "metadata": {},
   "source": [
    "### Read and Concatenate"
   ]
  },
  {
   "cell_type": "code",
   "execution_count": 8,
   "metadata": {},
   "outputs": [
    {
     "data": {
      "text/plain": [
       "(10005, 8)"
      ]
     },
     "execution_count": 8,
     "metadata": {},
     "output_type": "execute_result"
    }
   ],
   "source": [
    "xb = pd.read_csv('./sub_data/Xbox_10k.csv') #read in xbox data\n",
    "xb.shape"
   ]
  },
  {
   "cell_type": "code",
   "execution_count": 9,
   "metadata": {},
   "outputs": [
    {
     "data": {
      "text/plain": [
       "(10021, 8)"
      ]
     },
     "execution_count": 9,
     "metadata": {},
     "output_type": "execute_result"
    }
   ],
   "source": [
    "ps = pd.read_csv('./sub_data/Playstation_10k.csv')\n",
    "ps.shape"
   ]
  },
  {
   "cell_type": "code",
   "execution_count": 16,
   "metadata": {},
   "outputs": [],
   "source": [
    "df = pd.concat([xb, ps], ignore_index=True)"
   ]
  },
  {
   "cell_type": "code",
   "execution_count": 17,
   "metadata": {},
   "outputs": [
    {
     "data": {
      "text/plain": [
       "(20026, 8)"
      ]
     },
     "execution_count": 17,
     "metadata": {},
     "output_type": "execute_result"
    }
   ],
   "source": [
    "df.shape"
   ]
  },
  {
   "cell_type": "code",
   "execution_count": 19,
   "metadata": {},
   "outputs": [
    {
     "data": {
      "text/html": [
       "<div>\n",
       "<style scoped>\n",
       "    .dataframe tbody tr th:only-of-type {\n",
       "        vertical-align: middle;\n",
       "    }\n",
       "\n",
       "    .dataframe tbody tr th {\n",
       "        vertical-align: top;\n",
       "    }\n",
       "\n",
       "    .dataframe thead th {\n",
       "        text-align: right;\n",
       "    }\n",
       "</style>\n",
       "<table border=\"1\" class=\"dataframe\">\n",
       "  <thead>\n",
       "    <tr style=\"text-align: right;\">\n",
       "      <th></th>\n",
       "      <th>subreddit</th>\n",
       "      <th>id</th>\n",
       "      <th>author</th>\n",
       "      <th>num_comments</th>\n",
       "      <th>selftext</th>\n",
       "      <th>title</th>\n",
       "      <th>upvote_ratio</th>\n",
       "      <th>url</th>\n",
       "    </tr>\n",
       "  </thead>\n",
       "  <tbody>\n",
       "    <tr>\n",
       "      <th>0</th>\n",
       "      <td>xbox</td>\n",
       "      <td>jc40iu</td>\n",
       "      <td>ImmaPoodle</td>\n",
       "      <td>1</td>\n",
       "      <td>So watch dogs legion is coming out soon and wi...</td>\n",
       "      <td>Ubisoft vs Rockstar</td>\n",
       "      <td>1.0</td>\n",
       "      <td>https://www.reddit.com/r/xbox/comments/jc40iu/...</td>\n",
       "    </tr>\n",
       "    <tr>\n",
       "      <th>1</th>\n",
       "      <td>xbox</td>\n",
       "      <td>jc3ty3</td>\n",
       "      <td>jaaytf_</td>\n",
       "      <td>2</td>\n",
       "      <td>hey so my xbox one is turning on and instantly...</td>\n",
       "      <td>xbox one problems:)</td>\n",
       "      <td>1.0</td>\n",
       "      <td>https://www.reddit.com/r/xbox/comments/jc3ty3/...</td>\n",
       "    </tr>\n",
       "    <tr>\n",
       "      <th>2</th>\n",
       "      <td>xbox</td>\n",
       "      <td>jc3tg4</td>\n",
       "      <td>Matty_Rts</td>\n",
       "      <td>0</td>\n",
       "      <td>For context, I purchased game pass on Xbox One...</td>\n",
       "      <td>My Preorder download for Beyond Light Disappea...</td>\n",
       "      <td>1.0</td>\n",
       "      <td>https://www.reddit.com/r/xbox/comments/jc3tg4/...</td>\n",
       "    </tr>\n",
       "    <tr>\n",
       "      <th>3</th>\n",
       "      <td>xbox</td>\n",
       "      <td>jc39t3</td>\n",
       "      <td>Rorydo44</td>\n",
       "      <td>2</td>\n",
       "      <td>I had $50 worth of gift cards in my account an...</td>\n",
       "      <td>Missing gift cards</td>\n",
       "      <td>1.0</td>\n",
       "      <td>https://www.reddit.com/r/xbox/comments/jc39t3/...</td>\n",
       "    </tr>\n",
       "    <tr>\n",
       "      <th>4</th>\n",
       "      <td>xbox</td>\n",
       "      <td>jc37vv</td>\n",
       "      <td>NonsenseText</td>\n",
       "      <td>0</td>\n",
       "      <td>Hi everyone! \\n\\nI would like to learn more ab...</td>\n",
       "      <td>Advice for Xbox online security?</td>\n",
       "      <td>1.0</td>\n",
       "      <td>https://www.reddit.com/r/xbox/comments/jc37vv/...</td>\n",
       "    </tr>\n",
       "  </tbody>\n",
       "</table>\n",
       "</div>"
      ],
      "text/plain": [
       "  subreddit      id        author  num_comments  \\\n",
       "0      xbox  jc40iu    ImmaPoodle             1   \n",
       "1      xbox  jc3ty3       jaaytf_             2   \n",
       "2      xbox  jc3tg4     Matty_Rts             0   \n",
       "3      xbox  jc39t3      Rorydo44             2   \n",
       "4      xbox  jc37vv  NonsenseText             0   \n",
       "\n",
       "                                            selftext  \\\n",
       "0  So watch dogs legion is coming out soon and wi...   \n",
       "1  hey so my xbox one is turning on and instantly...   \n",
       "2  For context, I purchased game pass on Xbox One...   \n",
       "3  I had $50 worth of gift cards in my account an...   \n",
       "4  Hi everyone! \\n\\nI would like to learn more ab...   \n",
       "\n",
       "                                               title  upvote_ratio  \\\n",
       "0                                Ubisoft vs Rockstar           1.0   \n",
       "1                                xbox one problems:)           1.0   \n",
       "2  My Preorder download for Beyond Light Disappea...           1.0   \n",
       "3                                 Missing gift cards           1.0   \n",
       "4                   Advice for Xbox online security?           1.0   \n",
       "\n",
       "                                                 url  \n",
       "0  https://www.reddit.com/r/xbox/comments/jc40iu/...  \n",
       "1  https://www.reddit.com/r/xbox/comments/jc3ty3/...  \n",
       "2  https://www.reddit.com/r/xbox/comments/jc3tg4/...  \n",
       "3  https://www.reddit.com/r/xbox/comments/jc39t3/...  \n",
       "4  https://www.reddit.com/r/xbox/comments/jc37vv/...  "
      ]
     },
     "execution_count": 19,
     "metadata": {},
     "output_type": "execute_result"
    }
   ],
   "source": [
    "df.head()"
   ]
  },
  {
   "cell_type": "code",
   "execution_count": 18,
   "metadata": {},
   "outputs": [
    {
     "data": {
      "text/html": [
       "<div>\n",
       "<style scoped>\n",
       "    .dataframe tbody tr th:only-of-type {\n",
       "        vertical-align: middle;\n",
       "    }\n",
       "\n",
       "    .dataframe tbody tr th {\n",
       "        vertical-align: top;\n",
       "    }\n",
       "\n",
       "    .dataframe thead th {\n",
       "        text-align: right;\n",
       "    }\n",
       "</style>\n",
       "<table border=\"1\" class=\"dataframe\">\n",
       "  <thead>\n",
       "    <tr style=\"text-align: right;\">\n",
       "      <th></th>\n",
       "      <th>subreddit</th>\n",
       "      <th>id</th>\n",
       "      <th>author</th>\n",
       "      <th>num_comments</th>\n",
       "      <th>selftext</th>\n",
       "      <th>title</th>\n",
       "      <th>upvote_ratio</th>\n",
       "      <th>url</th>\n",
       "    </tr>\n",
       "  </thead>\n",
       "  <tbody>\n",
       "    <tr>\n",
       "      <th>20021</th>\n",
       "      <td>playstation</td>\n",
       "      <td>hf6ijf</td>\n",
       "      <td>IamXnoskillzX</td>\n",
       "      <td>3</td>\n",
       "      <td>I pre ordered the game awhile ago and now it s...</td>\n",
       "      <td>Did Sony Pull Ghosts Of Tsushima From Amazon?</td>\n",
       "      <td>1.00</td>\n",
       "      <td>https://www.reddit.com/r/playstation/comments/...</td>\n",
       "    </tr>\n",
       "    <tr>\n",
       "      <th>20022</th>\n",
       "      <td>playstation</td>\n",
       "      <td>hf5tl0</td>\n",
       "      <td>[deleted]</td>\n",
       "      <td>0</td>\n",
       "      <td>NaN</td>\n",
       "      <td>Need help from PlayStation fans!</td>\n",
       "      <td>1.00</td>\n",
       "      <td>https://www.reddit.com/r/playstation/comments/...</td>\n",
       "    </tr>\n",
       "    <tr>\n",
       "      <th>20023</th>\n",
       "      <td>playstation</td>\n",
       "      <td>hf5rp1</td>\n",
       "      <td>ngocan2121</td>\n",
       "      <td>5</td>\n",
       "      <td>im just a casual player so here is my list and...</td>\n",
       "      <td>Looking for sad story game with nice gameplay,...</td>\n",
       "      <td>0.75</td>\n",
       "      <td>https://www.reddit.com/r/playstation/comments/...</td>\n",
       "    </tr>\n",
       "    <tr>\n",
       "      <th>20024</th>\n",
       "      <td>playstation</td>\n",
       "      <td>hf58u2</td>\n",
       "      <td>SwingDingeling</td>\n",
       "      <td>10</td>\n",
       "      <td>Or evwn 8K?</td>\n",
       "      <td>Will every PS5 game be in 4K?</td>\n",
       "      <td>0.50</td>\n",
       "      <td>https://www.reddit.com/r/playstation/comments/...</td>\n",
       "    </tr>\n",
       "    <tr>\n",
       "      <th>20025</th>\n",
       "      <td>playstation</td>\n",
       "      <td>hf50cd</td>\n",
       "      <td>[deleted]</td>\n",
       "      <td>1</td>\n",
       "      <td>[deleted]</td>\n",
       "      <td>[HELP] somebody is using my email for a PlaySt...</td>\n",
       "      <td>0.50</td>\n",
       "      <td>https://www.reddit.com/r/playstation/comments/...</td>\n",
       "    </tr>\n",
       "  </tbody>\n",
       "</table>\n",
       "</div>"
      ],
      "text/plain": [
       "         subreddit      id          author  num_comments  \\\n",
       "20021  playstation  hf6ijf   IamXnoskillzX             3   \n",
       "20022  playstation  hf5tl0       [deleted]             0   \n",
       "20023  playstation  hf5rp1      ngocan2121             5   \n",
       "20024  playstation  hf58u2  SwingDingeling            10   \n",
       "20025  playstation  hf50cd       [deleted]             1   \n",
       "\n",
       "                                                selftext  \\\n",
       "20021  I pre ordered the game awhile ago and now it s...   \n",
       "20022                                                NaN   \n",
       "20023  im just a casual player so here is my list and...   \n",
       "20024                                        Or evwn 8K?   \n",
       "20025                                          [deleted]   \n",
       "\n",
       "                                                   title  upvote_ratio  \\\n",
       "20021      Did Sony Pull Ghosts Of Tsushima From Amazon?          1.00   \n",
       "20022                   Need help from PlayStation fans!          1.00   \n",
       "20023  Looking for sad story game with nice gameplay,...          0.75   \n",
       "20024                      Will every PS5 game be in 4K?          0.50   \n",
       "20025  [HELP] somebody is using my email for a PlaySt...          0.50   \n",
       "\n",
       "                                                     url  \n",
       "20021  https://www.reddit.com/r/playstation/comments/...  \n",
       "20022  https://www.reddit.com/r/playstation/comments/...  \n",
       "20023  https://www.reddit.com/r/playstation/comments/...  \n",
       "20024  https://www.reddit.com/r/playstation/comments/...  \n",
       "20025  https://www.reddit.com/r/playstation/comments/...  "
      ]
     },
     "execution_count": 18,
     "metadata": {},
     "output_type": "execute_result"
    }
   ],
   "source": [
    "df.tail()"
   ]
  }
 ],
 "metadata": {
  "kernelspec": {
   "display_name": "Python 3",
   "language": "python",
   "name": "python3"
  },
  "language_info": {
   "codemirror_mode": {
    "name": "ipython",
    "version": 3
   },
   "file_extension": ".py",
   "mimetype": "text/x-python",
   "name": "python",
   "nbconvert_exporter": "python",
   "pygments_lexer": "ipython3",
   "version": "3.8.3"
  }
 },
 "nbformat": 4,
 "nbformat_minor": 4
}
