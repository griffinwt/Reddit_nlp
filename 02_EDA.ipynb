{
 "cells": [
  {
   "cell_type": "markdown",
   "metadata": {},
   "source": [
    "## 02 EDA  \n",
    "(introduction here)"
   ]
  },
  {
   "cell_type": "markdown",
   "metadata": {},
   "source": [
    "#### Skip Ahead:  \n",
    "[Read and Concatenate](#Read-and-Concatenate)  \n",
    "[Exploration](#Exploration)  \n",
    "[Epilogue](#Epilogue)"
   ]
  },
  {
   "cell_type": "code",
   "execution_count": 1,
   "metadata": {},
   "outputs": [],
   "source": [
    "#imports\n",
    "from scipy.stats import ttest_ind\n",
    "import pandas as pd\n",
    "import numpy as np\n",
    "from scipy import stats\n",
    "import seaborn as sns\n",
    "import matplotlib.pyplot as plt\n",
    "import re\n",
    "#week 3\n",
    "from sklearn.linear_model import LinearRegression\n",
    "from sklearn import metrics\n",
    "import statsmodels.api as sm\n",
    "from sklearn.model_selection import train_test_split, cross_val_score\n",
    "from sklearn.preprocessing import StandardScaler, PolynomialFeatures\n",
    "#week 4\n",
    "from sklearn.linear_model import Ridge\n",
    "from sklearn.linear_model import RidgeCV\n",
    "from sklearn.linear_model import Lasso, LassoCV\n",
    "from sklearn.linear_model import LogisticRegression\n",
    "from sklearn.model_selection import train_test_split, GridSearchCV\n",
    "from sklearn.preprocessing import StandardScaler\n",
    "from sklearn.neighbors import KNeighborsClassifier\n",
    "from sklearn.pipeline import Pipeline\n",
    "#week 5\n",
    "import requests\n",
    "from bs4 import BeautifulSoup"
   ]
  },
  {
   "cell_type": "markdown",
   "metadata": {},
   "source": [
    "### Read and Concatenate"
   ]
  },
  {
   "cell_type": "code",
   "execution_count": 2,
   "metadata": {},
   "outputs": [
    {
     "data": {
      "text/plain": [
       "(10005, 8)"
      ]
     },
     "execution_count": 2,
     "metadata": {},
     "output_type": "execute_result"
    }
   ],
   "source": [
    "xb = pd.read_csv('./sub_data/Xbox_10k.csv') #read in xbox data\n",
    "xb.shape"
   ]
  },
  {
   "cell_type": "code",
   "execution_count": 3,
   "metadata": {},
   "outputs": [
    {
     "data": {
      "text/plain": [
       "(10021, 8)"
      ]
     },
     "execution_count": 3,
     "metadata": {},
     "output_type": "execute_result"
    }
   ],
   "source": [
    "ps = pd.read_csv('./sub_data/Playstation_10k.csv')\n",
    "ps.shape"
   ]
  },
  {
   "cell_type": "code",
   "execution_count": 4,
   "metadata": {},
   "outputs": [],
   "source": [
    "df = pd.concat([xb, ps], ignore_index=True) #make 1 dataframe with all the posts from r/xbox and r/playstatino"
   ]
  },
  {
   "cell_type": "code",
   "execution_count": 5,
   "metadata": {},
   "outputs": [
    {
     "data": {
      "text/plain": [
       "(20026, 8)"
      ]
     },
     "execution_count": 5,
     "metadata": {},
     "output_type": "execute_result"
    }
   ],
   "source": [
    "df.shape"
   ]
  },
  {
   "cell_type": "code",
   "execution_count": 6,
   "metadata": {},
   "outputs": [
    {
     "data": {
      "text/html": [
       "<div>\n",
       "<style scoped>\n",
       "    .dataframe tbody tr th:only-of-type {\n",
       "        vertical-align: middle;\n",
       "    }\n",
       "\n",
       "    .dataframe tbody tr th {\n",
       "        vertical-align: top;\n",
       "    }\n",
       "\n",
       "    .dataframe thead th {\n",
       "        text-align: right;\n",
       "    }\n",
       "</style>\n",
       "<table border=\"1\" class=\"dataframe\">\n",
       "  <thead>\n",
       "    <tr style=\"text-align: right;\">\n",
       "      <th></th>\n",
       "      <th>subreddit</th>\n",
       "      <th>id</th>\n",
       "      <th>author</th>\n",
       "      <th>num_comments</th>\n",
       "      <th>selftext</th>\n",
       "      <th>title</th>\n",
       "      <th>upvote_ratio</th>\n",
       "      <th>url</th>\n",
       "    </tr>\n",
       "  </thead>\n",
       "  <tbody>\n",
       "    <tr>\n",
       "      <th>0</th>\n",
       "      <td>xbox</td>\n",
       "      <td>jc40iu</td>\n",
       "      <td>ImmaPoodle</td>\n",
       "      <td>1</td>\n",
       "      <td>So watch dogs legion is coming out soon and wi...</td>\n",
       "      <td>Ubisoft vs Rockstar</td>\n",
       "      <td>1.0</td>\n",
       "      <td>https://www.reddit.com/r/xbox/comments/jc40iu/...</td>\n",
       "    </tr>\n",
       "    <tr>\n",
       "      <th>1</th>\n",
       "      <td>xbox</td>\n",
       "      <td>jc3ty3</td>\n",
       "      <td>jaaytf_</td>\n",
       "      <td>2</td>\n",
       "      <td>hey so my xbox one is turning on and instantly...</td>\n",
       "      <td>xbox one problems:)</td>\n",
       "      <td>1.0</td>\n",
       "      <td>https://www.reddit.com/r/xbox/comments/jc3ty3/...</td>\n",
       "    </tr>\n",
       "    <tr>\n",
       "      <th>2</th>\n",
       "      <td>xbox</td>\n",
       "      <td>jc3tg4</td>\n",
       "      <td>Matty_Rts</td>\n",
       "      <td>0</td>\n",
       "      <td>For context, I purchased game pass on Xbox One...</td>\n",
       "      <td>My Preorder download for Beyond Light Disappea...</td>\n",
       "      <td>1.0</td>\n",
       "      <td>https://www.reddit.com/r/xbox/comments/jc3tg4/...</td>\n",
       "    </tr>\n",
       "    <tr>\n",
       "      <th>3</th>\n",
       "      <td>xbox</td>\n",
       "      <td>jc39t3</td>\n",
       "      <td>Rorydo44</td>\n",
       "      <td>2</td>\n",
       "      <td>I had $50 worth of gift cards in my account an...</td>\n",
       "      <td>Missing gift cards</td>\n",
       "      <td>1.0</td>\n",
       "      <td>https://www.reddit.com/r/xbox/comments/jc39t3/...</td>\n",
       "    </tr>\n",
       "    <tr>\n",
       "      <th>4</th>\n",
       "      <td>xbox</td>\n",
       "      <td>jc37vv</td>\n",
       "      <td>NonsenseText</td>\n",
       "      <td>0</td>\n",
       "      <td>Hi everyone! \\n\\nI would like to learn more ab...</td>\n",
       "      <td>Advice for Xbox online security?</td>\n",
       "      <td>1.0</td>\n",
       "      <td>https://www.reddit.com/r/xbox/comments/jc37vv/...</td>\n",
       "    </tr>\n",
       "  </tbody>\n",
       "</table>\n",
       "</div>"
      ],
      "text/plain": [
       "  subreddit      id        author  num_comments  \\\n",
       "0      xbox  jc40iu    ImmaPoodle             1   \n",
       "1      xbox  jc3ty3       jaaytf_             2   \n",
       "2      xbox  jc3tg4     Matty_Rts             0   \n",
       "3      xbox  jc39t3      Rorydo44             2   \n",
       "4      xbox  jc37vv  NonsenseText             0   \n",
       "\n",
       "                                            selftext  \\\n",
       "0  So watch dogs legion is coming out soon and wi...   \n",
       "1  hey so my xbox one is turning on and instantly...   \n",
       "2  For context, I purchased game pass on Xbox One...   \n",
       "3  I had $50 worth of gift cards in my account an...   \n",
       "4  Hi everyone! \\n\\nI would like to learn more ab...   \n",
       "\n",
       "                                               title  upvote_ratio  \\\n",
       "0                                Ubisoft vs Rockstar           1.0   \n",
       "1                                xbox one problems:)           1.0   \n",
       "2  My Preorder download for Beyond Light Disappea...           1.0   \n",
       "3                                 Missing gift cards           1.0   \n",
       "4                   Advice for Xbox online security?           1.0   \n",
       "\n",
       "                                                 url  \n",
       "0  https://www.reddit.com/r/xbox/comments/jc40iu/...  \n",
       "1  https://www.reddit.com/r/xbox/comments/jc3ty3/...  \n",
       "2  https://www.reddit.com/r/xbox/comments/jc3tg4/...  \n",
       "3  https://www.reddit.com/r/xbox/comments/jc39t3/...  \n",
       "4  https://www.reddit.com/r/xbox/comments/jc37vv/...  "
      ]
     },
     "execution_count": 6,
     "metadata": {},
     "output_type": "execute_result"
    }
   ],
   "source": [
    "df.head()"
   ]
  },
  {
   "cell_type": "code",
   "execution_count": 7,
   "metadata": {},
   "outputs": [
    {
     "data": {
      "text/html": [
       "<div>\n",
       "<style scoped>\n",
       "    .dataframe tbody tr th:only-of-type {\n",
       "        vertical-align: middle;\n",
       "    }\n",
       "\n",
       "    .dataframe tbody tr th {\n",
       "        vertical-align: top;\n",
       "    }\n",
       "\n",
       "    .dataframe thead th {\n",
       "        text-align: right;\n",
       "    }\n",
       "</style>\n",
       "<table border=\"1\" class=\"dataframe\">\n",
       "  <thead>\n",
       "    <tr style=\"text-align: right;\">\n",
       "      <th></th>\n",
       "      <th>subreddit</th>\n",
       "      <th>id</th>\n",
       "      <th>author</th>\n",
       "      <th>num_comments</th>\n",
       "      <th>selftext</th>\n",
       "      <th>title</th>\n",
       "      <th>upvote_ratio</th>\n",
       "      <th>url</th>\n",
       "    </tr>\n",
       "  </thead>\n",
       "  <tbody>\n",
       "    <tr>\n",
       "      <th>20021</th>\n",
       "      <td>playstation</td>\n",
       "      <td>hf6ijf</td>\n",
       "      <td>IamXnoskillzX</td>\n",
       "      <td>3</td>\n",
       "      <td>I pre ordered the game awhile ago and now it s...</td>\n",
       "      <td>Did Sony Pull Ghosts Of Tsushima From Amazon?</td>\n",
       "      <td>1.00</td>\n",
       "      <td>https://www.reddit.com/r/playstation/comments/...</td>\n",
       "    </tr>\n",
       "    <tr>\n",
       "      <th>20022</th>\n",
       "      <td>playstation</td>\n",
       "      <td>hf5tl0</td>\n",
       "      <td>[deleted]</td>\n",
       "      <td>0</td>\n",
       "      <td>NaN</td>\n",
       "      <td>Need help from PlayStation fans!</td>\n",
       "      <td>1.00</td>\n",
       "      <td>https://www.reddit.com/r/playstation/comments/...</td>\n",
       "    </tr>\n",
       "    <tr>\n",
       "      <th>20023</th>\n",
       "      <td>playstation</td>\n",
       "      <td>hf5rp1</td>\n",
       "      <td>ngocan2121</td>\n",
       "      <td>5</td>\n",
       "      <td>im just a casual player so here is my list and...</td>\n",
       "      <td>Looking for sad story game with nice gameplay,...</td>\n",
       "      <td>0.75</td>\n",
       "      <td>https://www.reddit.com/r/playstation/comments/...</td>\n",
       "    </tr>\n",
       "    <tr>\n",
       "      <th>20024</th>\n",
       "      <td>playstation</td>\n",
       "      <td>hf58u2</td>\n",
       "      <td>SwingDingeling</td>\n",
       "      <td>10</td>\n",
       "      <td>Or evwn 8K?</td>\n",
       "      <td>Will every PS5 game be in 4K?</td>\n",
       "      <td>0.50</td>\n",
       "      <td>https://www.reddit.com/r/playstation/comments/...</td>\n",
       "    </tr>\n",
       "    <tr>\n",
       "      <th>20025</th>\n",
       "      <td>playstation</td>\n",
       "      <td>hf50cd</td>\n",
       "      <td>[deleted]</td>\n",
       "      <td>1</td>\n",
       "      <td>[deleted]</td>\n",
       "      <td>[HELP] somebody is using my email for a PlaySt...</td>\n",
       "      <td>0.50</td>\n",
       "      <td>https://www.reddit.com/r/playstation/comments/...</td>\n",
       "    </tr>\n",
       "  </tbody>\n",
       "</table>\n",
       "</div>"
      ],
      "text/plain": [
       "         subreddit      id          author  num_comments  \\\n",
       "20021  playstation  hf6ijf   IamXnoskillzX             3   \n",
       "20022  playstation  hf5tl0       [deleted]             0   \n",
       "20023  playstation  hf5rp1      ngocan2121             5   \n",
       "20024  playstation  hf58u2  SwingDingeling            10   \n",
       "20025  playstation  hf50cd       [deleted]             1   \n",
       "\n",
       "                                                selftext  \\\n",
       "20021  I pre ordered the game awhile ago and now it s...   \n",
       "20022                                                NaN   \n",
       "20023  im just a casual player so here is my list and...   \n",
       "20024                                        Or evwn 8K?   \n",
       "20025                                          [deleted]   \n",
       "\n",
       "                                                   title  upvote_ratio  \\\n",
       "20021      Did Sony Pull Ghosts Of Tsushima From Amazon?          1.00   \n",
       "20022                   Need help from PlayStation fans!          1.00   \n",
       "20023  Looking for sad story game with nice gameplay,...          0.75   \n",
       "20024                      Will every PS5 game be in 4K?          0.50   \n",
       "20025  [HELP] somebody is using my email for a PlaySt...          0.50   \n",
       "\n",
       "                                                     url  \n",
       "20021  https://www.reddit.com/r/playstation/comments/...  \n",
       "20022  https://www.reddit.com/r/playstation/comments/...  \n",
       "20023  https://www.reddit.com/r/playstation/comments/...  \n",
       "20024  https://www.reddit.com/r/playstation/comments/...  \n",
       "20025  https://www.reddit.com/r/playstation/comments/...  "
      ]
     },
     "execution_count": 7,
     "metadata": {},
     "output_type": "execute_result"
    }
   ],
   "source": [
    "df.tail()"
   ]
  },
  {
   "cell_type": "code",
   "execution_count": 8,
   "metadata": {},
   "outputs": [
    {
     "data": {
      "text/plain": [
       "playstation    10021\n",
       "xbox           10005\n",
       "Name: subreddit, dtype: int64"
      ]
     },
     "execution_count": 8,
     "metadata": {},
     "output_type": "execute_result"
    }
   ],
   "source": [
    "df['subreddit'].value_counts() #looks right"
   ]
  },
  {
   "cell_type": "markdown",
   "metadata": {},
   "source": [
    "### Exploration"
   ]
  },
  {
   "cell_type": "markdown",
   "metadata": {},
   "source": [
    "My first task is going to be distinguishing between which subreddit posts came from. However, in the future I also want to look deeper into which words are popular in the playstation subreddit to find what those gamers value and potentially assist Microsoft's marketing team in winning over more customers. With that target in mind, I'll make the playstation reddit my \"1\" or target, and the xbox subreddit my \"0\"."
   ]
  },
  {
   "cell_type": "code",
   "execution_count": 9,
   "metadata": {},
   "outputs": [],
   "source": [
    "df['subreddit'] = df['subreddit'].map({'xbox':0, 'playstation':1})"
   ]
  },
  {
   "cell_type": "markdown",
   "metadata": {},
   "source": [
    "That worked! Time to check for null values and duplicates."
   ]
  },
  {
   "cell_type": "code",
   "execution_count": 10,
   "metadata": {},
   "outputs": [
    {
     "data": {
      "text/plain": [
       "subreddit         0\n",
       "id                0\n",
       "author            0\n",
       "num_comments      0\n",
       "selftext        971\n",
       "title             0\n",
       "upvote_ratio      0\n",
       "url               0\n",
       "dtype: int64"
      ]
     },
     "execution_count": 10,
     "metadata": {},
     "output_type": "execute_result"
    }
   ],
   "source": [
    "df.isnull().sum()"
   ]
  },
  {
   "cell_type": "markdown",
   "metadata": {},
   "source": [
    "Okay, 971 entries where self_text is empty, but everything else looks good!"
   ]
  },
  {
   "cell_type": "code",
   "execution_count": 11,
   "metadata": {},
   "outputs": [
    {
     "data": {
      "text/plain": [
       "[deleted]                                                                                                                                                                                                                                                                                                                                                                                                                                                                                                                                                                                                                                                                                                                                                                                                                                                                                                                              325\n",
       "Title                                                                                                                                                                                                                                                                                                                                                                                                                                                                                                                                                                                                                                                                                                                                                                                                                                                                                                                                   35\n",
       ".                                                                                                                                                                                                                                                                                                                                                                                                                                                                                                                                                                                                                                                                                                                                                                                                                                                                                                                                       32\n",
       "?                                                                                                                                                                                                                                                                                                                                                                                                                                                                                                                                                                                                                                                                                                                                                                                                                                                                                                                                       14\n",
       "I always have my console up to date, but i still dont have the new menu or anything.\\n\\nIs anyone else in the same boat as me?                                                                                                                                                                                                                                                                                                                                                                                                                                                                                                                                                                                                                                                                                                                                                                                                          12\n",
       "Help                                                                                                                                                                                                                                                                                                                                                                                                                                                                                                                                                                                                                                                                                                                                                                                                                                                                                                                                    10\n",
       "Please help                                                                                                                                                                                                                                                                                                                                                                                                                                                                                                                                                                                                                                                                                                                                                                                                                                                                                                                              8\n",
       "Title.                                                                                                                                                                                                                                                                                                                                                                                                                                                                                                                                                                                                                                                                                                                                                                                                                                                                                                                                   7\n",
       "title                                                                                                                                                                                                                                                                                                                                                                                                                                                                                                                                                                                                                                                                                                                                                                                                                                                                                                                                    7\n",
       "I had avoided BFV since launch. For some reason, though, I recently became curious about the game. I saw that EA Access had a promotion for a 1 month membership and that BFV was included with the service. I was also under the impression that with the service, I would get an additional discount on the game. So, I got EA Access, played BFV and (while it was far from perfect) enjoyed it. Today, the game went on sale. When I tried to purchase it though, not only could I not recieve my EA Access discount but I couldn't purchase the game whatsoever. Since I have an active EA Access membership, it won't even give me the option to buy the game. To add to the issue, by the time my subscription runs out, the sale will be over. It is my understanding that BFVs sales haven't been very favorable. To make matters worse though, there are people who want to purchase the game who are denied that option.      6\n",
       "Name: selftext, dtype: int64"
      ]
     },
     "execution_count": 11,
     "metadata": {},
     "output_type": "execute_result"
    }
   ],
   "source": [
    "df['selftext'].value_counts().sort_values(ascending=False).head(10)"
   ]
  },
  {
   "cell_type": "markdown",
   "metadata": {},
   "source": [
    "So there is a high number of [deleted] selftext items, and then some that just say 'Title', and then some that use punctuation (either '.' or '?'). I wonder if I have any duplicate posts."
   ]
  },
  {
   "cell_type": "code",
   "execution_count": 12,
   "metadata": {},
   "outputs": [
    {
     "data": {
      "text/plain": [
       "I need help                                                          20\n",
       "Help                                                                 14\n",
       "Quick question                                                       12\n",
       "Latest update                                                        12\n",
       "Backwards compatibility                                              10\n",
       "                                                                     ..\n",
       "An old Xbox player first ps4                                          1\n",
       "Family account sharing                                                1\n",
       "Reminder that now is a great time to buy a PS4 Pro/Slim for cheap     1\n",
       "No idea what all the panic is about                                   1\n",
       "Need help with account bans and suspensions                           1\n",
       "Name: title, Length: 19524, dtype: int64"
      ]
     },
     "execution_count": 12,
     "metadata": {},
     "output_type": "execute_result"
    }
   ],
   "source": [
    "df['title'].value_counts()"
   ]
  },
  {
   "cell_type": "markdown",
   "metadata": {},
   "source": [
    "There do appear to be some duplicate titles, but they're a little generic so I can't be sure if it's a true repost or just a commonly invoked title for similar issues. I'm going to drop all but the last row for any posts that share the same author, title and selftext."
   ]
  },
  {
   "cell_type": "code",
   "execution_count": 13,
   "metadata": {},
   "outputs": [],
   "source": [
    "#https://www.codegrepper.com/code-examples/python/pandas+drop+duplicates+multiple+columns\n",
    "#link provided by James Salisbury"
   ]
  },
  {
   "cell_type": "code",
   "execution_count": 14,
   "metadata": {},
   "outputs": [],
   "source": [
    "df = df.drop_duplicates(subset=['author', 'title', 'selftext'], keep='last')"
   ]
  },
  {
   "cell_type": "code",
   "execution_count": 15,
   "metadata": {},
   "outputs": [
    {
     "data": {
      "text/plain": [
       "(19942, 8)"
      ]
     },
     "execution_count": 15,
     "metadata": {},
     "output_type": "execute_result"
    }
   ],
   "source": [
    "df.shape"
   ]
  },
  {
   "cell_type": "markdown",
   "metadata": {},
   "source": [
    "There we go - we dropped about 70 rows of duplicate posts! Now I want to revisit my selftext value counts."
   ]
  },
  {
   "cell_type": "code",
   "execution_count": 16,
   "metadata": {},
   "outputs": [
    {
     "data": {
      "text/plain": [
       "[deleted]      319\n",
       "Title           35\n",
       ".               32\n",
       "?               14\n",
       "Help            10\n",
       "Please help      8\n",
       "Title.           7\n",
       "title            7\n",
       "Thanks           5\n",
       "Thank you        4\n",
       "Name: selftext, dtype: int64"
      ]
     },
     "execution_count": 16,
     "metadata": {},
     "output_type": "execute_result"
    }
   ],
   "source": [
    "df['selftext'].value_counts().sort_values(ascending=False).head(10)"
   ]
  },
  {
   "cell_type": "code",
   "execution_count": 17,
   "metadata": {},
   "outputs": [],
   "source": [
    "#https://stackoverflow.com/questions/14281871/given-a-pandas-series-that-represents-frequencies-of-a-value-how-can-i-turn-tho"
   ]
  },
  {
   "cell_type": "code",
   "execution_count": 18,
   "metadata": {},
   "outputs": [
    {
     "data": {
      "text/plain": [
       "0    0.611285\n",
       "1    0.388715\n",
       "Name: subreddit, dtype: float64"
      ]
     },
     "execution_count": 18,
     "metadata": {},
     "output_type": "execute_result"
    }
   ],
   "source": [
    "#df[(df['selftext'] == '[deleted]') | (df['selftext'] == 'Title')]\n",
    "df[df['selftext'] == '[deleted]']['subreddit'].value_counts(normalize=True)"
   ]
  },
  {
   "cell_type": "markdown",
   "metadata": {},
   "source": [
    "About 61% of [deleted] posts are from the Xbox subreddit."
   ]
  },
  {
   "cell_type": "code",
   "execution_count": 19,
   "metadata": {},
   "outputs": [
    {
     "data": {
      "text/plain": [
       "1    0.891304\n",
       "0    0.108696\n",
       "Name: subreddit, dtype: float64"
      ]
     },
     "execution_count": 19,
     "metadata": {},
     "output_type": "execute_result"
    }
   ],
   "source": [
    "df[(df['selftext'] == '.') | (df['selftext'] == '?')]['subreddit'].value_counts(normalize=True)"
   ]
  },
  {
   "cell_type": "markdown",
   "metadata": {},
   "source": [
    "Using only punctuation in selfpost text seems much more popular in the playstation subreddit (89%)"
   ]
  },
  {
   "cell_type": "code",
   "execution_count": 20,
   "metadata": {},
   "outputs": [
    {
     "data": {
      "text/plain": [
       "1    0.608696\n",
       "0    0.391304\n",
       "Name: subreddit, dtype: float64"
      ]
     },
     "execution_count": 20,
     "metadata": {},
     "output_type": "execute_result"
    }
   ],
   "source": [
    "df[(df['selftext'] == 'Help') | (df['selftext'] == 'Please help') | (df['selftext'] == 'Thanks')]['subreddit'].value_counts(normalize=True)"
   ]
  },
  {
   "cell_type": "markdown",
   "metadata": {},
   "source": [
    "Playstation subredditors have a slight edge on \"polite\" selftext (that consists of 'help' or 'thanks) - 61%"
   ]
  },
  {
   "cell_type": "code",
   "execution_count": 21,
   "metadata": {},
   "outputs": [
    {
     "data": {
      "text/plain": [
       "1    0.735849\n",
       "0    0.264151\n",
       "Name: subreddit, dtype: float64"
      ]
     },
     "execution_count": 21,
     "metadata": {},
     "output_type": "execute_result"
    }
   ],
   "source": [
    "df[(df['selftext'] == 'Title') | (df['selftext'] == 'Title.') | (df['selftext'] == 'title') | (df['selftext'] == 'Title says it all')]['subreddit'].value_counts(normalize=True)"
   ]
  },
  {
   "cell_type": "markdown",
   "metadata": {},
   "source": [
    "It looks like roughly 74% of posts that included some generic form of the word 'Title' were all from the Playstation subreddit."
   ]
  },
  {
   "cell_type": "markdown",
   "metadata": {},
   "source": [
    "Some of these posts with [deleted] selftext still have a) valid titles and b) comments, so I could entertain arguments in support of keeping them. The titles still may represent patterns of communication popular among those who post in their respective subreddits. On the other hand, because there is not a particularly strong correlation to either Xbox or Playstation among posts that include the [deleted] selftext, I'm not sure it's actually going to help my classification model. The same could be said for titles that include some form of 'help' or 'thanks'. I want to check if the actual titles have similar patterns."
   ]
  },
  {
   "cell_type": "code",
   "execution_count": 22,
   "metadata": {},
   "outputs": [
    {
     "data": {
      "text/plain": [
       "I need help                20\n",
       "Quick question             12\n",
       "Help                       11\n",
       "Backwards compatibility    10\n",
       "I need some help            8\n",
       "Help please                 7\n",
       "Xbox live                   7\n",
       "Please help                 6\n",
       "I have a question           5\n",
       "Game pass question          5\n",
       "Name: title, dtype: int64"
      ]
     },
     "execution_count": 22,
     "metadata": {},
     "output_type": "execute_result"
    }
   ],
   "source": [
    "df['title'].value_counts().head(10)"
   ]
  },
  {
   "cell_type": "markdown",
   "metadata": {},
   "source": [
    "There appear to be much fewer repeats of titles as compared to selftext - the most used title only appears 20 times out of 20k rows! I wonder if the 'help' themed titles break down similarly in proportion between the subreddits to how the 'help' selftext was distributed?"
   ]
  },
  {
   "cell_type": "code",
   "execution_count": 23,
   "metadata": {},
   "outputs": [
    {
     "data": {
      "text/plain": [
       "1    0.653846\n",
       "0    0.346154\n",
       "Name: subreddit, dtype: float64"
      ]
     },
     "execution_count": 23,
     "metadata": {},
     "output_type": "execute_result"
    }
   ],
   "source": [
    "df[(df['title'] == 'I need help') | (df['title'] == 'Help') | (df['title'] == 'I need some help') | (df['title'] == 'Help please') | (df['title'] == 'Please help')]['subreddit'].value_counts(normalize=True)"
   ]
  },
  {
   "cell_type": "markdown",
   "metadata": {},
   "source": [
    "Interesting. About 65% of the 'help' themed titles are from the Playstation subreddit, which is not far off the split of the 'help' themed selftexts (61%). That word might actually prove to be a *helpful* feature in my classification model."
   ]
  },
  {
   "cell_type": "markdown",
   "metadata": {},
   "source": [
    "In conclusion RE what to do with these duplicate titles and selftexts, I'm going to eliminate the posts the have [deleted] as their selftext. I don't want that word to skew my model - I could remove the word but I'm not sure it's fair to imagine these deleted posts to be the same as posts for which no self-text was entered, of which there are a substantial amount (971) as we saw earlier. Without knowing the circumstances of each post deletion, I cannot definitively say whether these deleted posts are a helpful representation of their subreddit because I don't know the circumstances of deletion or how long they were even up prior to deletion.  \n",
    "\n",
    "With regards to the other recurring selftext and title keywords, I am going to keep them. In most cases there is an above 70% correlation to one subreddit or the other for the given words, and in the case of 'help' themed titles/selftext, while the diparity is not the different, it does seem to be consistently reflected both in title and selftext distribution so it may yet prove to be significant."
   ]
  },
  {
   "cell_type": "code",
   "execution_count": 24,
   "metadata": {},
   "outputs": [],
   "source": [
    "df = df.copy()"
   ]
  },
  {
   "cell_type": "code",
   "execution_count": 25,
   "metadata": {},
   "outputs": [],
   "source": [
    "df = df[df['selftext'].map(lambda x: x != '[deleted]')]"
   ]
  },
  {
   "cell_type": "code",
   "execution_count": 26,
   "metadata": {},
   "outputs": [
    {
     "data": {
      "text/plain": [
       "Title          35\n",
       ".              32\n",
       "?              14\n",
       "Help           10\n",
       "Please help     8\n",
       "Name: selftext, dtype: int64"
      ]
     },
     "execution_count": 26,
     "metadata": {},
     "output_type": "execute_result"
    }
   ],
   "source": [
    "df['selftext'].value_counts().head(5)"
   ]
  },
  {
   "cell_type": "markdown",
   "metadata": {},
   "source": [
    "Okay, that did it!  \n",
    "\n",
    "Next, I want to create a new column that concatenates the 'selftext' and 'title' column text together in order to be able to include all of their combined text in my model. Before I can do that, I need to take care of the null values in my selftext column."
   ]
  },
  {
   "cell_type": "code",
   "execution_count": 27,
   "metadata": {},
   "outputs": [
    {
     "data": {
      "text/plain": [
       "subreddit         0\n",
       "id                0\n",
       "author            0\n",
       "num_comments      0\n",
       "selftext        963\n",
       "title             0\n",
       "upvote_ratio      0\n",
       "url               0\n",
       "dtype: int64"
      ]
     },
     "execution_count": 27,
     "metadata": {},
     "output_type": "execute_result"
    }
   ],
   "source": [
    "df.isnull().sum()"
   ]
  },
  {
   "cell_type": "code",
   "execution_count": 28,
   "metadata": {},
   "outputs": [],
   "source": [
    "df.fillna('', inplace=True) #replace nan selftext values with empty string"
   ]
  },
  {
   "cell_type": "code",
   "execution_count": 29,
   "metadata": {},
   "outputs": [],
   "source": [
    "df['all_text'] = df['title'] + ' ' + df['selftext'] #concatenate title and selftext into one string"
   ]
  },
  {
   "cell_type": "code",
   "execution_count": 30,
   "metadata": {},
   "outputs": [
    {
     "data": {
      "text/html": [
       "<div>\n",
       "<style scoped>\n",
       "    .dataframe tbody tr th:only-of-type {\n",
       "        vertical-align: middle;\n",
       "    }\n",
       "\n",
       "    .dataframe tbody tr th {\n",
       "        vertical-align: top;\n",
       "    }\n",
       "\n",
       "    .dataframe thead th {\n",
       "        text-align: right;\n",
       "    }\n",
       "</style>\n",
       "<table border=\"1\" class=\"dataframe\">\n",
       "  <thead>\n",
       "    <tr style=\"text-align: right;\">\n",
       "      <th></th>\n",
       "      <th>subreddit</th>\n",
       "      <th>id</th>\n",
       "      <th>author</th>\n",
       "      <th>num_comments</th>\n",
       "      <th>selftext</th>\n",
       "      <th>title</th>\n",
       "      <th>upvote_ratio</th>\n",
       "      <th>url</th>\n",
       "      <th>all_text</th>\n",
       "    </tr>\n",
       "  </thead>\n",
       "  <tbody>\n",
       "    <tr>\n",
       "      <th>1</th>\n",
       "      <td>0</td>\n",
       "      <td>jc3ty3</td>\n",
       "      <td>jaaytf_</td>\n",
       "      <td>2</td>\n",
       "      <td>hey so my xbox one is turning on and instantly...</td>\n",
       "      <td>xbox one problems:)</td>\n",
       "      <td>1.0</td>\n",
       "      <td>https://www.reddit.com/r/xbox/comments/jc3ty3/...</td>\n",
       "      <td>xbox one problems:) hey so my xbox one is turn...</td>\n",
       "    </tr>\n",
       "    <tr>\n",
       "      <th>2</th>\n",
       "      <td>0</td>\n",
       "      <td>jc3tg4</td>\n",
       "      <td>Matty_Rts</td>\n",
       "      <td>0</td>\n",
       "      <td>For context, I purchased game pass on Xbox One...</td>\n",
       "      <td>My Preorder download for Beyond Light Disappea...</td>\n",
       "      <td>1.0</td>\n",
       "      <td>https://www.reddit.com/r/xbox/comments/jc3tg4/...</td>\n",
       "      <td>My Preorder download for Beyond Light Disappea...</td>\n",
       "    </tr>\n",
       "    <tr>\n",
       "      <th>3</th>\n",
       "      <td>0</td>\n",
       "      <td>jc39t3</td>\n",
       "      <td>Rorydo44</td>\n",
       "      <td>2</td>\n",
       "      <td>I had $50 worth of gift cards in my account an...</td>\n",
       "      <td>Missing gift cards</td>\n",
       "      <td>1.0</td>\n",
       "      <td>https://www.reddit.com/r/xbox/comments/jc39t3/...</td>\n",
       "      <td>Missing gift cards I had $50 worth of gift car...</td>\n",
       "    </tr>\n",
       "    <tr>\n",
       "      <th>4</th>\n",
       "      <td>0</td>\n",
       "      <td>jc37vv</td>\n",
       "      <td>NonsenseText</td>\n",
       "      <td>0</td>\n",
       "      <td>Hi everyone! \\n\\nI would like to learn more ab...</td>\n",
       "      <td>Advice for Xbox online security?</td>\n",
       "      <td>1.0</td>\n",
       "      <td>https://www.reddit.com/r/xbox/comments/jc37vv/...</td>\n",
       "      <td>Advice for Xbox online security? Hi everyone! ...</td>\n",
       "    </tr>\n",
       "    <tr>\n",
       "      <th>5</th>\n",
       "      <td>0</td>\n",
       "      <td>jc36eg</td>\n",
       "      <td>Mondo-Butter-21</td>\n",
       "      <td>4</td>\n",
       "      <td>Srsly tho, how tf did Doom Eternal get onto th...</td>\n",
       "      <td>Anyone else think it’s fucking hilarious that ...</td>\n",
       "      <td>1.0</td>\n",
       "      <td>https://www.reddit.com/r/xbox/comments/jc36eg/...</td>\n",
       "      <td>Anyone else think it’s fucking hilarious that ...</td>\n",
       "    </tr>\n",
       "  </tbody>\n",
       "</table>\n",
       "</div>"
      ],
      "text/plain": [
       "   subreddit      id           author  num_comments  \\\n",
       "1          0  jc3ty3          jaaytf_             2   \n",
       "2          0  jc3tg4        Matty_Rts             0   \n",
       "3          0  jc39t3         Rorydo44             2   \n",
       "4          0  jc37vv     NonsenseText             0   \n",
       "5          0  jc36eg  Mondo-Butter-21             4   \n",
       "\n",
       "                                            selftext  \\\n",
       "1  hey so my xbox one is turning on and instantly...   \n",
       "2  For context, I purchased game pass on Xbox One...   \n",
       "3  I had $50 worth of gift cards in my account an...   \n",
       "4  Hi everyone! \\n\\nI would like to learn more ab...   \n",
       "5  Srsly tho, how tf did Doom Eternal get onto th...   \n",
       "\n",
       "                                               title  upvote_ratio  \\\n",
       "1                                xbox one problems:)           1.0   \n",
       "2  My Preorder download for Beyond Light Disappea...           1.0   \n",
       "3                                 Missing gift cards           1.0   \n",
       "4                   Advice for Xbox online security?           1.0   \n",
       "5  Anyone else think it’s fucking hilarious that ...           1.0   \n",
       "\n",
       "                                                 url  \\\n",
       "1  https://www.reddit.com/r/xbox/comments/jc3ty3/...   \n",
       "2  https://www.reddit.com/r/xbox/comments/jc3tg4/...   \n",
       "3  https://www.reddit.com/r/xbox/comments/jc39t3/...   \n",
       "4  https://www.reddit.com/r/xbox/comments/jc37vv/...   \n",
       "5  https://www.reddit.com/r/xbox/comments/jc36eg/...   \n",
       "\n",
       "                                            all_text  \n",
       "1  xbox one problems:) hey so my xbox one is turn...  \n",
       "2  My Preorder download for Beyond Light Disappea...  \n",
       "3  Missing gift cards I had $50 worth of gift car...  \n",
       "4  Advice for Xbox online security? Hi everyone! ...  \n",
       "5  Anyone else think it’s fucking hilarious that ...  "
      ]
     },
     "execution_count": 30,
     "metadata": {},
     "output_type": "execute_result"
    }
   ],
   "source": [
    "df.head() #preview"
   ]
  },
  {
   "cell_type": "markdown",
   "metadata": {},
   "source": [
    "Easy enough! Now I can build a classification model based on the 'all_text' column with the maximum amount of text to differentiate between post origin subreddit."
   ]
  },
  {
   "cell_type": "markdown",
   "metadata": {},
   "source": [
    "### Significant Words  \n",
    "\n",
    "Before I launch into modeling, I want to take a look at my data, by subreddit and as a whole, to see which words and/or phrases appear most frequently. I'd also be interested to see if there is any clear sentiment distinctions among or between the two subreddits. Finally, I'd be curious to know how much overlap (if any) there is between usernames of posters - do some redditors contribute to both Xbox and Playstation?"
   ]
  },
  {
   "cell_type": "markdown",
   "metadata": {},
   "source": [
    "#### Tokenize/Lemmatize/Group  \n",
    "To do this effectively, I'm going to make 2 more dataframes from my clean dataframe, each containing only 1 subreddit's information. That way I can evaluate not only the words that run through all 20k rows but also the words unique to each subreddit. I'm also going to write a function to perform the tokenizing, lemmatizing, and subsequent bar chart of most frequent words all in one execution, then I can just call it in three times to get the information I want."
   ]
  },
  {
   "cell_type": "code",
   "execution_count": 32,
   "metadata": {},
   "outputs": [],
   "source": [
    "x_clean = df[df['subreddit']==0] #new clean xbox-only dataframe\n",
    "ps_clean = df[df['subreddit']==1] #new clean playstation only dataframe"
   ]
  },
  {
   "cell_type": "code",
   "execution_count": 37,
   "metadata": {},
   "outputs": [],
   "source": [
    "#from lesson 5.03 \n",
    "#https://stackoverflow.com/questions/40902430/lemmatization-inside-array-using-nltk-python\n",
    "from nltk.corpus import stopwords\n",
    "from nltk.stem import WordNetLemmatizer\n",
    "from nltk.tokenize import RegexpTokenizer\n",
    "lemmatizer = WordNetLemmatizer()\n",
    "tokenizer = RegexpTokenizer(r'\\w+') #create tokenizer to remove punctuation\n",
    "\n",
    "def tokemmetizer(dataframe): #create function to tokenize and lemmatize\n",
    "    X = dataframe['all_text']\n",
    "    X_tokens = [tokenizer.tokenize(word) for word in X] #tokenize all words\n",
    "    X_lem = []\n",
    "    for item in X_tokens:\n",
    "        X_post = []\n",
    "        for word in item:\n",
    "            if word not in stopwords.words('english'):\n",
    "                X_post.append(lemmatizer.lemmatize(word)) #remove stop words\n",
    "        X_lem.append(' '.join(X_post)) #rejoin lemmatized word list into strings\n",
    "    return X_lem\n",
    "\n",
    "def \n",
    "    "
   ]
  },
  {
   "cell_type": "code",
   "execution_count": 39,
   "metadata": {},
   "outputs": [],
   "source": [
    "#tokemmetizer(df) #takes a LONG time to run!"
   ]
  },
  {
   "cell_type": "markdown",
   "metadata": {},
   "source": [
    "#### Sentiment"
   ]
  },
  {
   "cell_type": "code",
   "execution_count": 45,
   "metadata": {},
   "outputs": [],
   "source": [
    "#referred to lesson 5.03\n",
    "import nltk\n",
    "from nltk.sentiment.vader import SentimentIntensityAnalyzer\n",
    "sentiment = SentimentIntensityAnalyzer()\n",
    "\n",
    "def avg_sentiment(dataframe):\n",
    "    return round(np.mean([sentiment.polarity_scores(post)['compound'] for post in dataframe]),2)"
   ]
  },
  {
   "cell_type": "code",
   "execution_count": 48,
   "metadata": {},
   "outputs": [
    {
     "name": "stdout",
     "output_type": "stream",
     "text": [
      "The overall sentiment for both subreddits is: 0.27\n",
      "The sentiment for the Xbox subreddit is: 0.29\n",
      "The sentiment for the Playstation subreddit is: 0.26\n"
     ]
    }
   ],
   "source": [
    "print(f\"The overall sentiment for both subreddits is: {avg_sentiment(df['all_text'])}\")\n",
    "print(f\"The sentiment for the Xbox subreddit is: {avg_sentiment(x_clean['all_text'])}\")\n",
    "print(f\"The sentiment for the Playstation subreddit is: {avg_sentiment(ps_clean['all_text'])}\")"
   ]
  },
  {
   "cell_type": "markdown",
   "metadata": {},
   "source": [
    "In this case it appears each subreddit has a slight positive tilt, leading to an overall positive sentiment for the combined DataFrame."
   ]
  },
  {
   "cell_type": "markdown",
   "metadata": {},
   "source": [
    "#### Usernames"
   ]
  },
  {
   "cell_type": "code",
   "execution_count": null,
   "metadata": {},
   "outputs": [],
   "source": []
  },
  {
   "cell_type": "markdown",
   "metadata": {},
   "source": [
    "### Epilogue  \n",
    "\n",
    "Alright, this data is cleaned up and ready for modeling. I'm going to save it as its own .csv file and then I'll load it into a new classification notebook to build and test some models."
   ]
  },
  {
   "cell_type": "code",
   "execution_count": 34,
   "metadata": {},
   "outputs": [],
   "source": [
    "#df.to_csv('./sub_data/clean_subs.csv', index=False)"
   ]
  }
 ],
 "metadata": {
  "kernelspec": {
   "display_name": "Python 3",
   "language": "python",
   "name": "python3"
  },
  "language_info": {
   "codemirror_mode": {
    "name": "ipython",
    "version": 3
   },
   "file_extension": ".py",
   "mimetype": "text/x-python",
   "name": "python",
   "nbconvert_exporter": "python",
   "pygments_lexer": "ipython3",
   "version": "3.8.3"
  }
 },
 "nbformat": 4,
 "nbformat_minor": 4
}
