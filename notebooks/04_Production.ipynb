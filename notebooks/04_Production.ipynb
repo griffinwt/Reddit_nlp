{
 "cells": [
  {
   "cell_type": "markdown",
   "metadata": {},
   "source": [
    "## 04 Production  \n",
    "This notebook highlights my most accurate classification model plus the model that best differentiates words common to r/Playstation.  \n",
    "\n",
    "#### Skip Ahead:  \n",
    "[Model 13](#Model-13)  \n",
    "[Model 14](#Model-14)  \n",
    "[Conclusion](#Conclusion)"
   ]
  },
  {
   "cell_type": "code",
   "execution_count": 8,
   "metadata": {},
   "outputs": [],
   "source": [
    "#imports\n",
    "#common code:\n",
    "from scipy.stats import ttest_ind\n",
    "import pandas as pd\n",
    "import numpy as np\n",
    "from scipy import stats\n",
    "import seaborn as sns\n",
    "import matplotlib.pyplot as plt\n",
    "import re\n",
    "#week 3\n",
    "from sklearn.linear_model import LinearRegression\n",
    "from sklearn import metrics\n",
    "import statsmodels.api as sm\n",
    "from sklearn.model_selection import train_test_split, cross_val_score\n",
    "from sklearn.preprocessing import StandardScaler, PolynomialFeatures\n",
    "#week 4\n",
    "from sklearn.linear_model import Ridge\n",
    "from sklearn.linear_model import RidgeCV\n",
    "from sklearn.linear_model import Lasso, LassoCV\n",
    "from sklearn.linear_model import LogisticRegression\n",
    "from sklearn.model_selection import train_test_split, GridSearchCV\n",
    "from sklearn.preprocessing import StandardScaler\n",
    "from sklearn.neighbors import KNeighborsClassifier\n",
    "from sklearn.pipeline import Pipeline\n",
    "from sklearn.metrics import confusion_matrix, plot_confusion_matrix\n",
    "#week 5\n",
    "import requests\n",
    "from bs4 import BeautifulSoup\n",
    "import time\n",
    "from sklearn.feature_extraction.text import CountVectorizer, TfidfVectorizer\n",
    "from sklearn.naive_bayes import MultinomialNB\n",
    "from sklearn.ensemble import RandomForestClassifier, ExtraTreesClassifier\n",
    "from nltk.stem import WordNetLemmatizer\n",
    "from nltk.tokenize import RegexpTokenizer\n",
    "from nltk.corpus import stopwords"
   ]
  },
  {
   "cell_type": "code",
   "execution_count": 9,
   "metadata": {},
   "outputs": [],
   "source": [
    "df = pd.read_csv('../sub_data/clean_subs.csv')"
   ]
  },
  {
   "cell_type": "code",
   "execution_count": 10,
   "metadata": {},
   "outputs": [],
   "source": [
    "#df.head() #preview"
   ]
  },
  {
   "cell_type": "code",
   "execution_count": 11,
   "metadata": {},
   "outputs": [],
   "source": [
    "X = df['all_text']\n",
    "y = df['subreddit']"
   ]
  },
  {
   "cell_type": "code",
   "execution_count": 12,
   "metadata": {},
   "outputs": [
    {
     "data": {
      "text/plain": [
       "1    0.50237\n",
       "0    0.49763\n",
       "Name: subreddit, dtype: float64"
      ]
     },
     "execution_count": 12,
     "metadata": {},
     "output_type": "execute_result"
    }
   ],
   "source": [
    "y.value_counts(normalize=True)"
   ]
  },
  {
   "cell_type": "code",
   "execution_count": 13,
   "metadata": {},
   "outputs": [],
   "source": [
    "#split data\n",
    "X_train, X_test, y_train, y_test = train_test_split(X,y, random_state=17)"
   ]
  },
  {
   "cell_type": "markdown",
   "metadata": {},
   "source": [
    "### Model 13"
   ]
  },
  {
   "cell_type": "markdown",
   "metadata": {},
   "source": [
    "This is a Logistic Regression classification model using the best parameters as identified by my gridsearch in the \"Modeling\" notebook."
   ]
  },
  {
   "cell_type": "code",
   "execution_count": 25,
   "metadata": {},
   "outputs": [
    {
     "name": "stdout",
     "output_type": "stream",
     "text": [
      "The cross val score is: 0.9219950804414306\n",
      "The best training score was: 0.9749949038526874\n",
      "The test score is: 0.9219323277619241\n"
     ]
    },
    {
     "data": {
      "image/png": "[encoded data removed]",
      "text/plain": [
       "<Figure size 432x288 with 1 Axes>"
      ]
     },
     "metadata": {
      "needs_background": "light"
     },
     "output_type": "display_data"
    }
   ],
   "source": [
    "cvec = CountVectorizer(max_features=20_000,\n",
    "                       min_df=4, \n",
    "                       max_df = .4,\n",
    "                       ngram_range=(1,2),\n",
    "                       stop_words=stopwords.words('english'))\n",
    "X_train_c = cvec.fit_transform(X_train)\n",
    "X_test_c = cvec.transform(X_test)\n",
    "#only use best hyperparameters that above grid search preferred\n",
    "logreg = LogisticRegression(C=.1,\n",
    "                           max_iter = 1000,\n",
    "                           solver='liblinear')\n",
    "\n",
    "logreg.fit(X_train_c, y_train)\n",
    "\n",
    "\n",
    "print(f'The cross val score is: {cross_val_score(logreg, X_train_c, y_train).mean()}')\n",
    "print(f'The best training score was: {logreg.score(X_train_c, y_train)}')\n",
    "print(f'The test score is: {logreg.score(X_test_c, y_test)}')\n",
    "metrics.plot_roc_curve(logreg, X_test_c, y_test);\n",
    "#plt.savefig('../images/best_roc.png', dpi=200, bbox_inches='tight');"
   ]
  },
  {
   "cell_type": "markdown",
   "metadata": {},
   "source": [
    "There we go - the cross-val score on the training set is extremely close to the test score, suggesting that we have not only a good fit but a model that can generalize well on unseen data. We also see a good AUC score on the ROC curve."
   ]
  },
  {
   "cell_type": "code",
   "execution_count": 26,
   "metadata": {},
   "outputs": [
    {
     "data": {
      "image/png": "[encoded data removed]",
      "text/plain": [
       "<Figure size 432x288 with 2 Axes>"
      ]
     },
     "metadata": {
      "needs_background": "light"
     },
     "output_type": "display_data"
    },
    {
     "name": "stdout",
     "output_type": "stream",
     "text": [
      "The Accurracy score is 0.9219323277619241\n",
      "The Sensitivity score is 0.9171337069655725\n",
      "The Precision score is 0.9286582894203486\n"
     ]
    }
   ],
   "source": [
    "preds = logreg.predict(X_test_c)\n",
    "tn, fp, fn, tp = confusion_matrix(y_test, preds).ravel()\n",
    "\n",
    "plot_confusion_matrix(logreg, X_test_c, y_test, cmap='cubehelix', values_format='d');\n",
    "#plt.savefig('../images/best_conf.png', dpi=200, bbox_inches='tight')\n",
    "plt.show()\n",
    "print(f'The Accurracy score is {metrics.accuracy_score(y_test, preds)}')\n",
    "print(f'The Sensitivity score is {metrics.recall_score(y_test, preds)}')\n",
    "print(f'The Precision score is {metrics.precision_score(y_test, preds)}')"
   ]
  },
  {
   "cell_type": "code",
   "execution_count": 16,
   "metadata": {},
   "outputs": [
    {
     "name": "stdout",
     "output_type": "stream",
     "text": [
      "The F1 score is 0.9228600201409869\n"
     ]
    }
   ],
   "source": [
    "print(f'The F1 score is {metrics.f1_score(y_test, preds)}')"
   ]
  },
  {
   "cell_type": "markdown",
   "metadata": {},
   "source": [
    "This is a better F1 score than my best Naive Bayes or Random Forest models!"
   ]
  },
  {
   "cell_type": "code",
   "execution_count": 17,
   "metadata": {},
   "outputs": [
    {
     "data": {
      "text/html": [
       "<div>\n",
       "<style scoped>\n",
       "    .dataframe tbody tr th:only-of-type {\n",
       "        vertical-align: middle;\n",
       "    }\n",
       "\n",
       "    .dataframe tbody tr th {\n",
       "        vertical-align: top;\n",
       "    }\n",
       "\n",
       "    .dataframe thead th {\n",
       "        text-align: right;\n",
       "    }\n",
       "</style>\n",
       "<table border=\"1\" class=\"dataframe\">\n",
       "  <thead>\n",
       "    <tr style=\"text-align: right;\">\n",
       "      <th></th>\n",
       "      <th>coef</th>\n",
       "      <th>exp_coefs</th>\n",
       "      <th>coef_abs</th>\n",
       "    </tr>\n",
       "  </thead>\n",
       "  <tbody>\n",
       "    <tr>\n",
       "      <th>playstation</th>\n",
       "      <td>2.642689</td>\n",
       "      <td>14.050938</td>\n",
       "      <td>2.642689</td>\n",
       "    </tr>\n",
       "    <tr>\n",
       "      <th>ps5</th>\n",
       "      <td>2.477325</td>\n",
       "      <td>11.909364</td>\n",
       "      <td>2.477325</td>\n",
       "    </tr>\n",
       "    <tr>\n",
       "      <th>ps4</th>\n",
       "      <td>2.125546</td>\n",
       "      <td>8.377472</td>\n",
       "      <td>2.125546</td>\n",
       "    </tr>\n",
       "    <tr>\n",
       "      <th>xbox</th>\n",
       "      <td>-2.036876</td>\n",
       "      <td>0.130436</td>\n",
       "      <td>2.036876</td>\n",
       "    </tr>\n",
       "    <tr>\n",
       "      <th>ps</th>\n",
       "      <td>1.885038</td>\n",
       "      <td>6.586607</td>\n",
       "      <td>1.885038</td>\n",
       "    </tr>\n",
       "    <tr>\n",
       "      <th>psn</th>\n",
       "      <td>1.694283</td>\n",
       "      <td>5.442743</td>\n",
       "      <td>1.694283</td>\n",
       "    </tr>\n",
       "    <tr>\n",
       "      <th>sony</th>\n",
       "      <td>1.466438</td>\n",
       "      <td>4.333770</td>\n",
       "      <td>1.466438</td>\n",
       "    </tr>\n",
       "    <tr>\n",
       "      <th>series</th>\n",
       "      <td>-1.433064</td>\n",
       "      <td>0.238577</td>\n",
       "      <td>1.433064</td>\n",
       "    </tr>\n",
       "    <tr>\n",
       "      <th>ps3</th>\n",
       "      <td>1.196478</td>\n",
       "      <td>3.308445</td>\n",
       "      <td>1.196478</td>\n",
       "    </tr>\n",
       "    <tr>\n",
       "      <th>dualshock</th>\n",
       "      <td>1.002451</td>\n",
       "      <td>2.724953</td>\n",
       "      <td>1.002451</td>\n",
       "    </tr>\n",
       "  </tbody>\n",
       "</table>\n",
       "</div>"
      ],
      "text/plain": [
       "                 coef  exp_coefs  coef_abs\n",
       "playstation  2.642689  14.050938  2.642689\n",
       "ps5          2.477325  11.909364  2.477325\n",
       "ps4          2.125546   8.377472  2.125546\n",
       "xbox        -2.036876   0.130436  2.036876\n",
       "ps           1.885038   6.586607  1.885038\n",
       "psn          1.694283   5.442743  1.694283\n",
       "sony         1.466438   4.333770  1.466438\n",
       "series      -1.433064   0.238577  1.433064\n",
       "ps3          1.196478   3.308445  1.196478\n",
       "dualshock    1.002451   2.724953  1.002451"
      ]
     },
     "execution_count": 17,
     "metadata": {},
     "output_type": "execute_result"
    }
   ],
   "source": [
    "lr_coef_df = pd.DataFrame(logreg.coef_, #exponentiate coefficients from logistic regression\n",
    "                          columns = cvec.get_feature_names())\n",
    "lr_coef_df.rename(index={0:'coef'}, inplace=True)\n",
    "lr_coef_df = lr_coef_df.T #rotate dataframe\n",
    "lr_coef_df['exp_coefs'] = np.exp(lr_coef_df['coef'])\n",
    "lr_coef_df['coef_abs'] = lr_coef_df['coef'].abs()\n",
    "lr_coef_df.sort_values(by='coef_abs', ascending=False).head(10)\n",
    "#print(lr_coef_df.sort_values(by='coef_abs', ascending=False).head(10).to_markdown())"
   ]
  },
  {
   "cell_type": "markdown",
   "metadata": {},
   "source": [
    "This table shows the coefficients sort by the largest (absolute value). For comparision, it also shows the exponentiated coefficients since we used Logistic Regression. We can see that the words we expect to indicate playstation naturally have the largest values, while similarly the words we would associate with Xbox have the smallest values."
   ]
  },
  {
   "cell_type": "markdown",
   "metadata": {},
   "source": [
    "### Model 14  \n",
    "For this last model, I am going to attempt to remove as many unique \"Xbox\" and \"Playstation\" words as possible by appending them to my stop words list. While this is very unlikely to improve my overall accuracy, it should give a better picture of what different language choices authors in the two subreddits make outside of console-specific terminology."
   ]
  },
  {
   "cell_type": "code",
   "execution_count": 18,
   "metadata": {},
   "outputs": [],
   "source": [
    "#https://stackoverflow.com/questions/5511708/adding-words-to-nltk-stoplist\n",
    "#appending unique terminology to stop words list\n",
    "sword_list = set(stopwords.words('english'))\n",
    "sword_list.update(['playstation', 'ps5', 'ps4', 'ps3', 'ps', 'psn', 'sony', 'xbox', 'series', 'dualshock',\n",
    "                  'plus', 'ps2', 'slim', 'gamepass', 'microsoft', 'gamertage', 'pro',\n",
    "                  '360', 'elite', 'gamertag', 'ps1', 'ultimate', 'gold', 'halo', 'xsx', 'one',\n",
    "                  'live', 'xcloud', 'trophies', 'trophy', 'ds4', 'ms', 'psnow', 'psvr', 'kinect',\n",
    "                   'vita', 'primary', 'bloodborne', 'ghost', 'infinite', 'forza',\n",
    "                  'achievements', 'gears', 'updating', 'library', 'id', 'psp', 'og', 'batteries',\n",
    "                  'playstations', 'tsushima', 'platinum', 'ps4s'])"
   ]
  },
  {
   "cell_type": "code",
   "execution_count": 19,
   "metadata": {},
   "outputs": [
    {
     "name": "stdout",
     "output_type": "stream",
     "text": [
      "The best training score was: 0.8857104029353808\n",
      "The test score is: 0.7128006522625356\n"
     ]
    }
   ],
   "source": [
    "\n",
    "cvec = CountVectorizer(max_features=20_000,\n",
    "                       min_df=4, \n",
    "                       max_df = .4,\n",
    "                       ngram_range=(1,2),\n",
    "                       stop_words=sword_list)\n",
    "X_train_c = cvec.fit_transform(X_train)\n",
    "X_test_c = cvec.transform(X_test)\n",
    "#only use best hyperparameters that above grid search preferred\n",
    "logreg = LogisticRegression(C=.1,\n",
    "                           max_iter = 1000,\n",
    "                           solver='liblinear')\n",
    "\n",
    "logreg.fit(X_train_c, y_train)\n",
    "\n",
    "print(f'The best training score was: {logreg.score(X_train_c, y_train)}')\n",
    "print(f'The test score is: {logreg.score(X_test_c, y_test)}')"
   ]
  },
  {
   "cell_type": "code",
   "execution_count": 20,
   "metadata": {},
   "outputs": [
    {
     "data": {
      "text/html": [
       "<div>\n",
       "<style scoped>\n",
       "    .dataframe tbody tr th:only-of-type {\n",
       "        vertical-align: middle;\n",
       "    }\n",
       "\n",
       "    .dataframe tbody tr th {\n",
       "        vertical-align: top;\n",
       "    }\n",
       "\n",
       "    .dataframe thead th {\n",
       "        text-align: right;\n",
       "    }\n",
       "</style>\n",
       "<table border=\"1\" class=\"dataframe\">\n",
       "  <thead>\n",
       "    <tr style=\"text-align: right;\">\n",
       "      <th></th>\n",
       "      <th>coef</th>\n",
       "      <th>exp_coefs</th>\n",
       "      <th>coef_abs</th>\n",
       "    </tr>\n",
       "  </thead>\n",
       "  <tbody>\n",
       "    <tr>\n",
       "      <th>last us</th>\n",
       "      <td>0.891795</td>\n",
       "      <td>2.439504</td>\n",
       "      <td>0.891795</td>\n",
       "    </tr>\n",
       "    <tr>\n",
       "      <th>remote play</th>\n",
       "      <td>0.874625</td>\n",
       "      <td>2.397975</td>\n",
       "      <td>0.874625</td>\n",
       "    </tr>\n",
       "    <tr>\n",
       "      <th>banned</th>\n",
       "      <td>0.694134</td>\n",
       "      <td>2.001975</td>\n",
       "      <td>0.694134</td>\n",
       "    </tr>\n",
       "    <tr>\n",
       "      <th>hacked</th>\n",
       "      <td>0.681458</td>\n",
       "      <td>1.976757</td>\n",
       "      <td>0.681458</td>\n",
       "    </tr>\n",
       "    <tr>\n",
       "      <th>fall guys</th>\n",
       "      <td>0.670572</td>\n",
       "      <td>1.955355</td>\n",
       "      <td>0.670572</td>\n",
       "    </tr>\n",
       "    <tr>\n",
       "      <th>wallet</th>\n",
       "      <td>0.665569</td>\n",
       "      <td>1.945598</td>\n",
       "      <td>0.665569</td>\n",
       "    </tr>\n",
       "    <tr>\n",
       "      <th>safe mode</th>\n",
       "      <td>0.654261</td>\n",
       "      <td>1.923720</td>\n",
       "      <td>0.654261</td>\n",
       "    </tr>\n",
       "    <tr>\n",
       "      <th>database</th>\n",
       "      <td>0.614393</td>\n",
       "      <td>1.848534</td>\n",
       "      <td>0.614393</td>\n",
       "    </tr>\n",
       "    <tr>\n",
       "      <th>3d</th>\n",
       "      <td>0.585130</td>\n",
       "      <td>1.795224</td>\n",
       "      <td>0.585130</td>\n",
       "    </tr>\n",
       "    <tr>\n",
       "      <th>network</th>\n",
       "      <td>0.582289</td>\n",
       "      <td>1.790132</td>\n",
       "      <td>0.582289</td>\n",
       "    </tr>\n",
       "  </tbody>\n",
       "</table>\n",
       "</div>"
      ],
      "text/plain": [
       "                 coef  exp_coefs  coef_abs\n",
       "last us      0.891795   2.439504  0.891795\n",
       "remote play  0.874625   2.397975  0.874625\n",
       "banned       0.694134   2.001975  0.694134\n",
       "hacked       0.681458   1.976757  0.681458\n",
       "fall guys    0.670572   1.955355  0.670572\n",
       "wallet       0.665569   1.945598  0.665569\n",
       "safe mode    0.654261   1.923720  0.654261\n",
       "database     0.614393   1.848534  0.614393\n",
       "3d           0.585130   1.795224  0.585130\n",
       "network      0.582289   1.790132  0.582289"
      ]
     },
     "execution_count": 20,
     "metadata": {},
     "output_type": "execute_result"
    }
   ],
   "source": [
    "lr_coef_df = pd.DataFrame(logreg.coef_, #exponentiate coefficients from logistic regression\n",
    "                          columns = cvec.get_feature_names())\n",
    "lr_coef_df.rename(index={0:'coef'}, inplace=True)\n",
    "lr_coef_df = lr_coef_df.T #rotate dataframe\n",
    "lr_coef_df['exp_coefs'] = np.exp(lr_coef_df['coef'])\n",
    "lr_coef_df['coef_abs'] = lr_coef_df['coef'].abs()\n",
    "lr_coef_df.sort_values(by='coef', ascending=False).head(10)"
   ]
  },
  {
   "cell_type": "markdown",
   "metadata": {},
   "source": [
    "After extensively removing unique identifying words from the model, here are the 10 strongest postitive coefficients meaning they are most indicative of our \"1\" which is r/playstation. If I were to generally categorize these words, I would group them as:  \n",
    "- Playstation exclusive games like Last (of) Us, Fall Guys (others were added to the stop word list to dig deeper)\n",
    "- Account/security concerns i.e. banned, hacked, wallet, safe mode, network\n",
    "- Highly anticipated features i.e. remote play and 3d"
   ]
  },
  {
   "cell_type": "markdown",
   "metadata": {},
   "source": [
    "### Conclusion"
   ]
  },
  {
   "cell_type": "markdown",
   "metadata": {},
   "source": [
    "Based on my analysis, I would recommend that any marketing efforts aimed at winning over former playstation users focus on Microsoft's answers to these concerns. Specifically, marketing referring to upcoming special Xbox-only games, ease of use and/or security of the Xbox account and online systems, and cutting edge advancements in online and remote play."
   ]
  }
 ],
 "metadata": {
  "kernelspec": {
   "display_name": "Python 3",
   "language": "python",
   "name": "python3"
  },
  "language_info": {
   "codemirror_mode": {
    "name": "ipython",
    "version": 3
   },
   "file_extension": ".py",
   "mimetype": "text/x-python",
   "name": "python",
   "nbconvert_exporter": "python",
   "pygments_lexer": "ipython3",
   "version": "3.8.3"
  }
 },
 "nbformat": 4,
 "nbformat_minor": 4
}
